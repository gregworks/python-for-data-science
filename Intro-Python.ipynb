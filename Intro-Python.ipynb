{
  "cells": [
    {
      "cell_type": "markdown",
      "metadata": {
        "id": "view-in-github",
        "colab_type": "text"
      },
      "source": [
        "<a href=\"https://colab.research.google.com/github/gregworks/python-for-data-science/blob/main/Intro-Python.ipynb\" target=\"_parent\"><img src=\"https://colab.research.google.com/assets/colab-badge.svg\" alt=\"Open In Colab\"/></a>"
      ]
    },
    {
      "cell_type": "markdown",
      "metadata": {
        "id": "i14P6UnVNsru"
      },
      "source": [
        "## Did you install Anaconda?\n",
        "\n",
        "- Install Anaconda (https://docs.anaconda.com/free/anaconda/install/)\n",
        "\n",
        "> Make sure to install the latest version"
      ]
    },
    {
      "cell_type": "markdown",
      "metadata": {
        "id": "vkEeXYQqNsry"
      },
      "source": [
        "<img src=\"https://github.com/gregworks/python-for-data-science/blob/main/images/border.jpg?raw=1\" height=\"10\" width=\"1500\" align=\"center\"/>"
      ]
    },
    {
      "cell_type": "markdown",
      "metadata": {
        "id": "rPzIVc-sNsrz"
      },
      "source": [
        "# Python for Data Science\n",
        "\n",
        "<img src=\"https://github.com/gregworks/python-for-data-science/blob/main/images/python.jpg?raw=1\" width=\"300\"  align=\"center\"/>\n"
      ]
    },
    {
      "cell_type": "markdown",
      "metadata": {
        "id": "KZ5Hkn7eNsr0"
      },
      "source": [
        "<img src=\"https://github.com/gregworks/python-for-data-science/blob/main/images/border.jpg?raw=1\" height=\"10\" width=\"1500\" align=\"center\"/>"
      ]
    },
    {
      "cell_type": "markdown",
      "metadata": {
        "id": "hD6m3qHeNsr0"
      },
      "source": [
        "# What is Python?\n",
        "* a scripting language\n",
        "* a programming language\n",
        "* a command interpreter\n",
        "* a dynamically typed language\n",
        "* an object-oriented language"
      ]
    },
    {
      "cell_type": "markdown",
      "metadata": {
        "id": "z8qXLpWnNsr0"
      },
      "source": [
        "<img src=\"https://github.com/gregworks/python-for-data-science/blob/main/images/border.jpg?raw=1\" height=\"10\" width=\"1500\" align=\"center\"/>"
      ]
    },
    {
      "cell_type": "markdown",
      "metadata": {
        "id": "-zb7rZ3wNsr1"
      },
      "source": [
        "# Why Use Python?\n",
        "* **P**opular\n",
        "* eas**Y**\n",
        "* fas**T** (sort of)\n",
        "* pit**H**y\n",
        "* br**O**ad\n",
        "* efficie**N**t\n",
        "* plus...\n",
        " * \"batteries included\"\n",
        " * _LARGE_ community\n",
        " * likable!"
      ]
    },
    {
      "cell_type": "markdown",
      "metadata": {
        "id": "nrGtOUTZNsr1"
      },
      "source": [
        "<img src=\"https://github.com/gregworks/python-for-data-science/blob/main/images/border.jpg?raw=1\" height=\"10\" width=\"1500\" align=\"center\"/>"
      ]
    },
    {
      "cell_type": "markdown",
      "metadata": {
        "id": "AgRba2sMNsr2"
      },
      "source": [
        "### Why Python?\n",
        "\n",
        "<img src=\"https://github.com/gregworks/python-for-data-science/blob/main/images/whypython.png?raw=1\" width=\"700\" height=\"500\" align=\"center\"/>"
      ]
    },
    {
      "cell_type": "markdown",
      "metadata": {
        "id": "gTBdj5D1Nsr2"
      },
      "source": [
        "<img src=\"https://github.com/gregworks/python-for-data-science/blob/main/images/border.jpg?raw=1\" height=\"10\" width=\"1500\" align=\"center\"/>"
      ]
    },
    {
      "cell_type": "markdown",
      "metadata": {
        "id": "hLMsN0BfNsr2"
      },
      "source": [
        "# Why Not Use Python?\n",
        "* CPU-bound applications can be faster in compiled languages (but not always!)\n",
        "* real-time applications\n",
        "* high-level–far from the metal"
      ]
    },
    {
      "cell_type": "markdown",
      "metadata": {
        "id": "UcN_q9OZNsr3"
      },
      "source": [
        "<img src=\"https://github.com/gregworks/python-for-data-science/blob/main/images/border.jpg?raw=1\" height=\"10\" width=\"1500\" align=\"center\"/>"
      ]
    },
    {
      "cell_type": "markdown",
      "metadata": {
        "id": "oRa_3gl1Nsr3"
      },
      "source": [
        "## How to get around in Jupyter:\n",
        "* Each place for you to enter text is called a _cell_\n",
        "* Usually you enter __`Python`__ code, but you can also enter text in a _markup_ language called __`Markdown`__ (that's what's going on in _this_ cell)\n",
        "* To \"run\" the code in the cell, hit __Shift-Return__ (i.e., hold down __Shift__ key, then hit __Return__)\n",
        "* Try it with the cell below..."
      ]
    },
    {
      "cell_type": "code",
      "execution_count": null,
      "metadata": {
        "id": "SBD47BCLNsr3"
      },
      "outputs": [],
      "source": [
        "x = 6.34\n",
        "x"
      ]
    },
    {
      "cell_type": "markdown",
      "metadata": {
        "id": "J3rWRijwNsr5"
      },
      "source": [
        "* we'll work inside the Jupyter notebook and you'll be able to take it with you as a living, breathing document of your work in this class\n",
        "* the __Insert__ menu will allow you to add a cell above or below the current cell\n",
        "* the __Kernel__ menu will allow you to \"talk\" to the Python interpreter on your machine\n",
        "  * (when you type into a cell, you are \"talking\" to the web browser, and the web browser sends the text to the __`Python`__ interpreter to be \"run\")\n",
        "  * the __Kernel__ menu will allow you to _restart_ your __`Python`__ interpreter in case something goes wrong and it stops responding to you\n",
        "  "
      ]
    },
    {
      "cell_type": "markdown",
      "metadata": {
        "id": "Bh0RrR6CNsr5"
      },
      "source": [
        "<img src=\"https://github.com/gregworks/python-for-data-science/blob/main/images/border.jpg?raw=1\" height=\"10\" width=\"1500\" align=\"center\"/>"
      ]
    },
    {
      "cell_type": "markdown",
      "metadata": {
        "id": "vuBEkWV8Nsr5"
      },
      "source": [
        "## Variables/Typing\n",
        "* no declarations\n",
        "* basic data types are __int, float, string, boolean__\n",
        "* everything is an object\n",
        "* dynamically typed"
      ]
    },
    {
      "cell_type": "code",
      "execution_count": null,
      "metadata": {
        "id": "QQHm1w74Nsr5"
      },
      "outputs": [],
      "source": [
        "x = 3\n",
        "y = 24.99\n",
        "print(y, x)"
      ]
    },
    {
      "cell_type": "code",
      "execution_count": null,
      "metadata": {
        "id": "62QvXIjjNsr5"
      },
      "outputs": [],
      "source": [
        "print(x)\n",
        "x = 'Prince'\n",
        "x"
      ]
    },
    {
      "cell_type": "markdown",
      "metadata": {
        "id": "qV1MPEvXNsr6"
      },
      "source": [
        "<img src=\"https://github.com/gregworks/python-for-data-science/blob/main/images/border.jpg?raw=1\" height=\"10\" width=\"1500\" align=\"center\"/>"
      ]
    },
    {
      "cell_type": "markdown",
      "metadata": {
        "id": "MwlievelNsr6"
      },
      "source": [
        "## Strongly typed!"
      ]
    },
    {
      "cell_type": "code",
      "execution_count": null,
      "metadata": {
        "id": "0pQ55PgQNsr8"
      },
      "outputs": [],
      "source": [
        "prince = 'Prince'"
      ]
    },
    {
      "cell_type": "code",
      "execution_count": null,
      "metadata": {
        "id": "82GgKcSaNsr8"
      },
      "outputs": [],
      "source": [
        "prince + 1999"
      ]
    },
    {
      "cell_type": "code",
      "execution_count": null,
      "metadata": {
        "id": "0UF661ubNsr8"
      },
      "outputs": [],
      "source": [
        "prince + str(1999) # 'Prince' + '1999'"
      ]
    },
    {
      "cell_type": "code",
      "execution_count": null,
      "metadata": {
        "id": "FWD2mY0BNsr9"
      },
      "outputs": [],
      "source": [
        "i = 1\n",
        "f = 1.4\n",
        "b = True\n",
        "s = 'True'\n",
        "b = 5\n",
        "s + b"
      ]
    },
    {
      "cell_type": "markdown",
      "metadata": {
        "id": "pvJgSf6_Nsr9"
      },
      "source": [
        "<img src=\"https://github.com/gregworks/python-for-data-science/blob/main/images/border.jpg?raw=1\" height=\"10\" width=\"1500\" align=\"center\"/>"
      ]
    },
    {
      "cell_type": "markdown",
      "metadata": {
        "id": "mQxxemChNsr9"
      },
      "source": [
        "# Some [Builtin Python Functions](https://docs.python.org/3/library/functions.html)"
      ]
    },
    {
      "cell_type": "markdown",
      "metadata": {
        "id": "yX6DP90XNsr9"
      },
      "source": [
        "## __`str()`__\n",
        "* returns a string containing a nicely printable representation of the object passed as its argument"
      ]
    },
    {
      "cell_type": "code",
      "execution_count": null,
      "metadata": {
        "id": "IilZaFq6Nsr9"
      },
      "outputs": [],
      "source": [
        "str(1999)"
      ]
    },
    {
      "cell_type": "code",
      "execution_count": null,
      "metadata": {
        "id": "0sRuhomSNsr9"
      },
      "outputs": [],
      "source": [
        "str(True)"
      ]
    },
    {
      "cell_type": "code",
      "execution_count": null,
      "metadata": {
        "id": "KJZ5fAMVNsr-"
      },
      "outputs": [],
      "source": [
        "str(1.33e14)"
      ]
    },
    {
      "cell_type": "code",
      "execution_count": null,
      "metadata": {
        "id": "orZ1cc24Nsr-"
      },
      "outputs": [],
      "source": [
        "str('x')"
      ]
    },
    {
      "cell_type": "markdown",
      "metadata": {
        "id": "vzKVL1rvNsr-"
      },
      "source": [
        "<img src=\"https://github.com/gregworks/python-for-data-science/blob/main/images/border.jpg?raw=1\" height=\"10\" width=\"1500\" align=\"center\"/>"
      ]
    },
    {
      "cell_type": "markdown",
      "metadata": {
        "id": "vDHJrIQhNsr-"
      },
      "source": [
        "## `int()`\n",
        "* returns an integer object constructed from its argument–will be an error if not a number!"
      ]
    },
    {
      "cell_type": "code",
      "execution_count": null,
      "metadata": {
        "id": "R_joSa5-Nsr-"
      },
      "outputs": [],
      "source": [
        "x = '503'\n",
        "int(x)"
      ]
    },
    {
      "cell_type": "code",
      "execution_count": null,
      "metadata": {
        "id": "BdvpBRVxNsr_"
      },
      "outputs": [],
      "source": [
        "x += 'a' # x = x + 'a' ... '503a'\n",
        "int(x)"
      ]
    },
    {
      "cell_type": "markdown",
      "metadata": {
        "id": "yG7p866RNsr_"
      },
      "source": [
        "<img src=\"https://github.com/gregworks/python-for-data-science/blob/main/images/border.jpg?raw=1\" height=\"10\" width=\"1500\" align=\"center\"/>"
      ]
    },
    {
      "cell_type": "markdown",
      "metadata": {
        "id": "A8xliLEGNsr_"
      },
      "source": [
        "## __`type()`__\n",
        "* returns the type of the object passed as its argument"
      ]
    },
    {
      "cell_type": "code",
      "execution_count": null,
      "metadata": {
        "id": "ymxDNJyANsr_"
      },
      "outputs": [],
      "source": [
        "x = 1\n",
        "x, type(x)"
      ]
    },
    {
      "cell_type": "code",
      "execution_count": null,
      "metadata": {
        "id": "uHIxrPmfNssE"
      },
      "outputs": [],
      "source": [
        "x += 0.33 # x = x + 0.33\n",
        "x, type(x)"
      ]
    },
    {
      "cell_type": "code",
      "execution_count": null,
      "metadata": {
        "id": "jZA6B1axNssF"
      },
      "outputs": [],
      "source": [
        "type(True)"
      ]
    },
    {
      "cell_type": "markdown",
      "metadata": {
        "id": "zGrrmc7dNssF"
      },
      "source": [
        "<img src=\"https://github.com/gregworks/python-for-data-science/blob/main/images/border.jpg?raw=1\" height=\"10\" width=\"1500\" align=\"center\"/>"
      ]
    },
    {
      "cell_type": "markdown",
      "metadata": {
        "id": "1jkz3Y0yNssF"
      },
      "source": [
        "## __`print()`__\n",
        "* what does this do?"
      ]
    },
    {
      "cell_type": "code",
      "execution_count": null,
      "metadata": {
        "id": "SX9WtIkFNssF"
      },
      "outputs": [],
      "source": [
        "name = 'Bruce Lee'\n",
        "print(name)"
      ]
    },
    {
      "cell_type": "code",
      "execution_count": null,
      "metadata": {
        "id": "idC7PzKCNssF"
      },
      "outputs": [],
      "source": [
        "a, b, c = 47, -12, 19\n",
        "print(a, b, c)\n",
        "print(a, b, c, sep=', ') # sep is \"keyword argument\""
      ]
    },
    {
      "cell_type": "markdown",
      "metadata": {
        "id": "VHiKDTk5NssF"
      },
      "source": [
        "<img src=\"https://github.com/gregworks/python-for-data-science/blob/main/images/border.jpg?raw=1\" height=\"10\" width=\"1500\" align=\"center\"/>"
      ]
    },
    {
      "cell_type": "markdown",
      "metadata": {
        "id": "yG10m8xHNssG"
      },
      "source": [
        "## Lab: str/int/type\n",
        "*  use the Python interpreter/IDLE/Jupyter to type the following and think about the answer you expect before actually running the code\n",
        " * if result is not what you expect, that's an opportunity for learning\n",
        "\n",
        "<pre><b>\n",
        "str(53.3)\n",
        "str(False)\n",
        "str(false)\n",
        "int('300')\n",
        "int('30x')\n",
        "type(False)\n",
        "type('False')\n",
        "type(3.5)\n",
        "</b></pre>"
      ]
    },
    {
      "cell_type": "markdown",
      "metadata": {
        "id": "gFWQoyfiNssG"
      },
      "source": [
        "<img src=\"https://github.com/gregworks/python-for-data-science/blob/main/images/border.jpg?raw=1\" height=\"10\" width=\"1500\" align=\"center\"/>"
      ]
    },
    {
      "cell_type": "markdown",
      "metadata": {
        "id": "ZQo20ZsFNssG"
      },
      "source": [
        "# Python Arithmetic"
      ]
    },
    {
      "cell_type": "markdown",
      "metadata": {
        "id": "2tRswwAnNssG"
      },
      "source": [
        "* Python interpreter can perform arithmetic similar to other languages"
      ]
    },
    {
      "cell_type": "code",
      "execution_count": null,
      "metadata": {
        "id": "VtcQH1WPNssG"
      },
      "outputs": [],
      "source": [
        "3 / 2"
      ]
    },
    {
      "cell_type": "code",
      "execution_count": null,
      "metadata": {
        "id": "uT55sfJINssG"
      },
      "outputs": [],
      "source": [
        "3 // 2 # \"int\" division"
      ]
    },
    {
      "cell_type": "markdown",
      "metadata": {
        "id": "5UU1HIzTNssH"
      },
      "source": [
        "<img src=\"https://github.com/gregworks/python-for-data-science/blob/main/images/border.jpg?raw=1\" height=\"10\" width=\"1500\" align=\"center\"/>"
      ]
    },
    {
      "cell_type": "markdown",
      "metadata": {
        "id": "9hMwXMG_NssH"
      },
      "source": [
        "# div/mod/divmod"
      ]
    },
    {
      "cell_type": "code",
      "execution_count": null,
      "metadata": {
        "id": "5NFFSEWPNssH"
      },
      "outputs": [],
      "source": [
        "9 // 5 # \"quotient\""
      ]
    },
    {
      "cell_type": "code",
      "execution_count": null,
      "metadata": {
        "id": "O206JQxONssH"
      },
      "outputs": [],
      "source": [
        "9 % 5 # remainder when dividing 9 by 5"
      ]
    },
    {
      "cell_type": "code",
      "execution_count": null,
      "metadata": {
        "ExecuteTime": {
          "end_time": "2024-04-16T03:54:20.288190Z",
          "start_time": "2024-04-16T03:54:20.267684Z"
        },
        "id": "OPFT8VxINssH"
      },
      "outputs": [],
      "source": [
        "divmod(9, 5) # Python functions can and often do return multiple values"
      ]
    },
    {
      "cell_type": "code",
      "execution_count": null,
      "metadata": {
        "id": "ldVq3Kv2NssH"
      },
      "outputs": [],
      "source": [
        "quot, rem = divmod(9, 5)\n",
        "print(quot)\n",
        "print(rem)"
      ]
    },
    {
      "cell_type": "markdown",
      "metadata": {
        "id": "QnrG54N1NssI"
      },
      "source": [
        "<img src=\"https://github.com/gregworks/python-for-data-science/blob/main/images/border.jpg?raw=1\" height=\"10\" width=\"1500\" align=\"center\"/>"
      ]
    },
    {
      "cell_type": "markdown",
      "metadata": {
        "id": "8bs8Hy8YNssI"
      },
      "source": [
        "## Python has unlimited precision integers"
      ]
    },
    {
      "cell_type": "code",
      "execution_count": null,
      "metadata": {
        "ExecuteTime": {
          "end_time": "2024-04-16T03:54:26.324790Z",
          "start_time": "2024-04-16T03:54:26.311313Z"
        },
        "id": "_PinZBMoNssI"
      },
      "outputs": [],
      "source": [
        "2 ** 20000"
      ]
    },
    {
      "cell_type": "markdown",
      "metadata": {
        "id": "_tkYhVyKNssI"
      },
      "source": [
        "<img src=\"https://github.com/gregworks/python-for-data-science/blob/main/images/border.jpg?raw=1\" height=\"10\" width=\"1500\" align=\"center\"/>"
      ]
    },
    {
      "cell_type": "markdown",
      "metadata": {
        "id": "BqiNVHUINssI"
      },
      "source": [
        "## Floating Point Numbers\n",
        "* similar to floating point numbers in other languages\n",
        "* use __`float()`__ to convert to float, just as __`int()`__ converts to integer"
      ]
    },
    {
      "cell_type": "code",
      "execution_count": null,
      "metadata": {
        "ExecuteTime": {
          "end_time": "2024-04-16T03:56:10.768490Z",
          "start_time": "2024-04-16T03:56:10.755198Z"
        },
        "id": "hfoIU2zINssI"
      },
      "outputs": [],
      "source": [
        "x = 1\n",
        "float(x)"
      ]
    },
    {
      "cell_type": "code",
      "execution_count": null,
      "metadata": {
        "ExecuteTime": {
          "end_time": "2024-04-16T03:56:10.951365Z",
          "start_time": "2024-04-16T03:56:10.938091Z"
        },
        "id": "9zq-g2iPNssJ"
      },
      "outputs": [],
      "source": [
        "float(True)"
      ]
    },
    {
      "cell_type": "code",
      "execution_count": null,
      "metadata": {
        "ExecuteTime": {
          "end_time": "2024-04-16T03:56:11.603471Z",
          "start_time": "2024-04-16T03:56:11.531113Z"
        },
        "id": "tnvhNv2SNssJ"
      },
      "outputs": [],
      "source": [
        "float('x')"
      ]
    },
    {
      "cell_type": "markdown",
      "metadata": {
        "id": "40i6RB5_NssJ"
      },
      "source": [
        "<img src=\"https://github.com/gregworks/python-for-data-science/blob/main/images/border.jpg?raw=1\" height=\"10\" width=\"1500\" align=\"center\"/>"
      ]
    },
    {
      "cell_type": "markdown",
      "metadata": {
        "id": "7GMOhh_uNssJ"
      },
      "source": [
        "# Strings"
      ]
    },
    {
      "cell_type": "markdown",
      "metadata": {
        "id": "mJjsI6ftNssJ"
      },
      "source": [
        "* use single or double quotes\n",
        "* `\\` lets you escape the next character, i.e., avoid its usual meaning"
      ]
    },
    {
      "cell_type": "code",
      "execution_count": null,
      "metadata": {
        "id": "2Cy1PAMsNssJ"
      },
      "outputs": [],
      "source": [
        "string1 = \"This string isn't a problem\"\n",
        "string1"
      ]
    },
    {
      "cell_type": "code",
      "execution_count": null,
      "metadata": {
        "id": "FOCT248HNssK"
      },
      "outputs": [],
      "source": [
        "string2 = 'This string is a \"good\" example'\n",
        "string2"
      ]
    },
    {
      "cell_type": "code",
      "execution_count": null,
      "metadata": {
        "id": "tTRKFAB2NssK"
      },
      "outputs": [],
      "source": [
        "string3 = 'This string isn\\'t \"more difficult\" to read'\n",
        "print(string3)"
      ]
    },
    {
      "cell_type": "code",
      "execution_count": null,
      "metadata": {
        "id": "5A9k544GNssK"
      },
      "outputs": [],
      "source": [
        "palindrome = 'A man,\\nA plan,\\nA canal:\\nPanama.'\n",
        "palindrome"
      ]
    },
    {
      "cell_type": "code",
      "execution_count": null,
      "metadata": {
        "id": "U1PIHt03NssK"
      },
      "outputs": [],
      "source": [
        "print(palindrome)"
      ]
    },
    {
      "cell_type": "markdown",
      "metadata": {
        "id": "L4EqTO1INssK"
      },
      "source": [
        "* `+` = concatenation operator\n",
        "* `*` = duplication operator"
      ]
    },
    {
      "cell_type": "code",
      "execution_count": null,
      "metadata": {
        "id": "WTGXv-fgNssL"
      },
      "outputs": [],
      "source": [
        "s, t = \"hello\", 'bye' # bad practice\n",
        "print(s + t)\n",
        "print(s, t)"
      ]
    },
    {
      "cell_type": "code",
      "execution_count": null,
      "metadata": {
        "id": "OScnhKBmNssL"
      },
      "outputs": [],
      "source": [
        "s * 4\n",
        "'-' * 75"
      ]
    },
    {
      "cell_type": "markdown",
      "metadata": {
        "id": "ub7m9Eb9NssL"
      },
      "source": [
        "<img src=\"https://github.com/gregworks/python-for-data-science/blob/main/images/border.jpg?raw=1\" height=\"10\" width=\"1500\" align=\"center\"/>"
      ]
    },
    {
      "cell_type": "markdown",
      "metadata": {
        "id": "CX_h3KS5NssL"
      },
      "source": [
        "## Multi-Line Strings\n",
        "* triple quotes allow for easy multi-line strings"
      ]
    },
    {
      "cell_type": "code",
      "execution_count": null,
      "metadata": {
        "id": "9ASsVSRVNssL"
      },
      "outputs": [],
      "source": [
        "s = \"\"\"\n",
        "isn't this a\n",
        "multi-line string\n",
        "?\n",
        "\"\"\"\n",
        "\n",
        "s # compute the value of this expression"
      ]
    },
    {
      "cell_type": "code",
      "execution_count": null,
      "metadata": {
        "id": "66olUSM_NssM"
      },
      "outputs": [],
      "source": [
        "print(s)"
      ]
    },
    {
      "cell_type": "markdown",
      "metadata": {
        "id": "9yNO70P4NssM"
      },
      "source": [
        "<img src=\"https://github.com/gregworks/python-for-data-science/blob/main/images/border.jpg?raw=1\" height=\"10\" width=\"1500\" align=\"center\"/>"
      ]
    },
    {
      "cell_type": "markdown",
      "metadata": {
        "id": "3xpvGYsjNssM"
      },
      "source": [
        "## Lab: Strings\n",
        "* try these...\n",
        "* ...be sure you understand what they do\n",
        "\n",
        "```a, b, o, p = 'b', 'a', 'p', 'o'\n",
        "o + p + o\n",
        "a * 3 + b\n",
        "a + p * 2 + 'k' * 2 + 'e' * 2 + o + 'er'```"
      ]
    },
    {
      "cell_type": "markdown",
      "metadata": {
        "id": "6gUG4FUkNssM"
      },
      "source": [
        "<img src=\"https://github.com/gregworks/python-for-data-science/blob/main/images/border.jpg?raw=1\" height=\"10\" width=\"1500\" align=\"center\"/>"
      ]
    },
    {
      "cell_type": "markdown",
      "metadata": {
        "id": "HDG_aCdxNssM"
      },
      "source": [
        "## __`len()`__\n",
        "* returns the length of a string"
      ]
    },
    {
      "cell_type": "code",
      "execution_count": null,
      "metadata": {
        "id": "rz23CndONssM"
      },
      "outputs": [],
      "source": [
        "p = 'Prince'\n",
        "len(p)"
      ]
    },
    {
      "cell_type": "code",
      "execution_count": null,
      "metadata": {
        "id": "ZhnkcFaaNssN"
      },
      "outputs": [],
      "source": [
        "len('')"
      ]
    },
    {
      "cell_type": "code",
      "execution_count": null,
      "metadata": {
        "id": "fGcc57pdNssN"
      },
      "outputs": [],
      "source": [
        "len(p * 5)"
      ]
    },
    {
      "cell_type": "markdown",
      "metadata": {
        "id": "1ZNpr9INNssN"
      },
      "source": [
        "<img src=\"https://github.com/gregworks/python-for-data-science/blob/main/images/border.jpg?raw=1\" height=\"10\" width=\"1500\" align=\"center\"/>"
      ]
    },
    {
      "cell_type": "markdown",
      "metadata": {
        "id": "e-1f5qSUNssN"
      },
      "source": [
        "## Indexing Strings with __`[]`__\n",
        "* access a single character via its offset\n",
        "* easier to think of offset as opposed to index\n",
        "* negative offsets count from end of string"
      ]
    },
    {
      "cell_type": "code",
      "execution_count": null,
      "metadata": {
        "id": "LM3i9SlDNssN"
      },
      "outputs": [],
      "source": [
        "alphabet = 'abcdefghijklmnopqrstuvwxyz'\n",
        "alphabet[0]"
      ]
    },
    {
      "cell_type": "code",
      "execution_count": null,
      "metadata": {
        "id": "d83X3OypNssN"
      },
      "outputs": [],
      "source": [
        "alphabet[25] # len(alphabet)-1"
      ]
    },
    {
      "cell_type": "code",
      "execution_count": null,
      "metadata": {
        "id": "No_ySdjFNssO"
      },
      "outputs": [],
      "source": [
        "alphabet[-1] # idiomatic"
      ]
    },
    {
      "cell_type": "code",
      "execution_count": null,
      "metadata": {
        "id": "mBTTuWJbNssO"
      },
      "outputs": [],
      "source": [
        "alphabet[-26]"
      ]
    },
    {
      "cell_type": "markdown",
      "metadata": {
        "id": "n9CnwezvNssO"
      },
      "source": [
        "<img src=\"https://github.com/gregworks/python-for-data-science/blob/main/images/border.jpg?raw=1\" height=\"10\" width=\"1500\" align=\"center\"/>"
      ]
    },
    {
      "cell_type": "markdown",
      "metadata": {
        "id": "I_nBZWPnNssO"
      },
      "source": [
        "# Let's start writing some code!"
      ]
    },
    {
      "cell_type": "code",
      "execution_count": null,
      "metadata": {
        "id": "6RfpLZKCNssO"
      },
      "outputs": [],
      "source": [
        "name = input('Enter your name: ')\n",
        "print('You entered', name)"
      ]
    },
    {
      "cell_type": "markdown",
      "metadata": {
        "id": "zde64MJmNssO"
      },
      "source": [
        "<img src=\"https://github.com/gregworks/python-for-data-science/blob/main/images/border.jpg?raw=1\" height=\"10\" width=\"1500\" align=\"center\"/>"
      ]
    },
    {
      "cell_type": "markdown",
      "metadata": {
        "id": "muzaZxDwNssP"
      },
      "source": [
        "# Indentation"
      ]
    },
    {
      "cell_type": "markdown",
      "metadata": {
        "id": "WFwYDd2GNssP"
      },
      "source": [
        "## Indentation\n",
        "* colons and indentation delineate blocks {...}\n",
        "* no braces!\n",
        "* this will trip you up at first but once you're used to it, you'll love it"
      ]
    },
    {
      "cell_type": "code",
      "execution_count": null,
      "metadata": {
        "id": "gEJc2KuHNssP"
      },
      "outputs": [],
      "source": [
        "x = 1 # assign the value of 2 to x\n",
        "if x == 1: # is x equal to 1?\n",
        "    print('Hey, x is 1!')\n",
        "    print('first part of if')\n",
        "else:\n",
        "    print('x is something other than 1')\n",
        "    print('more stuff')"
      ]
    },
    {
      "cell_type": "markdown",
      "metadata": {
        "id": "9gh04pD-NssP"
      },
      "source": [
        "## Indentation (continued)\n",
        "*  indentation must be consistent throughout the block"
      ]
    },
    {
      "cell_type": "code",
      "execution_count": null,
      "metadata": {
        "id": "0EV9Uw5XNssP"
      },
      "outputs": [],
      "source": [
        "if x == 1:\n",
        "    print('x is 1')\n",
        "    print('something else')"
      ]
    },
    {
      "cell_type": "markdown",
      "metadata": {
        "id": "9E1qg8PTNssQ"
      },
      "source": [
        "*  you can use any indentation you want as long as it's 4 spaces (PEP-8\n",
        "https://www.python.org/dev/peps/pep-0008/)"
      ]
    },
    {
      "cell_type": "markdown",
      "metadata": {
        "id": "n9gIMi5cNssQ"
      },
      "source": [
        "<img src=\"https://github.com/gregworks/python-for-data-science/blob/main/images/border.jpg?raw=1\" height=\"10\" width=\"1500\" align=\"center\"/>"
      ]
    },
    {
      "cell_type": "markdown",
      "metadata": {
        "id": "Gg8Mh67aNssQ"
      },
      "source": [
        "<a id=\"functions-def\"></a>\n",
        "## Common Python Functions and Control Flow\n",
        "---\n",
        "\n",
        "\n",
        "<img src=\"https://github.com/gregworks/python-for-data-science/blob/main/images/control.png?raw=1\" width=\"800\"  align=\"center\"/>\n",
        "\n",
        "---\n",
        "In this section, we're going to tackle some common design patterns in Python. The first is the concept of control flow — this is how our programs will return different results based on specific input. Second, we'll cover basic functions — these let us create snippets of code that we can call later in a script, which creates code that's easier to read and maintain. Remember, we're going to be reading code much more often than writing it!"
      ]
    },
    {
      "cell_type": "markdown",
      "metadata": {
        "id": "ubixenP2NssQ"
      },
      "source": [
        "## `if… else` Statements\n",
        "\n",
        "In Python, indentation matters! This is especially true when we look at the control structures in this lesson. In each case, a block of indented code is only run some of the time. There will always be a condition in the line preceding the indented block that determines whether the indented code is run or skipped.\n",
        "\n",
        "### `if` Statement\n",
        "The simplest example of a control structure is the `if` statement. We start with `if`, followed by something that can evaluate to `True` or `False` (such as any of the comparison operators we discussed earlier)."
      ]
    },
    {
      "cell_type": "code",
      "execution_count": null,
      "metadata": {
        "id": "-gRQvujUNssQ"
      },
      "outputs": [],
      "source": [
        "if 1 == 1:\n",
        "    print('The integer 1 is equal to the integer 1.')\n",
        "    print('Is the next indented line run, too?')"
      ]
    },
    {
      "cell_type": "code",
      "execution_count": null,
      "metadata": {
        "id": "7rmBMomwNssR"
      },
      "outputs": [],
      "source": [
        "if 'one' == 'two':\n",
        "    print(\"The string 'one' is equal to the string 'two'.\")\n",
        "\n",
        "print('---')\n",
        "print('These two lines are not indented, so they are always run next.')"
      ]
    },
    {
      "cell_type": "markdown",
      "metadata": {
        "id": "8d6tDJpgNssR"
      },
      "source": [
        "Notice that, in Python, the line before every indented block must end with a colon (`:`). In fact, it turns out that the `if` statement has a very specific syntax:\n",
        "\n",
        "```\n",
        "if <expression>:\n",
        "    <one or more indented lines>\n",
        "```\n",
        "\n",
        "When the `if` statement is run, the expression is evaluated to `True` or `False` by applying the built-in `bool()` function. If the expression evaluates to `True`, the code block is run; otherwise, it is skipped."
      ]
    },
    {
      "cell_type": "markdown",
      "metadata": {
        "id": "Sglr2twXNssR"
      },
      "source": [
        "#### Now You Try!\n",
        "<img src=\"https://github.com/gregworks/python-for-data-science/blob/main/images/hands_on.jpg?raw=1\" width=\"100\" height=\"100\" align=\"right\"/>\n",
        "\n",
        "\n",
        "Create your own string called `test_string`, then fill in the blanks here to create an `if... else` statement for whether or not the first character in `test_string` is a lowercase `a`."
      ]
    },
    {
      "cell_type": "code",
      "execution_count": null,
      "metadata": {
        "id": "R0nV-FjGNssR"
      },
      "outputs": [],
      "source": [
        "#### Type your answer here\n",
        "test_string='dapple is a company'\n",
        ""
      ]
    },
    {
      "cell_type": "markdown",
      "metadata": {
        "id": "Bwr21ETaNssR"
      },
      "source": [
        "#### `if` ... `else`\n",
        "\n",
        "In many cases, you may want to run some code if the expression evaluates to `True` and some other code if it evaluates to `False`. This is done using `else`. Note how it is at the same indentation level as the `if` statement, followed by a colon, followed by a code block. Let's see it in action."
      ]
    },
    {
      "cell_type": "code",
      "execution_count": null,
      "metadata": {
        "id": "UGCka4-oNssR"
      },
      "outputs": [],
      "source": [
        "if 50 < 30:\n",
        "    print(\"50 < 30.\")\n",
        "else:\n",
        "    print(\"50 >= 30.\")\n",
        "    print(\"The else code block was run instead of the first block.\")\n",
        "\n",
        "print('---')\n",
        "print('These two lines are not indented, so they are always run next.')"
      ]
    },
    {
      "cell_type": "markdown",
      "metadata": {
        "id": "I3ZrCZ23NssS"
      },
      "source": [
        "#### `if` ... `elif` ... `else`\n",
        "\n",
        "Sometimes, you might want to run one specific code block out of several. For example, perhaps we provide the user with three choices and want something different to happen with each one.\n",
        "\n",
        "`elif` stands for `else if`. It belongs on a line between the initial `if` statement and an (optional) `else`."
      ]
    },
    {
      "cell_type": "code",
      "execution_count": null,
      "metadata": {
        "id": "0YJ0dE9zNssS"
      },
      "outputs": [],
      "source": [
        "health = 55\n",
        "\n",
        "if health > 70 :\n",
        "    print('You are in great health!')\n",
        "elif health > 40:\n",
        "    print('Your health is average.')\n",
        "    print('Exercise and eat healthily!')\n",
        "elif health > 20:\n",
        "    print('Your health is ok.')\n",
        "    print('Dont eat meat!')\n",
        "else:\n",
        "    print('Your health is low.')\n",
        "    print('Please see a doctor now.')\n",
        "\n",
        "print('---')\n",
        "print('These two lines are not indented, so they are always run next.')"
      ]
    },
    {
      "cell_type": "markdown",
      "metadata": {
        "id": "nUwwsDRlNssS"
      },
      "source": [
        "This code works by evaluating each condition in order. If a condition evaluates to `True`, the rest are skipped.\n",
        "\n",
        "**Let's walk through the code.** First, we let `health = 55`. We move to the next line at the same indentation level — the `if`. We evaluate `health > 70` to be `False`, so its code block is skipped. Next, the interpreter moves to the next line at the same outer indentation level, which happens to be the `elif`. It evaluates its expression, `health > 40`, to be `True`, so its code block is run. Now, because a code block was run, the rest of the `if` statement is skipped."
      ]
    },
    {
      "cell_type": "markdown",
      "metadata": {
        "id": "Sa9N3TSUNssS"
      },
      "source": [
        "<img src=\"https://github.com/gregworks/python-for-data-science/blob/main/images/border.jpg?raw=1\" height=\"10\" width=\"1500\" align=\"center\"/>"
      ]
    },
    {
      "cell_type": "markdown",
      "metadata": {
        "id": "ra5fVBZFNssS"
      },
      "source": [
        "# Comparison Operators\n",
        "\n",
        "| operator | meaning |\n",
        "|---|---|\n",
        "| == | equality  |\n",
        "| != | inequality|\n",
        "| < | less than |\n",
        "| <= | less than or equals |\n",
        "| > | greater than |\n",
        "| >= | greater than or equals |\n",
        "| in | membership |"
      ]
    },
    {
      "cell_type": "code",
      "execution_count": null,
      "metadata": {
        "id": "kg9OYYtlNssT"
      },
      "outputs": [],
      "source": [
        "x = 7"
      ]
    },
    {
      "cell_type": "code",
      "execution_count": null,
      "metadata": {
        "id": "tbC628YLNssT"
      },
      "outputs": [],
      "source": [
        "5 < x"
      ]
    },
    {
      "cell_type": "code",
      "execution_count": null,
      "metadata": {
        "id": "2dk9f-V-NssT"
      },
      "outputs": [],
      "source": [
        "x < 9"
      ]
    },
    {
      "cell_type": "code",
      "execution_count": null,
      "metadata": {
        "id": "dN8Z7vPgNssT"
      },
      "outputs": [],
      "source": [
        "5 < x and x < 9 # &&"
      ]
    },
    {
      "cell_type": "code",
      "execution_count": null,
      "metadata": {
        "id": "XVq-WxPANssT"
      },
      "outputs": [],
      "source": [
        "(5 < x) and (x < 9)"
      ]
    },
    {
      "cell_type": "code",
      "execution_count": null,
      "metadata": {
        "id": "TpWnj3x6NssT"
      },
      "outputs": [],
      "source": [
        "5 < x < 9"
      ]
    },
    {
      "cell_type": "markdown",
      "metadata": {
        "id": "hXvYeDxpNssU"
      },
      "source": [
        "<img src=\"https://github.com/gregworks/python-for-data-science/blob/main/images/border.jpg?raw=1\" height=\"10\" width=\"1500\" align=\"center\"/>"
      ]
    },
    {
      "cell_type": "markdown",
      "metadata": {
        "id": "5YBSxAbwNssU"
      },
      "source": [
        "# Loops"
      ]
    },
    {
      "cell_type": "markdown",
      "metadata": {
        "id": "R55hGIRCNssU"
      },
      "source": [
        "* two kinds of loops in Python\n",
        " * __`while`__ loops (\"do something until a condition becomes false\")\n",
        " * __`for`__ loops (\"do something a certain number of times\")"
      ]
    },
    {
      "cell_type": "markdown",
      "metadata": {
        "id": "b7sWQKjxNssU"
      },
      "source": [
        "# `while` loop example"
      ]
    },
    {
      "cell_type": "code",
      "execution_count": null,
      "metadata": {
        "id": "K1awefQpNssU"
      },
      "outputs": [],
      "source": [
        "import random # \"batteries included\"\n",
        "# what do you think the line below does?\n",
        "my_number = random.randint(1, 100)\n",
        "guess = 0\n",
        "# loop until...?\n",
        "\n",
        "while guess != my_number:\n",
        "    guess = int(input('Enter your guess (0 to give up): '))\n",
        "    if guess == 0:\n",
        "        print(\"Sorry that you're giving up!\")\n",
        "        break # abnormal termination\n",
        "    elif guess > my_number:\n",
        "        print(\"Guess was too high\")\n",
        "    elif guess < my_number:\n",
        "        print(\"Guess was too low\")\n",
        "else:\n",
        "    print(\"Congratulations. You guessed it!\")\n",
        "# break would put us here"
      ]
    },
    {
      "cell_type": "markdown",
      "metadata": {
        "id": "45_DZmTBNssU"
      },
      "source": [
        "## `for` loop example\n",
        "* typically used to cycle through an _iterable_ (string, list, and others we haven't learned yet) one element at a time\n",
        "* \"for thing in container\""
      ]
    },
    {
      "cell_type": "code",
      "execution_count": null,
      "metadata": {
        "id": "ooFabwAaNssV"
      },
      "outputs": [],
      "source": [
        "for letter in 'Python': # for each element in the container\n",
        "    print(letter)"
      ]
    },
    {
      "cell_type": "markdown",
      "metadata": {
        "id": "_CtgNtWBNssV"
      },
      "source": [
        "## `for` Loops\n",
        "---\n",
        "<img src=\"https://github.com/gregworks/python-for-data-science/blob/main/images/for.png?raw=1\" width=\"500\" height=\"500\" align=\"right\"/>\n",
        "\n",
        "\n",
        "\n",
        "One of the primary purposes of using a programming language is to automate repetitive tasks. One example is the `for` loop.\n",
        "\n",
        "The `for` loop allows you to perform a task repeatedly on every element within an object, such as every name in a list.\n",
        "\n",
        "\n",
        "Let's see how the pseudocode works:\n",
        "\n",
        "```python\n",
        "# For each individual object in the list\n",
        "    # perform task_A on said object.\n",
        "    # Once task_A has been completed, move to next object in the list.\n",
        "```\n",
        "\n",
        "Let's say we wanted to print each of the names in the list, as well as \"is Awesome!\" In this case, we'd create a temporary variable for each element in the collection (`for name in names` would put each name, in sequence, under the temporary variable `name`) and then do something with it."
      ]
    },
    {
      "cell_type": "code",
      "execution_count": null,
      "metadata": {
        "id": "GjUmTJOENssV"
      },
      "outputs": [],
      "source": [
        "names = ['Rebecca Bunch', 'Paula Proctor', 'Heather Davis']\n",
        "\n",
        "for item in names:\n",
        "    print(item + ' Is Awesome!')"
      ]
    },
    {
      "cell_type": "markdown",
      "metadata": {
        "id": "xmX05zqcNssV"
      },
      "source": [
        "We can also combine `if... else` statements and `for` loops:"
      ]
    },
    {
      "cell_type": "code",
      "execution_count": null,
      "metadata": {
        "id": "GOqRbITfNssV"
      },
      "outputs": [],
      "source": [
        "names"
      ]
    },
    {
      "cell_type": "code",
      "execution_count": null,
      "metadata": {
        "id": "4diDAzn0NssW"
      },
      "outputs": [],
      "source": [
        "for item in names:\n",
        "    if item == 'Paula Proctor':\n",
        "        print(item + ' Is REALLY AWESOME!')\n",
        "    else:\n",
        "        print(item + ' Is Awesome!')"
      ]
    },
    {
      "cell_type": "markdown",
      "metadata": {
        "id": "0PnPv-_gNssW"
      },
      "source": [
        "#### Now You Try!\n",
        "<img src=\"https://github.com/gregworks/python-for-data-science/blob/main/images/hands_on.jpg?raw=1\" width=\"100\" height=\"100\" align=\"right\"/>\n",
        "Create a new `if... elif... else` and `for` loop combination, using a list of your own choice."
      ]
    },
    {
      "cell_type": "code",
      "execution_count": null,
      "metadata": {
        "id": "vp0q3hsFNssW"
      },
      "outputs": [],
      "source": [
        "### Type your answer here\n",
        "\n",
        "nums=[1,23,4,6,7,76, 77,35]\n",
        "# only print the even numbers\n",
        "\n",
        "\n"
      ]
    },
    {
      "cell_type": "markdown",
      "metadata": {
        "id": "L8OQ8NSJNssW"
      },
      "source": [
        "<img src=\"https://github.com/gregworks/python-for-data-science/blob/main/images/border.jpg?raw=1\" height=\"10\" width=\"1500\" align=\"center\"/>"
      ]
    },
    {
      "cell_type": "markdown",
      "metadata": {
        "id": "U68LZvVrNssW"
      },
      "source": [
        "## Sequences are also Iterable\n"
      ]
    },
    {
      "cell_type": "code",
      "execution_count": null,
      "metadata": {
        "id": "T5BaMdSjNssW"
      },
      "outputs": [],
      "source": [
        "for num in range(1, 10): # \"for thing in container\"\n",
        "    print(num)"
      ]
    },
    {
      "cell_type": "code",
      "execution_count": null,
      "metadata": {
        "id": "4E3-i4uDNssW"
      },
      "outputs": [],
      "source": [
        "for num in range(10, 0, -1):\n",
        "    print(num, end='...')\n",
        "print('blast off!')"
      ]
    },
    {
      "cell_type": "code",
      "execution_count": null,
      "metadata": {
        "id": "9hdPE7HVNssX"
      },
      "outputs": [],
      "source": [
        "for num in range(-5, 6): # -5 ... 5\n",
        "    if num == 0:\n",
        "        continue # skip the remainder of the loop, and go to next iteration\n",
        "    print(1 / num, end=' ')"
      ]
    },
    {
      "cell_type": "markdown",
      "metadata": {
        "id": "SlZqNW8TNssX"
      },
      "source": [
        "<img src=\"https://github.com/gregworks/python-for-data-science/blob/main/images/border.jpg?raw=1\" height=\"10\" width=\"1500\" align=\"center\"/>"
      ]
    },
    {
      "cell_type": "markdown",
      "metadata": {
        "id": "k4UAWo6FNssX"
      },
      "source": [
        "## Quick Lab: Loops/Strings\n",
        "* have the user enter a string, then loop through the string to generate (or print) a new string in which every character is duplicated, e.g., \"Python\" => \"PPyytthhoonn\""
      ]
    },
    {
      "cell_type": "markdown",
      "metadata": {
        "id": "-52TKpgWNssX"
      },
      "source": [
        "## Lab: Loops\n",
        "* Loop through the numbers from 2 to 25 and print out which numbers are prime, and for those numbers which are not prime numbers, you should print them as a product of two factors\n",
        "* Remember that prime = no divisors other than 1 and itself\n",
        "* Don't worry about efficiency, but if you're interested, check out math.sqrt()\n",
        "* example output:\n",
        "<pre>\n",
        "2 is a prime number\n",
        "3 is a prime number\n",
        "4 equals 2 * 2\n",
        "5 is a prime number\n",
        "6 equals 2 * 3\n",
        "7 is a prime number\n",
        "8 equals 2 * 4\n",
        "9 equals 3 * 3\n",
        "10 equals 2 * 5\n",
        "11 is a prime number\n",
        "12 equals 2 * 6\n",
        "13 is a prime number\n",
        "14 equals 2 * 7\n",
        "15 equals 3 * 5\n",
        "16 equals 2 * 8\n",
        "17 is a prime number\n",
        "18 equals 2 * 9\n",
        "19 is a prime number\n",
        "20 equals 2 * 10\n",
        "21 equals 3 * 7\n",
        "22 equals 2 * 11\n",
        "23 is a prime number\n",
        "24 equals 2 * 12\n",
        "25 equals 5 * 5\n",
        "</pre>"
      ]
    },
    {
      "cell_type": "markdown",
      "metadata": {
        "id": "i2qqC9_CNssX"
      },
      "source": [
        "<img src=\"https://github.com/gregworks/python-for-data-science/blob/main/images/border.jpg?raw=1\" height=\"10\" width=\"1500\" align=\"center\"/>"
      ]
    },
    {
      "cell_type": "markdown",
      "metadata": {
        "id": "BX3We0QENssY"
      },
      "source": [
        "## Loops: Recap\n",
        "* __`for`__ loop is more common\n",
        "* __`break`__ exits loop immediately\n",
        "* __`continue`__ skips remainder of loop and starts next iteration\n",
        "* __`else`__ is executed if loop terminates normally (i.e., no __`break`__)"
      ]
    },
    {
      "cell_type": "markdown",
      "metadata": {
        "id": "-3SSMX-7NssY"
      },
      "source": [
        "<img src=\"https://github.com/gregworks/python-for-data-science/blob/main/images/border.jpg?raw=1\" height=\"10\" width=\"1500\" align=\"center\"/>"
      ]
    },
    {
      "cell_type": "markdown",
      "metadata": {
        "id": "7ZcljWfpNssY"
      },
      "source": [
        "# Revisiting Strings"
      ]
    },
    {
      "cell_type": "markdown",
      "metadata": {
        "id": "IDf1xsoANssY"
      },
      "source": [
        "## Slices\n",
        "* __`[start:stop:step]`__\n",
        "* extracts the substring from __`start`__ to __`stop`__ _minus 1_, skipping __`step`__ characters at a time\n",
        "* each of the st... are optional"
      ]
    },
    {
      "cell_type": "code",
      "execution_count": null,
      "metadata": {
        "id": "KW150TJJNssY"
      },
      "outputs": [],
      "source": [
        "alphabet = 'abcdefghijklmnopqrstuvwxyz'\n",
        "         #  01234567890123456789012345\n",
        "         #                         321-"
      ]
    },
    {
      "cell_type": "code",
      "execution_count": null,
      "metadata": {
        "id": "0QcpwGjANssY"
      },
      "outputs": [],
      "source": [
        "alphabet[10:15]"
      ]
    },
    {
      "cell_type": "code",
      "execution_count": null,
      "metadata": {
        "id": "p8WyPatCNssY"
      },
      "outputs": [],
      "source": [
        "alphabet[:5]"
      ]
    },
    {
      "cell_type": "code",
      "execution_count": null,
      "metadata": {
        "id": "Z5SsUsX8NssZ"
      },
      "outputs": [],
      "source": [
        "alphabet[23:]"
      ]
    },
    {
      "cell_type": "code",
      "execution_count": null,
      "metadata": {
        "id": "7dkoohjJNssZ"
      },
      "outputs": [],
      "source": [
        "alphabet[3:23:3]"
      ]
    },
    {
      "cell_type": "code",
      "execution_count": null,
      "metadata": {
        "id": "W4QDSjHYNssZ"
      },
      "outputs": [],
      "source": [
        "alphabet[10:2:-1]"
      ]
    },
    {
      "cell_type": "code",
      "execution_count": null,
      "metadata": {
        "id": "As8kV3_yNssZ"
      },
      "outputs": [],
      "source": [
        "alphabet[-3:]"
      ]
    },
    {
      "cell_type": "code",
      "execution_count": null,
      "metadata": {
        "id": "n0kQT4m8NssZ"
      },
      "outputs": [],
      "source": [
        "alphabet[::-1] # idiomatic"
      ]
    },
    {
      "cell_type": "markdown",
      "metadata": {
        "id": "jtKhRyU6NssZ"
      },
      "source": [
        "<img src=\"https://github.com/gregworks/python-for-data-science/blob/main/images/border.jpg?raw=1\" height=\"10\" width=\"1500\" align=\"center\"/>"
      ]
    },
    {
      "cell_type": "markdown",
      "metadata": {
        "id": "8tuKqYX3Nssa"
      },
      "source": [
        "## More String Functions (Methods)"
      ]
    },
    {
      "cell_type": "code",
      "execution_count": null,
      "metadata": {
        "id": "ytWnPzp5Nssa"
      },
      "outputs": [],
      "source": [
        "poem = \"\"\"TWO roads diverged in a yellow wood,\n",
        "And sorry I could not travel both\n",
        "And be one traveler, long I stood\n",
        "And looked down one as far as I could\n",
        "To where it bent in the undergrowth;\n",
        "\n",
        "Then took the other, as just as fair,\n",
        "And having perhaps the better claim,\n",
        "Because it was grassy and wanted wear;\n",
        "Though as for that the passing there\n",
        "Had worn them really about the same,\n",
        "\n",
        "And both that morning equally lay\n",
        "In leaves no step had trodden black.\n",
        "Oh, I kept the first for another day!\n",
        "Yet knowing how way leads on to way,\n",
        "I doubted if I should ever come back.\n",
        "\n",
        "I shall be telling this with a sigh\n",
        "Somewhere ages and ages hence:\n",
        "Two roads diverged in a wood, and I—\n",
        "I took the one less traveled by,\n",
        "And that has made all the difference.\"\"\""
      ]
    },
    {
      "cell_type": "code",
      "execution_count": null,
      "metadata": {
        "id": "uXv3EQBFNssa"
      },
      "outputs": [],
      "source": [
        "len(poem) # built-in function"
      ]
    },
    {
      "cell_type": "code",
      "execution_count": null,
      "metadata": {
        "id": "4SJecsWVNssa"
      },
      "outputs": [],
      "source": [
        "poem[:17]"
      ]
    },
    {
      "cell_type": "code",
      "execution_count": null,
      "metadata": {
        "id": "uqlQ3M1CNssa"
      },
      "outputs": [],
      "source": [
        "poem.startswith('TWO') # startswith is a function...a \"method\"\n",
        "# NOT startswith(poem, 'TWO')"
      ]
    },
    {
      "cell_type": "code",
      "execution_count": null,
      "metadata": {
        "id": "IGYueCZSNssa"
      },
      "outputs": [],
      "source": [
        "poem.endswith('And miles to go before I sleep.')"
      ]
    },
    {
      "cell_type": "code",
      "execution_count": null,
      "metadata": {
        "id": "U4PpZMsENssb"
      },
      "outputs": [],
      "source": [
        "poem.find('the')"
      ]
    },
    {
      "cell_type": "code",
      "execution_count": null,
      "metadata": {
        "id": "htK6fhoWNssb"
      },
      "outputs": [],
      "source": [
        "poem[163:178]"
      ]
    },
    {
      "cell_type": "code",
      "execution_count": null,
      "metadata": {
        "id": "2GyI2SftNssb"
      },
      "outputs": [],
      "source": [
        "poem.rfind('the')"
      ]
    },
    {
      "cell_type": "code",
      "execution_count": null,
      "metadata": {
        "id": "TnyTwEwxNssb"
      },
      "outputs": [],
      "source": [
        "poem.count('the')"
      ]
    },
    {
      "cell_type": "markdown",
      "metadata": {
        "id": "I0_DL9MhNssc"
      },
      "source": [
        "<img src=\"https://github.com/gregworks/python-for-data-science/blob/main/images/border.jpg?raw=1\" height=\"10\" width=\"1500\" align=\"center\"/>"
      ]
    },
    {
      "cell_type": "markdown",
      "metadata": {
        "id": "_uoW4jiFNssc"
      },
      "source": [
        "## __`strip()`__"
      ]
    },
    {
      "cell_type": "code",
      "execution_count": null,
      "metadata": {
        "id": "FKMMX-dlNssc"
      },
      "outputs": [],
      "source": [
        "s = ' Now is the time      '\n",
        "s.strip() # generates a new string in which leading/trailing..."
      ]
    },
    {
      "cell_type": "code",
      "execution_count": null,
      "metadata": {
        "id": "vdnpf2PuNssc"
      },
      "outputs": [],
      "source": [
        "s"
      ]
    },
    {
      "cell_type": "code",
      "execution_count": null,
      "metadata": {
        "id": "mJLdgG6BNssc"
      },
      "outputs": [],
      "source": [
        "s = '.' + s.strip() + '...'"
      ]
    },
    {
      "cell_type": "code",
      "execution_count": null,
      "metadata": {
        "id": "gtKPqmvANssd"
      },
      "outputs": [],
      "source": [
        "s"
      ]
    },
    {
      "cell_type": "code",
      "execution_count": null,
      "metadata": {
        "id": "djMHlX-UNssd"
      },
      "outputs": [],
      "source": [
        "s.strip('.')"
      ]
    },
    {
      "cell_type": "markdown",
      "metadata": {
        "id": "liVF1avoNssd"
      },
      "source": [
        "<img src=\"https://github.com/gregworks/python-for-data-science/blob/main/images/border.jpg?raw=1\" height=\"10\" width=\"1500\" align=\"center\"/>"
      ]
    },
    {
      "cell_type": "markdown",
      "metadata": {
        "id": "MBhXY_L4Nssd"
      },
      "source": [
        "## Even More String Functions (Methods)..."
      ]
    },
    {
      "cell_type": "code",
      "execution_count": null,
      "metadata": {
        "id": "1qMAjOfANssd"
      },
      "outputs": [],
      "source": [
        "s = 'now IS the time'\n",
        "s.capitalize()"
      ]
    },
    {
      "cell_type": "code",
      "execution_count": null,
      "metadata": {
        "id": "Gj7l9wn9Nssd"
      },
      "outputs": [],
      "source": [
        "s.title()"
      ]
    },
    {
      "cell_type": "code",
      "execution_count": null,
      "metadata": {
        "id": "RMb_aCAsNsse"
      },
      "outputs": [],
      "source": [
        "s.upper()"
      ]
    },
    {
      "cell_type": "code",
      "execution_count": null,
      "metadata": {
        "id": "bZULBJp1Nsse"
      },
      "outputs": [],
      "source": [
        "s.lower()"
      ]
    },
    {
      "cell_type": "code",
      "execution_count": null,
      "metadata": {
        "id": "oJLY4D8sNsse"
      },
      "outputs": [],
      "source": [
        "s.swapcase()"
      ]
    },
    {
      "cell_type": "code",
      "execution_count": null,
      "metadata": {
        "id": "FqqqrQfTNsse"
      },
      "outputs": [],
      "source": [
        "s.replace('the', 'not the') # be careful of the naming"
      ]
    },
    {
      "cell_type": "code",
      "execution_count": null,
      "metadata": {
        "id": "gS8sVXjsNsse"
      },
      "outputs": [],
      "source": [
        "s.replace('t', 'T')"
      ]
    },
    {
      "cell_type": "markdown",
      "metadata": {
        "id": "AkSpMxWjNsse"
      },
      "source": [
        "<img src=\"https://github.com/gregworks/python-for-data-science/blob/main/images/border.jpg?raw=1\" height=\"10\" width=\"1500\" align=\"center\"/>"
      ]
    },
    {
      "cell_type": "markdown",
      "metadata": {
        "id": "q41UpoLgNsse"
      },
      "source": [
        "## Lab: String Functions\n",
        "\n",
        "* write a Python program which prompts the user for a string and a stride (increment), and alternately makes the string upper case and lower case, stride characters at a time, e.g.,\n",
        "![alt-text](images/uplow.png \"uplow\")\n"
      ]
    },
    {
      "cell_type": "markdown",
      "metadata": {
        "id": "88jjtzYGNssf"
      },
      "source": [
        "<img src=\"https://github.com/gregworks/python-for-data-science/blob/main/images/border.jpg?raw=1\" height=\"10\" width=\"1500\" align=\"center\"/>"
      ]
    },
    {
      "cell_type": "markdown",
      "metadata": {
        "id": "gPVnhuCDNssf"
      },
      "source": [
        "## __`split()/join()`__"
      ]
    },
    {
      "cell_type": "code",
      "execution_count": null,
      "metadata": {
        "id": "1bYgrj0LNssf"
      },
      "outputs": [],
      "source": [
        "'Now is the time'.split() # this is a string method"
      ]
    },
    {
      "cell_type": "code",
      "execution_count": null,
      "metadata": {
        "id": "-JAwKfJaNssf"
      },
      "outputs": [],
      "source": [
        "'eggs, bread, milk, yogurt'.split(', ')"
      ]
    },
    {
      "cell_type": "code",
      "execution_count": null,
      "metadata": {
        "id": "S3NgZf_aNssf"
      },
      "outputs": [],
      "source": [
        "# would be nice if we could write...\n",
        "# ['a', 'b', 'c'].join(' ')\n",
        "# but we don't because join is a string method\n",
        "''.join(['anti', 'dis', 'establish', 'men', 'tarian', 'ism'])"
      ]
    },
    {
      "cell_type": "code",
      "execution_count": null,
      "metadata": {
        "id": "3Tvt4JmmNssf"
      },
      "outputs": [],
      "source": [
        "', '.join(['Anne', 'Robert', 'Nancy'])"
      ]
    },
    {
      "cell_type": "markdown",
      "metadata": {
        "id": "qhAGLp8yNssg"
      },
      "source": [
        "<img src=\"https://github.com/gregworks/python-for-data-science/blob/main/images/border.jpg?raw=1\" height=\"10\" width=\"1500\" align=\"center\"/>"
      ]
    },
    {
      "cell_type": "markdown",
      "metadata": {
        "id": "kqXjL6hcNssg"
      },
      "source": [
        "# Lists"
      ]
    },
    {
      "cell_type": "markdown",
      "metadata": {
        "id": "5QcxE83UNssg"
      },
      "source": [
        "## Lists\n",
        "* usually homogeneous, but may contain any objects\n",
        "* unbounded / not a fixed size\n",
        "* duplicates allowed\n",
        "* __`list()`__ function creates a list from another sequence or container"
      ]
    },
    {
      "cell_type": "code",
      "execution_count": null,
      "metadata": {
        "id": "OOxf8eshNssg"
      },
      "outputs": [],
      "source": [
        "mylist = [1, 3, 5, 7, 5, 3, 1]\n",
        "mylist"
      ]
    },
    {
      "cell_type": "code",
      "execution_count": null,
      "metadata": {
        "id": "pDaXXVFpNssh"
      },
      "outputs": [],
      "source": [
        "days = ['Mon', 'Tue', 'Wed', 'Thu', 'Fri', 'Sat', 'Sun']\n",
        "days"
      ]
    },
    {
      "cell_type": "code",
      "execution_count": null,
      "metadata": {
        "id": "0TuG57pWNssh"
      },
      "outputs": [],
      "source": [
        "list('hello')"
      ]
    },
    {
      "cell_type": "code",
      "execution_count": null,
      "metadata": {
        "id": "BGny0RgqNssh"
      },
      "outputs": [],
      "source": [
        "date = '12/07/1941'\n",
        "date.split('/')"
      ]
    },
    {
      "cell_type": "code",
      "execution_count": null,
      "metadata": {
        "id": "3ai9ltvfNssh"
      },
      "outputs": [],
      "source": [
        "'a/b//c/d//e//f'.split('/')"
      ]
    },
    {
      "cell_type": "code",
      "execution_count": null,
      "metadata": {
        "id": "b1V-WrZVNssh"
      },
      "outputs": [],
      "source": [
        "stuff = input('Enter something: ')"
      ]
    },
    {
      "cell_type": "code",
      "execution_count": null,
      "metadata": {
        "id": "Vn3hA10wNssh"
      },
      "outputs": [],
      "source": [
        "stuff.split()"
      ]
    },
    {
      "cell_type": "code",
      "execution_count": null,
      "metadata": {
        "id": "xrmY3S7rNssi"
      },
      "outputs": [],
      "source": [
        "cars = ['Tesla', 'Fisker', 'Rivian', 'Lordstown']"
      ]
    },
    {
      "cell_type": "code",
      "execution_count": null,
      "metadata": {
        "id": "x7i8BTXdNssi"
      },
      "outputs": [],
      "source": [
        "cars[0]"
      ]
    },
    {
      "cell_type": "code",
      "execution_count": null,
      "metadata": {
        "id": "R1tx6WDqNssi"
      },
      "outputs": [],
      "source": [
        "cars[-1] # always the last element of the list"
      ]
    },
    {
      "cell_type": "code",
      "execution_count": null,
      "metadata": {
        "id": "sMYu7wKyNssi"
      },
      "outputs": [],
      "source": [
        "vehicles = [cars, 'bus']\n",
        "vehicles"
      ]
    },
    {
      "cell_type": "code",
      "execution_count": null,
      "metadata": {
        "id": "6WFO3EodNssi"
      },
      "outputs": [],
      "source": [
        "vehicles[0]"
      ]
    },
    {
      "cell_type": "code",
      "execution_count": null,
      "metadata": {
        "id": "gu9Hr_vRNssi"
      },
      "outputs": [],
      "source": [
        "vehicles[0][-1]"
      ]
    },
    {
      "cell_type": "code",
      "execution_count": null,
      "metadata": {
        "id": "-8rm4EGXNssj"
      },
      "outputs": [],
      "source": [
        "cars[-1] = 'Lordstown Motors'\n",
        "cars"
      ]
    },
    {
      "cell_type": "code",
      "execution_count": null,
      "metadata": {
        "id": "UQz5WFdWNssj"
      },
      "outputs": [],
      "source": [
        "cars[:2] # first 2 items in a container"
      ]
    },
    {
      "cell_type": "code",
      "execution_count": null,
      "metadata": {
        "id": "VntKeLGLNssj"
      },
      "outputs": [],
      "source": [
        "cars[::2] # the \"evens\", every other item"
      ]
    },
    {
      "cell_type": "code",
      "execution_count": null,
      "metadata": {
        "id": "WJJpdPgBNssj"
      },
      "outputs": [],
      "source": [
        "cars[1::2] # the \"odds\", every other item"
      ]
    },
    {
      "cell_type": "code",
      "execution_count": null,
      "metadata": {
        "id": "ES329HpRNssj"
      },
      "outputs": [],
      "source": [
        "cars[::-1] # also idiomatic"
      ]
    },
    {
      "cell_type": "markdown",
      "metadata": {
        "id": "06GV8xuYNssj"
      },
      "source": [
        "<img src=\"https://github.com/gregworks/python-for-data-science/blob/main/images/border.jpg?raw=1\" height=\"10\" width=\"1500\" align=\"center\"/>"
      ]
    },
    {
      "cell_type": "markdown",
      "metadata": {
        "id": "UUsAZn65Nssk"
      },
      "source": [
        "## Looping Through a List"
      ]
    },
    {
      "cell_type": "code",
      "execution_count": null,
      "metadata": {
        "id": "afRbcBblNssk"
      },
      "outputs": [],
      "source": [
        "index = 0\n",
        "while index < len(cars):\n",
        "    print(cars[index])\n",
        "    index += 1 # index = index + 1"
      ]
    },
    {
      "cell_type": "code",
      "execution_count": null,
      "metadata": {
        "id": "eMcsvk5FNssk"
      },
      "outputs": [],
      "source": [
        "for index in range(0, len(cars)):\n",
        "    print(cars[index])"
      ]
    },
    {
      "cell_type": "markdown",
      "metadata": {
        "id": "jJfDqpCgNssk"
      },
      "source": [
        "* that works, but it's not the way we'd write it in Python...it's not _Pythonic_"
      ]
    },
    {
      "cell_type": "code",
      "execution_count": null,
      "metadata": {
        "id": "bHe4CqyyNssk"
      },
      "outputs": [],
      "source": [
        "for car in cars: # for \"thing in container\"\n",
        "    print(car)"
      ]
    },
    {
      "cell_type": "markdown",
      "metadata": {
        "id": "rUn0jKp1Nssl"
      },
      "source": [
        "<img src=\"https://github.com/gregworks/python-for-data-science/blob/main/images/border.jpg?raw=1\" height=\"10\" width=\"1500\" align=\"center\"/>"
      ]
    },
    {
      "cell_type": "markdown",
      "metadata": {
        "id": "ncm5RHCzNssl"
      },
      "source": [
        "## Adding to a List (\"mutator\" methods)\n",
        "* __`append()`__: add an item the end of a list\n",
        "* __`insert()`__: add an item to a particular place in the list\n",
        "* __`extend()`__ (also __`+=`__): add a list to a list"
      ]
    },
    {
      "cell_type": "code",
      "execution_count": null,
      "metadata": {
        "id": "-fQl46TKNssl"
      },
      "outputs": [],
      "source": [
        "cars.append('Lucid')\n",
        "cars"
      ]
    },
    {
      "cell_type": "code",
      "execution_count": null,
      "metadata": {
        "id": "12hsu9lPNssl"
      },
      "outputs": [],
      "source": [
        "cars.insert(2, 'Faraday')\n",
        "cars"
      ]
    },
    {
      "cell_type": "code",
      "execution_count": null,
      "metadata": {
        "id": "mDevfX4JNssl"
      },
      "outputs": [],
      "source": [
        "others = ['Bollinger', 'Polestar']\n",
        "cars += others # .extend()\n",
        "cars"
      ]
    },
    {
      "cell_type": "code",
      "execution_count": null,
      "metadata": {
        "id": "q_OI8MXPNssl"
      },
      "outputs": [],
      "source": [
        "cars.append(others)\n",
        "cars"
      ]
    },
    {
      "cell_type": "markdown",
      "metadata": {
        "id": "2GGTri7QNssl"
      },
      "source": [
        "<img src=\"https://github.com/gregworks/python-for-data-science/blob/main/images/border.jpg?raw=1\" height=\"10\" width=\"1500\" align=\"center\"/>"
      ]
    },
    {
      "cell_type": "markdown",
      "metadata": {
        "id": "AGqa-lu0Nssm"
      },
      "source": [
        "## Removing from a List\n",
        "* __`del`__: delete by position\n",
        "* __`remove(item)`__: remove by value\n",
        "* __`pop()`__: remove last item (or specified item)"
      ]
    },
    {
      "cell_type": "code",
      "execution_count": null,
      "metadata": {
        "id": "WjLPzqyINssm"
      },
      "outputs": [],
      "source": [
        "cars"
      ]
    },
    {
      "cell_type": "code",
      "execution_count": null,
      "metadata": {
        "id": "Y6R4ulP6Nssm"
      },
      "outputs": [],
      "source": [
        "del cars[-1]\n",
        "cars"
      ]
    },
    {
      "cell_type": "code",
      "execution_count": null,
      "metadata": {
        "id": "1ZhtNOo1Nssm"
      },
      "outputs": [],
      "source": [
        "cars.remove('Faraday')\n",
        "cars"
      ]
    },
    {
      "cell_type": "code",
      "execution_count": null,
      "metadata": {
        "id": "JZJ14VLSNssm"
      },
      "outputs": [],
      "source": [
        "cars.pop() # last item by default"
      ]
    },
    {
      "cell_type": "code",
      "execution_count": null,
      "metadata": {
        "id": "9HZ8_7GMNssm"
      },
      "outputs": [],
      "source": [
        "cars"
      ]
    },
    {
      "cell_type": "code",
      "execution_count": null,
      "metadata": {
        "id": "6BTolLAeNssn"
      },
      "outputs": [],
      "source": [
        "cars.pop(1) # pop() or remove the second item"
      ]
    },
    {
      "cell_type": "code",
      "execution_count": null,
      "metadata": {
        "id": "CC1M9VTHNssn"
      },
      "outputs": [],
      "source": [
        "cars"
      ]
    },
    {
      "cell_type": "markdown",
      "metadata": {
        "id": "qbSXsJGVNssn"
      },
      "source": [
        "<img src=\"https://github.com/gregworks/python-for-data-science/blob/main/images/border.jpg?raw=1\" height=\"10\" width=\"1500\" align=\"center\"/>"
      ]
    },
    {
      "cell_type": "markdown",
      "metadata": {
        "id": "863il4vkNssn"
      },
      "source": [
        "## Examining Lists (inspectors)\n",
        "* __`index(item)`__: return position of item\n",
        "* __`count(item)`__: count occurrences of item\n",
        "* __`in`__: test for membership"
      ]
    },
    {
      "cell_type": "code",
      "execution_count": null,
      "metadata": {
        "id": "FBGoun8GNssn"
      },
      "outputs": [],
      "source": [
        "cars"
      ]
    },
    {
      "cell_type": "code",
      "execution_count": null,
      "metadata": {
        "id": "ME_k6gFnNssn"
      },
      "outputs": [],
      "source": [
        "cars.index('Lucid')"
      ]
    },
    {
      "cell_type": "code",
      "execution_count": null,
      "metadata": {
        "id": "_s3gyO8HNsso"
      },
      "outputs": [],
      "source": [
        "'Rivians' in cars"
      ]
    },
    {
      "cell_type": "code",
      "execution_count": null,
      "metadata": {
        "id": "Z6TWqAd8Nsso"
      },
      "outputs": [],
      "source": [
        "'Lordstown' in cars"
      ]
    },
    {
      "cell_type": "code",
      "execution_count": null,
      "metadata": {
        "id": "4-KkN7KHNsso"
      },
      "outputs": [],
      "source": [
        "for count in range(10): # do something 10 times\n",
        "    cars.append('Byton')"
      ]
    },
    {
      "cell_type": "code",
      "execution_count": null,
      "metadata": {
        "id": "cilw16sWNsso"
      },
      "outputs": [],
      "source": [
        "cars"
      ]
    },
    {
      "cell_type": "code",
      "execution_count": null,
      "metadata": {
        "id": "GEI7N9CjNsso"
      },
      "outputs": [],
      "source": [
        "cars.count('Byton')"
      ]
    },
    {
      "cell_type": "code",
      "execution_count": null,
      "metadata": {
        "id": "nBtUBKbkNsso"
      },
      "outputs": [],
      "source": [
        "while 'Byton' in cars:\n",
        "    cars.remove('Byton') # each call only removes one\n",
        "cars"
      ]
    },
    {
      "cell_type": "code",
      "execution_count": null,
      "metadata": {
        "id": "dogeWVn6Nssp"
      },
      "outputs": [],
      "source": [
        "for times in range(cars.count('Byton')):\n",
        "    cars.remove('Byton')\n",
        "cars"
      ]
    },
    {
      "cell_type": "markdown",
      "metadata": {
        "id": "7unI5N5nNssp"
      },
      "source": [
        "<img src=\"https://github.com/gregworks/python-for-data-science/blob/main/images/border.jpg?raw=1\" height=\"10\" width=\"1500\" align=\"center\"/>"
      ]
    },
    {
      "cell_type": "markdown",
      "metadata": {
        "id": "OeKyRpQDNssp"
      },
      "source": [
        "## __`join()/split()`__–redux"
      ]
    },
    {
      "cell_type": "code",
      "execution_count": null,
      "metadata": {
        "id": "N00Z05qONssp"
      },
      "outputs": [],
      "source": [
        "cars"
      ]
    },
    {
      "cell_type": "code",
      "execution_count": null,
      "metadata": {
        "id": "QbIOqWU0Nssp"
      },
      "outputs": [],
      "source": [
        "joined = ', '.join(cars)\n",
        "joined # string which represents the \"joined\" items in the list"
      ]
    },
    {
      "cell_type": "code",
      "execution_count": null,
      "metadata": {
        "id": "ZG1VTfGgNssp"
      },
      "outputs": [],
      "source": [
        "unjoined = joined.split(', ')\n",
        "unjoined # split into a new list"
      ]
    },
    {
      "cell_type": "code",
      "execution_count": null,
      "metadata": {
        "id": "ZNaQetCKNssq"
      },
      "outputs": [],
      "source": [
        "cars == unjoined # are they the same? (They should be...)"
      ]
    },
    {
      "cell_type": "markdown",
      "metadata": {
        "id": "NXso4bFlNssq"
      },
      "source": [
        "<img src=\"https://github.com/gregworks/python-for-data-science/blob/main/images/border.jpg?raw=1\" height=\"10\" width=\"1500\" align=\"center\"/>"
      ]
    },
    {
      "cell_type": "markdown",
      "metadata": {
        "id": "eN21o_dXNssq"
      },
      "source": [
        "## Sorting Lists\n",
        "* __`sort()`__: _method_ to sort a list in place\n",
        "* __`sorted()`__: _built-in function_ which returns a sorted list created\n",
        "from an iterable/sequence\n",
        "* __`len()`__: returns length of a list"
      ]
    },
    {
      "cell_type": "code",
      "execution_count": null,
      "metadata": {
        "id": "DubT8GGFNssq"
      },
      "outputs": [],
      "source": [
        "print(cars, id(cars))"
      ]
    },
    {
      "cell_type": "code",
      "execution_count": null,
      "metadata": {
        "id": "Ijq7QiuJNssq"
      },
      "outputs": [],
      "source": [
        "cars.sort() # mutator method which sorts the list\n",
        "print(cars, id(cars))"
      ]
    },
    {
      "cell_type": "code",
      "execution_count": null,
      "metadata": {
        "id": "Dk7GT8x5Nssr"
      },
      "outputs": [],
      "source": [
        "cars.sort(reverse=True)\n",
        "print(cars, id(cars))"
      ]
    },
    {
      "cell_type": "code",
      "execution_count": null,
      "metadata": {
        "id": "ZR94q9zaNssr"
      },
      "outputs": [],
      "source": [
        "# built-in function which can't mutate the list\n",
        "sorted_list = sorted(cars)\n",
        "print(sorted_list, id(sorted_list), id(cars))"
      ]
    },
    {
      "cell_type": "markdown",
      "metadata": {
        "id": "2xHxH02VNssr"
      },
      "source": [
        "<img src=\"https://github.com/gregworks/python-for-data-science/blob/main/images/border.jpg?raw=1\" height=\"10\" width=\"1500\" align=\"center\"/>"
      ]
    },
    {
      "cell_type": "markdown",
      "metadata": {
        "id": "NqPP01mzNssr"
      },
      "source": [
        "# List assignment does not copy the values!\n",
        "* use __`copy()`__, __`list()`__, or __`[:]`__ to copy the values\n",
        "* we'll use __`pythontutor.com`__ to understand the difference"
      ]
    },
    {
      "cell_type": "code",
      "execution_count": null,
      "metadata": {
        "id": "6a_TuoLuNssr"
      },
      "outputs": [],
      "source": [
        "cars"
      ]
    },
    {
      "cell_type": "code",
      "execution_count": null,
      "metadata": {
        "id": "XKerqfieNssr"
      },
      "outputs": [],
      "source": [
        "c = cars\n",
        "c[2] = 'Lordstown Motors'\n",
        "cars"
      ]
    },
    {
      "cell_type": "code",
      "execution_count": null,
      "metadata": {
        "id": "WaxHnPSkNsss"
      },
      "outputs": [],
      "source": [
        "c = cars.copy()\n",
        "c[2] = 'Lordstown'\n",
        "cars"
      ]
    },
    {
      "cell_type": "code",
      "execution_count": null,
      "metadata": {
        "id": "-XivwsSONsss"
      },
      "outputs": [],
      "source": [
        "c"
      ]
    },
    {
      "cell_type": "code",
      "execution_count": null,
      "metadata": {
        "id": "vlqy_JzVNsss"
      },
      "outputs": [],
      "source": [
        "c = list(cars)\n",
        "c"
      ]
    },
    {
      "cell_type": "code",
      "execution_count": null,
      "metadata": {
        "id": "_jhMlxKKNsss"
      },
      "outputs": [],
      "source": [
        "c = cars[:]\n",
        "c"
      ]
    },
    {
      "cell_type": "markdown",
      "metadata": {
        "id": "JdoxyscMNsss"
      },
      "source": [
        "<img src=\"https://github.com/gregworks/python-for-data-science/blob/main/images/border.jpg?raw=1\" height=\"10\" width=\"1500\" align=\"center\"/>"
      ]
    },
    {
      "cell_type": "markdown",
      "metadata": {
        "id": "zfp92O7KNsss"
      },
      "source": [
        "## Quick Lab: Lists\n",
        "* Write a Python program to read in a list of items possibly containing duplicates, and then constructs a new list which contains the elements from the original list, with the order preserved, but the duplicates removed\n",
        "![alt-text](images/list2.png \"list2\")"
      ]
    },
    {
      "cell_type": "markdown",
      "metadata": {
        "id": "AkzkujaYNsss"
      },
      "source": [
        "## Lab: Lists\n",
        "* Write a Python program to maintain a list\n",
        "  * Read input until the user enters 'quit'\n",
        "  * Words that the user enters should be added to the list\n",
        "  * If a word begins with '-' (e.g., '-foo') it should be removed from the list\n",
        "  * If the user enters only a '-', the list should be reversed\n",
        "  * After each operation, print the list\n",
        "  * Extras:\n",
        "      * If user enters more than one word (e.g, __foo bar__), add \"foo\" and \"bar\" to the list, rather than \"foo bar\"\n",
        "      * Same for \"-\", i.e., __-foo bar__ would remove \"foo\" and \"bar\" from the  list"
      ]
    },
    {
      "cell_type": "markdown",
      "metadata": {
        "id": "uXjgs0_1Nsst"
      },
      "source": [
        "<img src=\"https://github.com/gregworks/python-for-data-science/blob/main/images/border.jpg?raw=1\" height=\"10\" width=\"1500\" align=\"center\"/>"
      ]
    },
    {
      "cell_type": "markdown",
      "metadata": {
        "id": "7tNOkMn9Nsst"
      },
      "source": [
        "# Dictionaries\n"
      ]
    },
    {
      "cell_type": "markdown",
      "metadata": {
        "id": "0bKT6d0pNsst"
      },
      "source": [
        "\n",
        "# Dictionaries\n",
        "* \"unordered\" grouping of key/value pairs\n",
        "* sometimes called a \"map\", \"hashmap\", or \"associative array\""
      ]
    },
    {
      "cell_type": "code",
      "execution_count": null,
      "metadata": {
        "id": "-GwRjzJnNsst"
      },
      "outputs": [],
      "source": [
        "d = {} # empty dict"
      ]
    },
    {
      "cell_type": "code",
      "execution_count": null,
      "metadata": {
        "id": "LS_i4J-YNsst"
      },
      "outputs": [],
      "source": [
        "d = { 'X': 10, 'V': 5, 'I': 1 } # can be initialized when declared"
      ]
    },
    {
      "cell_type": "code",
      "execution_count": null,
      "metadata": {
        "tags": [],
        "id": "89hkopDmNsst"
      },
      "outputs": [],
      "source": [
        "d"
      ]
    },
    {
      "cell_type": "code",
      "execution_count": null,
      "metadata": {
        "tags": [],
        "id": "yQkRlumXNssu"
      },
      "outputs": [],
      "source": [
        "d['L'] = 50 # add something to the dict\n",
        "print(d)"
      ]
    },
    {
      "cell_type": "code",
      "execution_count": null,
      "metadata": {
        "tags": [],
        "id": "SwC7qwnrNssu"
      },
      "outputs": [],
      "source": [
        "# iterating through a dict iterates through the keys\n",
        "for key in d: # for thing in container\n",
        "    print(key, end=' ')"
      ]
    },
    {
      "cell_type": "code",
      "execution_count": null,
      "metadata": {
        "tags": [],
        "id": "VqPNCpfQNssu"
      },
      "outputs": [],
      "source": [
        "# ...of course we can print the values while iterating\n",
        "for thing in d:\n",
        "    print(thing, d[thing])"
      ]
    },
    {
      "cell_type": "code",
      "execution_count": null,
      "metadata": {
        "tags": [],
        "id": "LGK6NunTNssu"
      },
      "outputs": [],
      "source": [
        "sbux_dict = {'venti': 20, 'tall': 12, 'grande': 16}\n",
        "print(sbux_dict)"
      ]
    },
    {
      "cell_type": "code",
      "execution_count": null,
      "metadata": {
        "scrolled": true,
        "tags": [],
        "id": "sE4niK8vNssu"
      },
      "outputs": [],
      "source": [
        "print(sbux_dict.keys(), sbux_dict.values(),\n",
        "      sbux_dict.items(), sep='\\n')"
      ]
    },
    {
      "cell_type": "code",
      "execution_count": null,
      "metadata": {
        "id": "DA0UhwtfNssu"
      },
      "outputs": [],
      "source": [
        "total_ounces = 0\n",
        "for amount in sbux_dict.values():\n",
        "    total_ounces += amount\n",
        "\n",
        "total_ounces"
      ]
    },
    {
      "cell_type": "code",
      "execution_count": null,
      "metadata": {
        "id": "qNpGhfZoNssv"
      },
      "outputs": [],
      "source": [
        "sum(sbux_dict.values())"
      ]
    },
    {
      "cell_type": "markdown",
      "metadata": {
        "id": "xF_a6xPjNssv"
      },
      "source": [
        "<img src=\"https://github.com/gregworks/python-for-data-science/blob/main/images/border.jpg?raw=1\" height=\"10\" width=\"1500\" align=\"center\"/>"
      ]
    },
    {
      "cell_type": "markdown",
      "metadata": {
        "id": "OPUlkbd4Nssv"
      },
      "source": [
        "## Dictionaries: View Objects\n",
        "* __`keys()`__, __`values()`__, and __`items()`__ are view objects\n",
        "* view objects provide a dynamic window into the dictionary"
      ]
    },
    {
      "cell_type": "code",
      "execution_count": null,
      "metadata": {
        "id": "r7E6FSF8Nssv"
      },
      "outputs": [],
      "source": [
        "keys = sbux_dict.keys()\n",
        "keys"
      ]
    },
    {
      "cell_type": "code",
      "execution_count": null,
      "metadata": {
        "id": "_9J02kWbNssv"
      },
      "outputs": [],
      "source": [
        "# keys will change automagically after we add to the dict\n",
        "print(keys)\n",
        "sbux_dict['trenta'] = 31\n",
        "print(keys)"
      ]
    },
    {
      "cell_type": "code",
      "execution_count": null,
      "metadata": {
        "id": "pi6Vc_jvNssv"
      },
      "outputs": [],
      "source": [
        "keys"
      ]
    },
    {
      "cell_type": "markdown",
      "metadata": {
        "id": "0YawHG0yNssw"
      },
      "source": [
        "# __`get()`__: Dealing with missing dict values"
      ]
    },
    {
      "cell_type": "code",
      "execution_count": null,
      "metadata": {
        "id": "B3QXQTpcNssw"
      },
      "outputs": [],
      "source": [
        "d = {'foo': 'bar'}"
      ]
    },
    {
      "cell_type": "code",
      "execution_count": null,
      "metadata": {
        "id": "s1pWAsjoNssw"
      },
      "outputs": [],
      "source": [
        "d['foo']"
      ]
    },
    {
      "cell_type": "code",
      "execution_count": null,
      "metadata": {
        "id": "eOABK84QNssw"
      },
      "outputs": [],
      "source": [
        "d['foot']"
      ]
    },
    {
      "cell_type": "code",
      "execution_count": null,
      "metadata": {
        "id": "gETg6GZhNssw"
      },
      "outputs": [],
      "source": [
        "if 'foot' in d: # is 'foot' a key in this dict\n",
        "    print(d['foot'])\n",
        "# or just... d.get('foot')"
      ]
    },
    {
      "cell_type": "code",
      "execution_count": null,
      "metadata": {
        "id": "EgZFPXoINssw"
      },
      "outputs": [],
      "source": [
        "print(d.get('foot'))"
      ]
    },
    {
      "cell_type": "code",
      "execution_count": null,
      "metadata": {
        "id": "TaugZWmYNssx"
      },
      "outputs": [],
      "source": [
        "# what if we sort a dict?\n",
        "for key in sorted(sbux_dict):\n",
        "    print(key, sbux_dict[key])"
      ]
    },
    {
      "cell_type": "code",
      "execution_count": null,
      "metadata": {
        "id": "cJ4riLsSNssx"
      },
      "outputs": [],
      "source": [
        "# In order to iterate in order, we have to sort the\n",
        "# dict by value (as opposed to key)\n",
        "# By default, sorted() will sort by key--\n",
        "# usually not what we want!\n",
        "\n",
        "for k in sorted(sbux_dict, key=sbux_dict.get):\n",
        "    print(k, '=>', sbux_dict[k])"
      ]
    },
    {
      "cell_type": "markdown",
      "metadata": {
        "id": "h0gOKZhyNssx"
      },
      "source": [
        "<img src=\"https://github.com/gregworks/python-for-data-science/blob/main/images/border.jpg?raw=1\" height=\"10\" width=\"1500\" align=\"center\"/>"
      ]
    },
    {
      "cell_type": "markdown",
      "metadata": {
        "id": "no5iNuXcNss0"
      },
      "source": [
        "## Removing items from a dict\n",
        "* __`del`__ = remove an item from the dict\n",
        "* __`dict.pop(key)`__ = remove item and return value\n",
        "* __`dict.clear()`__ = empty out the dict"
      ]
    },
    {
      "cell_type": "code",
      "execution_count": null,
      "metadata": {
        "id": "wBqb7-vDNss1"
      },
      "outputs": [],
      "source": [
        "mydict = {'trenta': 31, 'grande': 16, 'venti': 20,\n",
        "          'tall': 12}\n",
        "print(mydict)"
      ]
    },
    {
      "cell_type": "code",
      "execution_count": null,
      "metadata": {
        "id": "XnuEODjONss1"
      },
      "outputs": [],
      "source": [
        "del mydict['trenta']\n",
        "print(mydict)"
      ]
    },
    {
      "cell_type": "code",
      "execution_count": null,
      "metadata": {
        "id": "u_XaXfGCNss1"
      },
      "outputs": [],
      "source": [
        "print(mydict.pop('venti'))"
      ]
    },
    {
      "cell_type": "code",
      "execution_count": null,
      "metadata": {
        "id": "2YN6bi9YNss2"
      },
      "outputs": [],
      "source": [
        "print(mydict)"
      ]
    },
    {
      "cell_type": "code",
      "execution_count": null,
      "metadata": {
        "id": "nvOCCHrgNss2"
      },
      "outputs": [],
      "source": [
        "mydict.clear()\n",
        "mydict"
      ]
    },
    {
      "cell_type": "markdown",
      "metadata": {
        "id": "DVLpAlkeNss2"
      },
      "source": [
        "<img src=\"https://github.com/gregworks/python-for-data-science/blob/main/images/border.jpg?raw=1\" height=\"10\" width=\"1500\" align=\"center\"/>"
      ]
    },
    {
      "cell_type": "markdown",
      "metadata": {
        "id": "eKoQ97gnNss2"
      },
      "source": [
        "## Lab: dictionary\n",
        "* use a dict to translate Roman numerals into their Arabic equivalents\n",
        "1. load the dict with Roman numerals M (1000), D (500), C (100), L (50), X (10), V (5), I (1)\n",
        "2. read in a Roman numeral\n",
        "3. print Arabic equivalent\n",
        "4. try it with MCLX = 1000 + 100 + 50 + 10 = 1160\n",
        "4. __If you have time, deal with the case where a smaller number precedes a larger number, e.g., XC = 100 - 10 = 90, or MCM = 1000 + (1000-100) = 1900__\n",
        "4. __MCMXCIX = 1999__"
      ]
    },
    {
      "cell_type": "markdown",
      "metadata": {
        "id": "KMbWV_F8Nss3"
      },
      "source": [
        "<img src=\"https://github.com/gregworks/python-for-data-science/blob/main/images/border.jpg?raw=1\" height=\"10\" width=\"1500\" align=\"center\"/>"
      ]
    },
    {
      "cell_type": "markdown",
      "metadata": {
        "id": "5y7b_zqtNss3"
      },
      "source": [
        "## Dict Comprehension\n",
        "* like a listcomp, a dictcomp creates a dict quickly"
      ]
    },
    {
      "cell_type": "code",
      "execution_count": null,
      "metadata": {
        "id": "5IAaIPmcNstK"
      },
      "outputs": [],
      "source": [
        "names = ['Sally', 'Bob', 'Martha', 'Dirk']\n",
        "employee_ids = [345, 286, 453, 119]\n",
        "id_dict = { name: emp_id + 1000\n",
        "                   for name, emp_id in zip(names, employee_ids)}\n",
        "print(id_dict)"
      ]
    },
    {
      "cell_type": "code",
      "execution_count": null,
      "metadata": {
        "id": "NjfF9Y6LNstK"
      },
      "outputs": [],
      "source": [
        "d = { 'foo': 4, 'bar': -1, 'baz': -1, 'blah': 3, 'what': 2 }\n",
        "print(d)"
      ]
    },
    {
      "cell_type": "code",
      "execution_count": null,
      "metadata": {
        "id": "-74UgZRuNstL"
      },
      "outputs": [],
      "source": [
        "d.items()"
      ]
    },
    {
      "cell_type": "code",
      "execution_count": null,
      "metadata": {
        "id": "07evZdQCNstL"
      },
      "outputs": [],
      "source": [
        "d = { key: val for key, val in d.items()\n",
        "               if val != -1 }\n",
        "print(d)"
      ]
    },
    {
      "cell_type": "code",
      "execution_count": null,
      "metadata": {
        "id": "z4idGIUDNstL"
      },
      "outputs": [],
      "source": [
        "id_dict_inverse = { val : key for key, val in id_dict.items() }"
      ]
    },
    {
      "cell_type": "code",
      "execution_count": null,
      "metadata": {
        "id": "-XSdxEQZNstL"
      },
      "outputs": [],
      "source": [
        "id_dict_inverse"
      ]
    },
    {
      "cell_type": "markdown",
      "metadata": {
        "id": "2--x9QTdNstL"
      },
      "source": [
        "<img src=\"https://github.com/gregworks/python-for-data-science/blob/main/images/border.jpg?raw=1\" height=\"10\" width=\"1500\" align=\"center\"/>"
      ]
    },
    {
      "cell_type": "markdown",
      "metadata": {
        "id": "9kwiWygLNstL"
      },
      "source": [
        "## Now we understand this code!"
      ]
    },
    {
      "cell_type": "code",
      "execution_count": null,
      "metadata": {
        "id": "vneJVRInNstM"
      },
      "outputs": [],
      "source": [
        "s = \"\"\"Gur Mra bs Clguba, ol Gvz Crgref\n",
        "\n",
        "Ornhgvshy vf orggre guna htyl.\n",
        "Rkcyvpvg vf orggre guna vzcyvpvg.\n",
        "Fvzcyr vf orggre guna pbzcyrk.\n",
        "Pbzcyrk vf orggre guna pbzcyvpngrq.\n",
        "Syng vf orggre guna arfgrq.\n",
        "Fcnefr vf orggre guna qrafr.\"\"\"\n",
        "\n",
        "d = {}\n",
        "for c in (65, 97):\n",
        "    for i in range(26):\n",
        "        d[chr(i+c)] = chr((i+13) % 26 + c)\n",
        "\n",
        "print(\"\".join([d.get(c, c) for c in s]))"
      ]
    },
    {
      "cell_type": "markdown",
      "metadata": {
        "id": "X2q01qU0NstM"
      },
      "source": [
        "<img src=\"https://github.com/gregworks/python-for-data-science/blob/main/images/border.jpg?raw=1\" height=\"10\" width=\"1500\" align=\"center\"/>"
      ]
    },
    {
      "cell_type": "markdown",
      "metadata": {
        "id": "sV2QIsSmNstM"
      },
      "source": [
        "# Functions"
      ]
    },
    {
      "cell_type": "markdown",
      "metadata": {
        "id": "W1M7zoHwNstM"
      },
      "source": [
        "## Functions\n",
        "* __`def`__ introduces a function, followed by function name, parenthesized list of args and then a colon\n",
        "* body of function is indented"
      ]
    },
    {
      "cell_type": "code",
      "execution_count": null,
      "metadata": {
        "id": "E6FRV-DCNstM"
      },
      "outputs": [],
      "source": [
        "# a \"do nothing\" function\n",
        "def noop():\n",
        "    pass # Python statement that does nothing"
      ]
    },
    {
      "cell_type": "code",
      "execution_count": null,
      "metadata": {
        "id": "BU_nw5rdNstM"
      },
      "outputs": [],
      "source": [
        "noop()"
      ]
    },
    {
      "cell_type": "code",
      "execution_count": null,
      "metadata": {
        "id": "5QRfuAEGNstM"
      },
      "outputs": [],
      "source": [
        "noop(1, 3, 5)"
      ]
    },
    {
      "cell_type": "code",
      "execution_count": null,
      "metadata": {
        "id": "V0uAleQ1NstN"
      },
      "outputs": [],
      "source": [
        "def simpfunc(x):\n",
        "    if x == 1:\n",
        "        print('Hey, x is 1')\n",
        "    elif x < 10:\n",
        "        print('x is < 10 and not 1')\n",
        "    else:\n",
        "        print('x >= 10')"
      ]
    },
    {
      "cell_type": "code",
      "execution_count": null,
      "metadata": {
        "id": "g3cmqGEoNstN"
      },
      "outputs": [],
      "source": [
        "simpfunc(1)"
      ]
    },
    {
      "cell_type": "code",
      "execution_count": null,
      "metadata": {
        "id": "HAaBa_qvNstN"
      },
      "outputs": [],
      "source": [
        "simpfunc(5)"
      ]
    },
    {
      "cell_type": "code",
      "execution_count": null,
      "metadata": {
        "id": "eS81tWATNstN"
      },
      "outputs": [],
      "source": [
        "simpfunc(15)"
      ]
    },
    {
      "cell_type": "code",
      "execution_count": null,
      "metadata": {
        "id": "ePiquP4gNstN"
      },
      "outputs": [],
      "source": [
        "simpfunc(2.4)"
      ]
    },
    {
      "cell_type": "code",
      "execution_count": null,
      "metadata": {
        "id": "MEiTJsTXNstO"
      },
      "outputs": [],
      "source": [
        "def rounder25(amount):\n",
        "    \"\"\"Return amount rounded UP to nearest\n",
        "       quarter dollar.\n",
        "\n",
        "           ...$1.89 becomes $2.00\n",
        "           ...but $1.00/$1.25/$1.75/etc.\n",
        "           remain unchanged\n",
        "    \"\"\"\n",
        "    dollars = int(amount) # 1\n",
        "    cents = round((amount - dollars) * 100) # 89\n",
        "    quarters = cents // 25 # 3\n",
        "    if cents % 25: # 14\n",
        "        quarters += 1 # 4\n",
        "    amount = dollars + 0.25 * quarters # 2.00\n",
        "\n",
        "    return amount"
      ]
    },
    {
      "cell_type": "markdown",
      "metadata": {
        "id": "Nn8qeiZ3NstO"
      },
      "source": [
        "<img src=\"https://github.com/gregworks/python-for-data-science/blob/main/images/border.jpg?raw=1\" height=\"10\" width=\"1500\" align=\"center\"/>"
      ]
    },
    {
      "cell_type": "markdown",
      "metadata": {
        "id": "tyIbdhUwNstO"
      },
      "source": [
        "## Functions (cont'd)\n",
        "* __`help(func)`__ prints out formatted docstring\n",
        "* __`func`__ .\\__doc__ prints out raw docstring"
      ]
    },
    {
      "cell_type": "code",
      "execution_count": null,
      "metadata": {
        "id": "391cQv_3NstO"
      },
      "outputs": [],
      "source": [
        "help(rounder25)"
      ]
    },
    {
      "cell_type": "code",
      "execution_count": null,
      "metadata": {
        "id": "oZaOuosgNstO"
      },
      "outputs": [],
      "source": [
        "print(rounder25.__doc__)"
      ]
    },
    {
      "cell_type": "code",
      "execution_count": null,
      "metadata": {
        "id": "lfxpYI1mNstO"
      },
      "outputs": [],
      "source": [
        "rounder25(1.89)"
      ]
    },
    {
      "cell_type": "code",
      "execution_count": null,
      "metadata": {
        "id": "uu2_9BYTNstP"
      },
      "outputs": [],
      "source": [
        "rounder25(1.75)"
      ]
    },
    {
      "cell_type": "markdown",
      "metadata": {
        "id": "T1DcIgTiNstP"
      },
      "source": [
        "<img src=\"https://github.com/gregworks/python-for-data-science/blob/main/images/border.jpg?raw=1\" height=\"10\" width=\"1500\" align=\"center\"/>"
      ]
    },
    {
      "cell_type": "markdown",
      "metadata": {
        "id": "F-FRjBl3NstP"
      },
      "source": [
        "## Functions (cont'd)\n",
        "* if a function doesn’t call return explicitly, the special value __`None`__ is returned\n",
        "* __`None`__ is like __`NULL`__ in other languages\n",
        "* acts like __`False`__...but not the same as __`False`__"
      ]
    },
    {
      "cell_type": "code",
      "execution_count": null,
      "metadata": {
        "id": "JOlVVQ3mNstP"
      },
      "outputs": [],
      "source": [
        "retval = noop()\n",
        "print(retval)"
      ]
    },
    {
      "cell_type": "code",
      "execution_count": null,
      "metadata": {
        "id": "UX01Ii3HNstP"
      },
      "outputs": [],
      "source": [
        "# None acts like False...\n",
        "if retval:\n",
        "    print('something')\n",
        "else:\n",
        "    print('nothing')"
      ]
    },
    {
      "cell_type": "markdown",
      "metadata": {
        "id": "KSgXGrI3NstP"
      },
      "source": [
        "<img src=\"https://github.com/gregworks/python-for-data-science/blob/main/images/border.jpg?raw=1\" height=\"10\" width=\"1500\" align=\"center\"/>"
      ]
    },
    {
      "cell_type": "markdown",
      "metadata": {
        "id": "Ys7HXDW4NstQ"
      },
      "source": [
        "## Functions: positional arguments\n",
        "* arguments are passed to functions in order written\n",
        "* downside: you must remember meaning of each position"
      ]
    },
    {
      "cell_type": "code",
      "execution_count": null,
      "metadata": {
        "id": "hRVbGfSXNstQ"
      },
      "outputs": [],
      "source": [
        "def menu(wine, entree, dessert):\n",
        "    return { 'wine': wine, 'entree': entree,\n",
        "            'dessert': dessert }"
      ]
    },
    {
      "cell_type": "markdown",
      "metadata": {
        "id": "aFY6s9nrNstQ"
      },
      "source": [
        "![alt-text](images/IDE.png \"IDE\")\n",
        "* outside an IDE, it can be difficult to remember\n",
        "* if you pass args in wrong order, bad things can happen!"
      ]
    },
    {
      "cell_type": "code",
      "execution_count": null,
      "metadata": {
        "id": "hBivivUBNstQ"
      },
      "outputs": [],
      "source": [
        "menu('chianti', 'tartuffo', 'polenta')"
      ]
    },
    {
      "cell_type": "markdown",
      "metadata": {
        "id": "Am7e2hStNstQ"
      },
      "source": [
        "<img src=\"https://github.com/gregworks/python-for-data-science/blob/main/images/border.jpg?raw=1\" height=\"10\" width=\"1500\" align=\"center\"/>"
      ]
    },
    {
      "cell_type": "markdown",
      "metadata": {
        "id": "DkKRT_KlNstQ"
      },
      "source": [
        "## Functions: keyword arguments\n",
        "* you may specify arguments by name, in any order\n",
        "* once you specify a keyword argument, all arguments following it must be keyword arguments"
      ]
    },
    {
      "cell_type": "code",
      "execution_count": null,
      "metadata": {
        "id": "GVmZ12MWNstQ"
      },
      "outputs": [],
      "source": [
        "# passing some arguments by keyword\n",
        "menu('chianti', dessert='tartufo', entree='polenta')"
      ]
    },
    {
      "cell_type": "code",
      "execution_count": null,
      "metadata": {
        "id": "VkgD4MR7NstR"
      },
      "outputs": [],
      "source": [
        "# passing all arguments by keyword\n",
        "menu(dessert='tartufo', entree='polenta', wine='chianti')"
      ]
    },
    {
      "cell_type": "code",
      "execution_count": null,
      "metadata": {
        "id": "tqg4sAckNstR"
      },
      "outputs": [],
      "source": [
        "# once you start passing arguments by keyword, the rest must be passed by keyword\n",
        "menu('chianti', dessert='tartufo', 'polenta')"
      ]
    },
    {
      "cell_type": "markdown",
      "metadata": {
        "id": "6UTKVjvnNstR"
      },
      "source": [
        "<img src=\"https://github.com/gregworks/python-for-data-science/blob/main/images/border.jpg?raw=1\" height=\"10\" width=\"1500\" align=\"center\"/>"
      ]
    },
    {
      "cell_type": "markdown",
      "metadata": {
        "id": "WhO2V-_ANstR"
      },
      "source": [
        "## Functions: default arguments"
      ]
    },
    {
      "cell_type": "code",
      "execution_count": null,
      "metadata": {
        "id": "4NUdfhF2NstR"
      },
      "outputs": [],
      "source": [
        "def menu(wine, entree, dessert='tartufo'):\n",
        "    return { 'wine': wine, 'entree': entree,\n",
        "            'dessert': dessert }"
      ]
    },
    {
      "cell_type": "code",
      "execution_count": null,
      "metadata": {
        "id": "pLPJplb3NstR"
      },
      "outputs": [],
      "source": [
        "menu('chardonnay', 'braised tofu')"
      ]
    },
    {
      "cell_type": "code",
      "execution_count": null,
      "metadata": {
        "id": "PHHSKg9QNstS"
      },
      "outputs": [],
      "source": [
        "menu('chardonnay', dessert='canoli',\n",
        "     entree='fagioli')"
      ]
    },
    {
      "cell_type": "markdown",
      "metadata": {
        "id": "v93Ulfq0NstS"
      },
      "source": [
        "<img src=\"https://github.com/gregworks/python-for-data-science/blob/main/images/border.jpg?raw=1\" height=\"10\" width=\"1500\" align=\"center\"/>"
      ]
    },
    {
      "cell_type": "markdown",
      "metadata": {
        "id": "wXpIzKlvNstS"
      },
      "source": [
        "## Lab: functions\n",
        "* Write a function __`calculate`__ which is passed two operands and an operator and returns the calculated result, e.g., __`calculate(2, 4, '+')`__ would return 6\n",
        "* Write a function that, given a string, returns True or False whether the string is a pangram\n",
        "* Write a function which takes an integer as a parameter, and sums up its digits. If the resulting sum contains more than 1 digit, the function should sum the digits again, e.g., __`sumdigits(1235)`__ should compute the sum of 1, 2, 3, and 5 (11), then compute the sum of 1 and 1, returning 2.\n",
        "* Write a function which takes a number as a parameter and returns a string version of the number with commas representing thousands, e.g., __`add_commas(12345)`__ would return \"12,345\"\n",
        "* Write a function to demonstrate the Collatz Conjecture:\n",
        "  * for integer n > 1\n",
        "    * if n is even, then __`n = n // 2`__\n",
        "    * if n is odd, then __`n = n * 3 + 1`__\n",
        "  * ...will always converge to 1\n",
        "  * (your function should take n and keep printing new value of n until n is 1)\n"
      ]
    },
    {
      "cell_type": "markdown",
      "metadata": {
        "id": "WBCmPwhuNstS"
      },
      "source": [
        "<img src=\"https://github.com/gregworks/python-for-data-science/blob/main/images/border.jpg?raw=1\" height=\"10\" width=\"1500\" align=\"center\"/>"
      ]
    },
    {
      "cell_type": "markdown",
      "metadata": {
        "id": "qd-8ErO2NstS"
      },
      "source": [
        "## Variable Positional Arguments\n",
        "* sometimes we want a function which takes a variable number of arguments (e.g., builtin __`print()`__ function)"
      ]
    },
    {
      "cell_type": "code",
      "execution_count": null,
      "metadata": {
        "id": "qevXUbSlNstS"
      },
      "outputs": [],
      "source": [
        "def func(*args): # func takes 0 or more arguments\n",
        "    print(args)\n",
        "    for index, arg in enumerate(args):\n",
        "        print('arg', index, 'is', arg)"
      ]
    },
    {
      "cell_type": "code",
      "execution_count": null,
      "metadata": {
        "id": "L1GXJR9uNstS"
      },
      "outputs": [],
      "source": [
        "func()"
      ]
    },
    {
      "cell_type": "code",
      "execution_count": null,
      "metadata": {
        "id": "zHtKcvD9NstT"
      },
      "outputs": [],
      "source": [
        "func(3, 4, 5, [2, 2, 3], {}, 'string')"
      ]
    },
    {
      "cell_type": "code",
      "execution_count": null,
      "metadata": {
        "id": "5VTEbY6KNstT"
      },
      "outputs": [],
      "source": [
        "func({ 'a': 'b'}, [1, 2, 3], 'this', True)"
      ]
    },
    {
      "cell_type": "markdown",
      "metadata": {
        "id": "50_47NN3NstT"
      },
      "source": [
        "<img src=\"https://github.com/gregworks/python-for-data-science/blob/main/images/border.jpg?raw=1\" height=\"10\" width=\"1500\" align=\"center\"/>"
      ]
    },
    {
      "cell_type": "markdown",
      "metadata": {
        "id": "IIqhaQALNstT"
      },
      "source": [
        "## Lab: Variable Positional Arguments\n",
        "* write a function called __`product`__ which accepts a variable number of arguments and returns the product of all of its args. With no args, __`product()`__ should return 1    \n",
        "\n",
        "<pre><b>\n",
        ">>> product(3, 5)\n",
        "15\n",
        ">>> product(1, 2, 3)\n",
        "6\n",
        ">>> product(63, 12, 3, 0, 9)\n",
        "0\n",
        ">>> product()\n",
        "1\n",
        "</b></pre>"
      ]
    },
    {
      "cell_type": "markdown",
      "metadata": {
        "id": "mC7h7BSvNstT"
      },
      "source": [
        "<img src=\"https://github.com/gregworks/python-for-data-science/blob/main/images/border.jpg?raw=1\" height=\"10\" width=\"1500\" align=\"center\"/>"
      ]
    },
    {
      "cell_type": "markdown",
      "metadata": {
        "id": "I_q0jhz2NstT"
      },
      "source": [
        "## Variable Keyword Arguments\n",
        "* what if a function needs a bunch of configuration options, having default values which typically aren't overridden?\n",
        "* one way to do this would be to have the function accept a dict in which these value(s) can be specified\n",
        "* better way is to use variable keywords arguments"
      ]
    },
    {
      "cell_type": "code",
      "execution_count": null,
      "metadata": {
        "id": "O_ghO3RnNstT"
      },
      "outputs": [],
      "source": [
        "def vka(**kwargs):\n",
        "    print(kwargs)\n",
        "    for key in kwargs:\n",
        "        print(key, '=>', kwargs[key])"
      ]
    },
    {
      "cell_type": "code",
      "execution_count": null,
      "metadata": {
        "id": "two1PvilNstT"
      },
      "outputs": [],
      "source": [
        "vka(sep='+', foo='bar', whizbang='rotunda', x=5, debug='hello', color='pink')"
      ]
    },
    {
      "cell_type": "code",
      "execution_count": null,
      "metadata": {
        "id": "eVHeASeZNstU"
      },
      "outputs": [],
      "source": [
        "def weird_func(x, y, z, *args, **kwargs):\n",
        "    print('req args:', x, y, z)\n",
        "    print('var pos args', args)\n",
        "    print('var keywd args', kwargs)\n",
        "    if 'debug' in kwargs:\n",
        "        if kwargs['debug'] == True: # because it could be false\n",
        "            turn_on_debugging = True\n",
        "            # utilize some of *args..."
      ]
    },
    {
      "cell_type": "code",
      "execution_count": null,
      "metadata": {
        "id": "ZmPwAnXaNstU"
      },
      "outputs": [],
      "source": [
        "def weird_func(x, y, z, debug_file=None, debug=False):\n",
        "    print('req args:', x, y, z)\n",
        "    print('var pos args', args)\n",
        "    print('var keywd args', kwargs)"
      ]
    },
    {
      "cell_type": "markdown",
      "metadata": {
        "id": "ieYtO4ZFNstU"
      },
      "source": [
        "<img src=\"https://github.com/gregworks/python-for-data-science/blob/main/images/border.jpg?raw=1\" height=\"10\" width=\"1500\" align=\"center\"/>"
      ]
    },
    {
      "cell_type": "markdown",
      "metadata": {
        "id": "b6fKi5KMNstU"
      },
      "source": [
        "# Lab: Variable Keyword Arguments\n",
        "* modify your __`calculate`__ function by adding variable keywords arguments to it and checking whether __`float = True`__, and if so, the calculation is done as floating point, rather than integer (of course this could be done with a default argument value, but don't do that)\n",
        "\n",
        "<pre><b>\n",
        "calculate(2, 4, '+') = 6\n",
        "calculate(3, 2, '/', float=True) = 1.5\n",
        "</b></pre>"
      ]
    },
    {
      "cell_type": "markdown",
      "metadata": {
        "id": "DmTs54gLNstU"
      },
      "source": [
        "<img src=\"https://github.com/gregworks/python-for-data-science/blob/main/images/border.jpg?raw=1\" height=\"10\" width=\"1500\" align=\"center\"/>"
      ]
    },
    {
      "cell_type": "markdown",
      "metadata": {
        "id": "Ik6dMssXNstU"
      },
      "source": [
        "## Functions: recap\n",
        "* Python encourages functions which support lots of arguments with default values\n",
        "* \"Explicit is better than implicit\"\n",
        "  * arguments can be passed out of order ONLY if they're passed by keyword\n",
        "  * keywords are more explicit than positions because the function call documents the purpose of its arguments\n",
        "* variable positional args (__`*args`__)\n",
        "* variable keyword args (__`**kwargs`__)"
      ]
    },
    {
      "cell_type": "markdown",
      "metadata": {
        "id": "fPvVqRV2NstU"
      },
      "source": [
        "<img src=\"https://github.com/gregworks/python-for-data-science/blob/main/images/border.jpg?raw=1\" height=\"10\" width=\"1500\" align=\"center\"/>"
      ]
    },
    {
      "cell_type": "markdown",
      "metadata": {
        "id": "kG73NU6WNstU"
      },
      "source": [
        "**Exercise: Student Grade Calculator**\n",
        "\n",
        "**Objective:** Create a Python program that calculates the final grades of students based on their exam scores, assignments, and participation.\n",
        "\n",
        "**Instructions:**\n",
        "\n",
        "1. Ask the user for the number of students for whom they want to calculate grades.\n",
        "2. For each student, do the following:\n",
        "   - Prompt the user for the student's name.\n",
        "   - Prompt the user for the student's exam score (out of 100).\n",
        "   - Prompt the user for the total assignment score (out of 100).\n",
        "   - Prompt the user for the participation score (out of 100).\n",
        "3. Calculate the final grade for each student using the following formula:\n",
        "   - Final Grade = (Exam Score * 0.4) + (Assignment Score * 0.3) + (Participation Score * 0.3)\n",
        "4. Print out the final grades for all students.\n",
        "\n",
        "**Tips:**\n",
        "\n",
        "- Use a loop to iterate through each student's data.\n",
        "- Create variables to store the student's name, exam score, assignment score, and participation score.\n",
        "- Define a function to calculate the final grade.\n",
        "- Use `input()` to get user input and convert the input to the appropriate data types.\n",
        "- Use control flow (if statements) to ensure that user inputs are within the valid range (0-100).\n",
        "- Display the final grades for each student after all data is collected.\n",
        "\n",
        "This exercise will help your students practice creating variables, using operators and functions, and implementing control flow in Python while working with data. It's a simple example of data manipulation that can be a foundation for more complex data science tasks later on.\n",
        "\n",
        "\n",
        "<!-- def calculate_final_grade(exam_score, assignment_score, participation_score):\n",
        "    # Calculate the final grade using the given formula\n",
        "    final_grade = (exam_score * 0.4) + (assignment_score * 0.3) + (participation_score * 0.3)\n",
        "    return final_grade\n",
        "\n",
        "# Prompt the user for the number of students\n",
        "num_students = int(input(\"Enter the number of students: \"))\n",
        "\n",
        "# Initialize a list to store student data\n",
        "student_data = []\n",
        "\n",
        "# Loop through each student\n",
        "for i in range(num_students):\n",
        "    print(f\"\\nStudent {i + 1}:\")\n",
        "    \n",
        "    # Prompt for student name\n",
        "    student_name = input(\"Enter student name: \")\n",
        "    \n",
        "    # Prompt for exam score, assignment score, and participation score\n",
        "    exam_score = float(input(\"Enter exam score (out of 100): \"))\n",
        "    assignment_score = float(input(\"Enter assignment score (out of 100): \"))\n",
        "    participation_score = float(input(\"Enter participation score (out of 100): \"))\n",
        "    \n",
        "    # Ensure scores are within the valid range (0-100)\n",
        "    if 0 <= exam_score <= 100 and 0 <= assignment_score <= 100 and 0 <= participation_score <= 100:\n",
        "        final_grade = calculate_final_grade(exam_score, assignment_score, participation_score)\n",
        "        \n",
        "        # Store student data\n",
        "        student_data.append((student_name, final_grade))\n",
        "    else:\n",
        "        print(\"Invalid input. Scores must be between 0 and 100.\")\n",
        "\n",
        "# Display the final grades for all students\n",
        "print(\"\\nFinal Grades:\")\n",
        "for student_name, final_grade in student_data:\n",
        "    print(f\"{student_name}: {final_grade:.2f}\") -->\n"
      ]
    }
  ],
  "metadata": {
    "kernelspec": {
      "display_name": "Python 3",
      "language": "python",
      "name": "python3"
    },
    "language_info": {
      "codemirror_mode": {
        "name": "ipython",
        "version": 3
      },
      "file_extension": ".py",
      "mimetype": "text/x-python",
      "name": "python",
      "nbconvert_exporter": "python",
      "pygments_lexer": "ipython3",
      "version": "3.7.6"
    },
    "vscode": {
      "interpreter": {
        "hash": "b0fa6594d8f4cbf19f97940f81e996739fb7646882a419484c72d19e05852a7e"
      }
    },
    "colab": {
      "provenance": [],
      "include_colab_link": true
    }
  },
  "nbformat": 4,
  "nbformat_minor": 0
}
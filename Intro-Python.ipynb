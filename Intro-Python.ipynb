{
  "cells": [
    {
      "cell_type": "markdown",
      "metadata": {
        "id": "view-in-github",
        "colab_type": "text"
      },
      "source": [
        "<a href=\"https://colab.research.google.com/github/gregworks/python-for-data-science/blob/main/Intro-Python.ipynb\" target=\"_parent\"><img src=\"https://colab.research.google.com/assets/colab-badge.svg\" alt=\"Open In Colab\"/></a>"
      ]
    },
    {
      "cell_type": "markdown",
      "metadata": {
        "id": "i14P6UnVNsru"
      },
      "source": [
        "## Did you install Anaconda?\n",
        "\n",
        "- Install Anaconda (https://docs.anaconda.com/free/anaconda/install/)\n",
        "\n",
        "> Make sure to install the latest version"
      ]
    },
    {
      "cell_type": "markdown",
      "metadata": {
        "id": "vkEeXYQqNsry"
      },
      "source": [
        "<img src=\"https://github.com/gregworks/python-for-data-science/blob/main/images/border.jpg?raw=1\" height=\"10\" width=\"1500\" align=\"center\"/>"
      ]
    },
    {
      "cell_type": "markdown",
      "metadata": {
        "id": "rPzIVc-sNsrz"
      },
      "source": [
        "# Python for Data Science\n",
        "\n",
        "<img src=\"https://github.com/gregworks/python-for-data-science/blob/main/images/python.jpg?raw=1\" width=\"300\"  align=\"center\"/>\n"
      ]
    },
    {
      "cell_type": "markdown",
      "metadata": {
        "id": "KZ5Hkn7eNsr0"
      },
      "source": [
        "<img src=\"https://github.com/gregworks/python-for-data-science/blob/main/images/border.jpg?raw=1\" height=\"10\" width=\"1500\" align=\"center\"/>"
      ]
    },
    {
      "cell_type": "markdown",
      "metadata": {
        "id": "hD6m3qHeNsr0"
      },
      "source": [
        "# What is Python?\n",
        "* a scripting language\n",
        "* a programming language\n",
        "* a command interpreter\n",
        "* a dynamically typed language\n",
        "* an object-oriented language"
      ]
    },
    {
      "cell_type": "markdown",
      "metadata": {
        "id": "z8qXLpWnNsr0"
      },
      "source": [
        "<img src=\"https://github.com/gregworks/python-for-data-science/blob/main/images/border.jpg?raw=1\" height=\"10\" width=\"1500\" align=\"center\"/>"
      ]
    },
    {
      "cell_type": "markdown",
      "metadata": {
        "id": "-zb7rZ3wNsr1"
      },
      "source": [
        "# Why Use Python?\n",
        "* **P**opular\n",
        "* eas**Y**\n",
        "* fas**T** (sort of)\n",
        "* pit**H**y\n",
        "* br**O**ad\n",
        "* efficie**N**t\n",
        "* plus...\n",
        " * \"batteries included\"\n",
        " * _LARGE_ community\n",
        " * likable!"
      ]
    },
    {
      "cell_type": "markdown",
      "metadata": {
        "id": "nrGtOUTZNsr1"
      },
      "source": [
        "<img src=\"https://github.com/gregworks/python-for-data-science/blob/main/images/border.jpg?raw=1\" height=\"10\" width=\"1500\" align=\"center\"/>"
      ]
    },
    {
      "cell_type": "markdown",
      "metadata": {
        "id": "AgRba2sMNsr2"
      },
      "source": [
        "### Why Python?\n",
        "\n",
        "<img src=\"https://github.com/gregworks/python-for-data-science/blob/main/images/whypython.png?raw=1\" width=\"700\" height=\"500\" align=\"center\"/>"
      ]
    },
    {
      "cell_type": "markdown",
      "metadata": {
        "id": "gTBdj5D1Nsr2"
      },
      "source": [
        "<img src=\"https://github.com/gregworks/python-for-data-science/blob/main/images/border.jpg?raw=1\" height=\"10\" width=\"1500\" align=\"center\"/>"
      ]
    },
    {
      "cell_type": "markdown",
      "metadata": {
        "id": "hLMsN0BfNsr2"
      },
      "source": [
        "# Why Not Use Python?\n",
        "* CPU-bound applications can be faster in compiled languages (but not always!)\n",
        "* real-time applications\n",
        "* high-level–far from the metal"
      ]
    },
    {
      "cell_type": "markdown",
      "metadata": {
        "id": "UcN_q9OZNsr3"
      },
      "source": [
        "<img src=\"https://github.com/gregworks/python-for-data-science/blob/main/images/border.jpg?raw=1\" height=\"10\" width=\"1500\" align=\"center\"/>"
      ]
    },
    {
      "cell_type": "markdown",
      "metadata": {
        "id": "oRa_3gl1Nsr3"
      },
      "source": [
        "## How to get around in Jupyter:\n",
        "* Each place for you to enter text is called a _cell_\n",
        "* Usually you enter __`Python`__ code, but you can also enter text in a _markup_ language called __`Markdown`__ (that's what's going on in _this_ cell)\n",
        "* To \"run\" the code in the cell, hit __Shift-Return__ (i.e., hold down __Shift__ key, then hit __Return__)\n",
        "* Try it with the cell below..."
      ]
    },
    {
      "cell_type": "code",
      "execution_count": 3,
      "metadata": {
        "colab": {
          "base_uri": "https://localhost:8080/"
        },
        "id": "SBD47BCLNsr3",
        "outputId": "5a4e8496-1475-4abf-e636-6945d651184a"
      },
      "outputs": [
        {
          "output_type": "execute_result",
          "data": {
            "text/plain": [
              "4"
            ]
          },
          "metadata": {},
          "execution_count": 3
        }
      ],
      "source": [
        "x = 6.34\n",
        "x"
      ]
    },
    {
      "cell_type": "markdown",
      "metadata": {
        "id": "J3rWRijwNsr5"
      },
      "source": [
        "* we'll work inside the Jupyter notebook and you'll be able to take it with you as a living, breathing document of your work in this class\n",
        "* the __Insert__ menu will allow you to add a cell above or below the current cell\n",
        "* the __Kernel__ menu will allow you to \"talk\" to the Python interpreter on your machine\n",
        "  * (when you type into a cell, you are \"talking\" to the web browser, and the web browser sends the text to the __`Python`__ interpreter to be \"run\")\n",
        "  * the __Kernel__ menu will allow you to _restart_ your __`Python`__ interpreter in case something goes wrong and it stops responding to you\n",
        "  "
      ]
    },
    {
      "cell_type": "markdown",
      "metadata": {
        "id": "Bh0RrR6CNsr5"
      },
      "source": [
        "<img src=\"https://github.com/gregworks/python-for-data-science/blob/main/images/border.jpg?raw=1\" height=\"10\" width=\"1500\" align=\"center\"/>"
      ]
    },
    {
      "cell_type": "markdown",
      "metadata": {
        "id": "vuBEkWV8Nsr5"
      },
      "source": [
        "## Variables/Typing\n",
        "* no declarations\n",
        "* basic data types are __int, float, string, boolean__\n",
        "* everything is an object\n",
        "* dynamically typed"
      ]
    },
    {
      "cell_type": "code",
      "execution_count": 6,
      "metadata": {
        "colab": {
          "base_uri": "https://localhost:8080/"
        },
        "id": "QQHm1w74Nsr5",
        "outputId": "ef90cbb9-7480-4853-c990-4873ecaa2f94"
      },
      "outputs": [
        {
          "output_type": "stream",
          "name": "stdout",
          "text": [
            "24.99 3 hello it's me\n"
          ]
        }
      ],
      "source": [
        "x = 3\n",
        "y = 24.99\n",
        "print(y, x, \"hello it's me\")"
      ]
    },
    {
      "cell_type": "code",
      "execution_count": 7,
      "metadata": {
        "colab": {
          "base_uri": "https://localhost:8080/",
          "height": 53
        },
        "id": "62QvXIjjNsr5",
        "outputId": "5128ec40-53c6-4ae3-cea6-7c6bd4657c76"
      },
      "outputs": [
        {
          "output_type": "stream",
          "name": "stdout",
          "text": [
            "3\n"
          ]
        },
        {
          "output_type": "execute_result",
          "data": {
            "text/plain": [
              "'Prince'"
            ],
            "application/vnd.google.colaboratory.intrinsic+json": {
              "type": "string"
            }
          },
          "metadata": {},
          "execution_count": 7
        }
      ],
      "source": [
        "print(x)\n",
        "x = 'Prince'\n",
        "x"
      ]
    },
    {
      "cell_type": "markdown",
      "metadata": {
        "id": "qV1MPEvXNsr6"
      },
      "source": [
        "<img src=\"https://github.com/gregworks/python-for-data-science/blob/main/images/border.jpg?raw=1\" height=\"10\" width=\"1500\" align=\"center\"/>"
      ]
    },
    {
      "cell_type": "markdown",
      "metadata": {
        "id": "MwlievelNsr6"
      },
      "source": [
        "## Strongly typed!"
      ]
    },
    {
      "cell_type": "code",
      "execution_count": 8,
      "metadata": {
        "id": "0pQ55PgQNsr8"
      },
      "outputs": [],
      "source": [
        "prince = 'Prince'"
      ]
    },
    {
      "cell_type": "code",
      "execution_count": 9,
      "metadata": {
        "colab": {
          "base_uri": "https://localhost:8080/",
          "height": 141
        },
        "id": "82GgKcSaNsr8",
        "outputId": "68ebc13b-69ef-4c48-9899-7269ef4e661f"
      },
      "outputs": [
        {
          "output_type": "error",
          "ename": "TypeError",
          "evalue": "can only concatenate str (not \"int\") to str",
          "traceback": [
            "\u001b[0;31m---------------------------------------------------------------------------\u001b[0m",
            "\u001b[0;31mTypeError\u001b[0m                                 Traceback (most recent call last)",
            "\u001b[0;32m<ipython-input-9-db93f6603145>\u001b[0m in \u001b[0;36m<cell line: 1>\u001b[0;34m()\u001b[0m\n\u001b[0;32m----> 1\u001b[0;31m \u001b[0mprince\u001b[0m \u001b[0;34m+\u001b[0m \u001b[0;36m1999\u001b[0m\u001b[0;34m\u001b[0m\u001b[0;34m\u001b[0m\u001b[0m\n\u001b[0m",
            "\u001b[0;31mTypeError\u001b[0m: can only concatenate str (not \"int\") to str"
          ]
        }
      ],
      "source": [
        "prince + 1999"
      ]
    },
    {
      "cell_type": "code",
      "execution_count": 10,
      "metadata": {
        "colab": {
          "base_uri": "https://localhost:8080/",
          "height": 36
        },
        "id": "0UF661ubNsr8",
        "outputId": "50f2700f-192f-4c89-fff0-025995ddfc3d"
      },
      "outputs": [
        {
          "output_type": "execute_result",
          "data": {
            "text/plain": [
              "'Prince1999'"
            ],
            "application/vnd.google.colaboratory.intrinsic+json": {
              "type": "string"
            }
          },
          "metadata": {},
          "execution_count": 10
        }
      ],
      "source": [
        "prince + str(1999) # 'Prince' + '1999'"
      ]
    },
    {
      "cell_type": "code",
      "execution_count": 15,
      "metadata": {
        "colab": {
          "base_uri": "https://localhost:8080/",
          "height": 36
        },
        "id": "FWD2mY0BNsr9",
        "outputId": "e6d900b1-23c2-4cd0-a636-584551c71267"
      },
      "outputs": [
        {
          "output_type": "execute_result",
          "data": {
            "text/plain": [
              "'True5'"
            ],
            "application/vnd.google.colaboratory.intrinsic+json": {
              "type": "string"
            }
          },
          "metadata": {},
          "execution_count": 15
        }
      ],
      "source": [
        "i = 1 # int\n",
        "f = 1.4 # float for floating point number basically a decimal\n",
        "b = True # bool (or boolean)\n",
        "s = 'True' # string\n",
        "b = 5 # int or integer\n",
        "s + str(b)"
      ]
    },
    {
      "cell_type": "markdown",
      "metadata": {
        "id": "pvJgSf6_Nsr9"
      },
      "source": [
        "<img src=\"https://github.com/gregworks/python-for-data-science/blob/main/images/border.jpg?raw=1\" height=\"10\" width=\"1500\" align=\"center\"/>"
      ]
    },
    {
      "cell_type": "markdown",
      "metadata": {
        "id": "mQxxemChNsr9"
      },
      "source": [
        "# Some [Builtin Python Functions](https://docs.python.org/3/library/functions.html)"
      ]
    },
    {
      "cell_type": "markdown",
      "metadata": {
        "id": "yX6DP90XNsr9"
      },
      "source": [
        "## __`str()`__\n",
        "* returns a string containing a nicely printable representation of the object passed as its argument"
      ]
    },
    {
      "cell_type": "code",
      "execution_count": 16,
      "metadata": {
        "colab": {
          "base_uri": "https://localhost:8080/",
          "height": 36
        },
        "id": "IilZaFq6Nsr9",
        "outputId": "5d4b8c3f-e8c4-4f6b-8882-bbe8c63bbd26"
      },
      "outputs": [
        {
          "output_type": "execute_result",
          "data": {
            "text/plain": [
              "'1999'"
            ],
            "application/vnd.google.colaboratory.intrinsic+json": {
              "type": "string"
            }
          },
          "metadata": {},
          "execution_count": 16
        }
      ],
      "source": [
        "str(1999)"
      ]
    },
    {
      "cell_type": "code",
      "execution_count": 17,
      "metadata": {
        "colab": {
          "base_uri": "https://localhost:8080/",
          "height": 36
        },
        "id": "0sRuhomSNsr9",
        "outputId": "23ca3001-ef73-42a7-9950-62c1bde22c04"
      },
      "outputs": [
        {
          "output_type": "execute_result",
          "data": {
            "text/plain": [
              "'True'"
            ],
            "application/vnd.google.colaboratory.intrinsic+json": {
              "type": "string"
            }
          },
          "metadata": {},
          "execution_count": 17
        }
      ],
      "source": [
        "str(True)"
      ]
    },
    {
      "cell_type": "code",
      "execution_count": 18,
      "metadata": {
        "colab": {
          "base_uri": "https://localhost:8080/",
          "height": 36
        },
        "id": "KJZ5fAMVNsr-",
        "outputId": "aa19547f-20bb-4a5d-fb6c-09f92b0b725e"
      },
      "outputs": [
        {
          "output_type": "execute_result",
          "data": {
            "text/plain": [
              "'133000000000000.0'"
            ],
            "application/vnd.google.colaboratory.intrinsic+json": {
              "type": "string"
            }
          },
          "metadata": {},
          "execution_count": 18
        }
      ],
      "source": [
        "str(1.33e14)"
      ]
    },
    {
      "cell_type": "code",
      "execution_count": 19,
      "metadata": {
        "colab": {
          "base_uri": "https://localhost:8080/",
          "height": 36
        },
        "id": "orZ1cc24Nsr-",
        "outputId": "06568674-a8a3-435f-d7c8-f1b47c96dd1b"
      },
      "outputs": [
        {
          "output_type": "execute_result",
          "data": {
            "text/plain": [
              "'x'"
            ],
            "application/vnd.google.colaboratory.intrinsic+json": {
              "type": "string"
            }
          },
          "metadata": {},
          "execution_count": 19
        }
      ],
      "source": [
        "str('x')"
      ]
    },
    {
      "cell_type": "markdown",
      "metadata": {
        "id": "vzKVL1rvNsr-"
      },
      "source": [
        "<img src=\"https://github.com/gregworks/python-for-data-science/blob/main/images/border.jpg?raw=1\" height=\"10\" width=\"1500\" align=\"center\"/>"
      ]
    },
    {
      "cell_type": "markdown",
      "metadata": {
        "id": "vDHJrIQhNsr-"
      },
      "source": [
        "## `int()`\n",
        "* returns an integer object constructed from its argument–will be an error if not a number!"
      ]
    },
    {
      "cell_type": "code",
      "execution_count": 20,
      "metadata": {
        "colab": {
          "base_uri": "https://localhost:8080/"
        },
        "id": "R_joSa5-Nsr-",
        "outputId": "4ecb7f7f-fa08-464b-85ae-c6a2fdb11cd3"
      },
      "outputs": [
        {
          "output_type": "execute_result",
          "data": {
            "text/plain": [
              "503"
            ]
          },
          "metadata": {},
          "execution_count": 20
        }
      ],
      "source": [
        "x = '503'\n",
        "int(x)"
      ]
    },
    {
      "cell_type": "code",
      "execution_count": 21,
      "metadata": {
        "colab": {
          "base_uri": "https://localhost:8080/",
          "height": 158
        },
        "id": "BdvpBRVxNsr_",
        "outputId": "4c85e207-6d09-4596-bcdb-83c3c07b65ec"
      },
      "outputs": [
        {
          "output_type": "error",
          "ename": "ValueError",
          "evalue": "invalid literal for int() with base 10: '503a'",
          "traceback": [
            "\u001b[0;31m---------------------------------------------------------------------------\u001b[0m",
            "\u001b[0;31mValueError\u001b[0m                                Traceback (most recent call last)",
            "\u001b[0;32m<ipython-input-21-1e17f6693e90>\u001b[0m in \u001b[0;36m<cell line: 2>\u001b[0;34m()\u001b[0m\n\u001b[1;32m      1\u001b[0m \u001b[0mx\u001b[0m \u001b[0;34m+=\u001b[0m \u001b[0;34m'a'\u001b[0m \u001b[0;31m# x = x + 'a' ... '503a'\u001b[0m\u001b[0;34m\u001b[0m\u001b[0;34m\u001b[0m\u001b[0m\n\u001b[0;32m----> 2\u001b[0;31m \u001b[0mint\u001b[0m\u001b[0;34m(\u001b[0m\u001b[0mx\u001b[0m\u001b[0;34m)\u001b[0m\u001b[0;34m\u001b[0m\u001b[0;34m\u001b[0m\u001b[0m\n\u001b[0m",
            "\u001b[0;31mValueError\u001b[0m: invalid literal for int() with base 10: '503a'"
          ]
        }
      ],
      "source": [
        "x += 'a' # x = x + 'a' ... '503a'\n",
        "int(x)"
      ]
    },
    {
      "cell_type": "markdown",
      "metadata": {
        "id": "yG7p866RNsr_"
      },
      "source": [
        "<img src=\"https://github.com/gregworks/python-for-data-science/blob/main/images/border.jpg?raw=1\" height=\"10\" width=\"1500\" align=\"center\"/>"
      ]
    },
    {
      "cell_type": "markdown",
      "metadata": {
        "id": "A8xliLEGNsr_"
      },
      "source": [
        "## __`type()`__\n",
        "* returns the type of the object passed as its argument"
      ]
    },
    {
      "cell_type": "code",
      "execution_count": 23,
      "metadata": {
        "colab": {
          "base_uri": "https://localhost:8080/"
        },
        "id": "ymxDNJyANsr_",
        "outputId": "153ded4c-df98-49ca-8dee-7146493c5354"
      },
      "outputs": [
        {
          "output_type": "execute_result",
          "data": {
            "text/plain": [
              "(1, int)"
            ]
          },
          "metadata": {},
          "execution_count": 23
        }
      ],
      "source": [
        "x = 1\n",
        "x, type(x)"
      ]
    },
    {
      "cell_type": "code",
      "execution_count": 24,
      "metadata": {
        "colab": {
          "base_uri": "https://localhost:8080/"
        },
        "id": "uHIxrPmfNssE",
        "outputId": "1b91c36b-8a40-4c61-8f2a-52dd89ab4b0c"
      },
      "outputs": [
        {
          "output_type": "execute_result",
          "data": {
            "text/plain": [
              "(1.33, float)"
            ]
          },
          "metadata": {},
          "execution_count": 24
        }
      ],
      "source": [
        "x += 0.33 # x = x + 0.33\n",
        "x, type(x)"
      ]
    },
    {
      "cell_type": "code",
      "execution_count": 25,
      "metadata": {
        "colab": {
          "base_uri": "https://localhost:8080/"
        },
        "id": "jZA6B1axNssF",
        "outputId": "8469c8d8-143f-495a-fbfd-c72763740819"
      },
      "outputs": [
        {
          "output_type": "execute_result",
          "data": {
            "text/plain": [
              "bool"
            ]
          },
          "metadata": {},
          "execution_count": 25
        }
      ],
      "source": [
        "type(True)"
      ]
    },
    {
      "cell_type": "markdown",
      "metadata": {
        "id": "zGrrmc7dNssF"
      },
      "source": [
        "<img src=\"https://github.com/gregworks/python-for-data-science/blob/main/images/border.jpg?raw=1\" height=\"10\" width=\"1500\" align=\"center\"/>"
      ]
    },
    {
      "cell_type": "markdown",
      "metadata": {
        "id": "1jkz3Y0yNssF"
      },
      "source": [
        "## __`print()`__\n",
        "* what does this do?"
      ]
    },
    {
      "cell_type": "code",
      "execution_count": 26,
      "metadata": {
        "colab": {
          "base_uri": "https://localhost:8080/"
        },
        "id": "SX9WtIkFNssF",
        "outputId": "e36b70c5-1113-4312-98fd-61bacba9bb3a"
      },
      "outputs": [
        {
          "output_type": "stream",
          "name": "stdout",
          "text": [
            "Bruce Lee\n"
          ]
        }
      ],
      "source": [
        "name = 'Bruce Lee'\n",
        "print(name)"
      ]
    },
    {
      "cell_type": "code",
      "execution_count": 27,
      "metadata": {
        "colab": {
          "base_uri": "https://localhost:8080/"
        },
        "id": "idC7PzKCNssF",
        "outputId": "6c2c8a63-a57f-49f3-9524-d6ff144b68e8"
      },
      "outputs": [
        {
          "output_type": "stream",
          "name": "stdout",
          "text": [
            "47 -12 19\n",
            "47, -12, 19\n"
          ]
        }
      ],
      "source": [
        "a, b, c = 47, -12, 19\n",
        "print(a, b, c)\n",
        "print(a, b, c, sep=', ') # sep is \"keyword argument\""
      ]
    },
    {
      "cell_type": "code",
      "source": [
        "help(print)"
      ],
      "metadata": {
        "colab": {
          "base_uri": "https://localhost:8080/"
        },
        "id": "feY5lChE4IYU",
        "outputId": "18bad727-da57-4f9f-9cf7-95868fa5727c"
      },
      "execution_count": 28,
      "outputs": [
        {
          "output_type": "stream",
          "name": "stdout",
          "text": [
            "Help on built-in function print in module builtins:\n",
            "\n",
            "print(...)\n",
            "    print(value, ..., sep=' ', end='\\n', file=sys.stdout, flush=False)\n",
            "    \n",
            "    Prints the values to a stream, or to sys.stdout by default.\n",
            "    Optional keyword arguments:\n",
            "    file:  a file-like object (stream); defaults to the current sys.stdout.\n",
            "    sep:   string inserted between values, default a space.\n",
            "    end:   string appended after the last value, default a newline.\n",
            "    flush: whether to forcibly flush the stream.\n",
            "\n"
          ]
        }
      ]
    },
    {
      "cell_type": "markdown",
      "metadata": {
        "id": "VHiKDTk5NssF"
      },
      "source": [
        "<img src=\"https://github.com/gregworks/python-for-data-science/blob/main/images/border.jpg?raw=1\" height=\"10\" width=\"1500\" align=\"center\"/>"
      ]
    },
    {
      "cell_type": "markdown",
      "metadata": {
        "id": "yG10m8xHNssG"
      },
      "source": [
        "## Lab: str/int/type\n",
        "*  use the Python interpreter/IDLE/Jupyter to type the following and think about the answer you expect before actually running the code\n",
        " * if result is not what you expect, that's an opportunity for learning\n",
        "\n",
        "<pre><b>\n",
        "str(53.3)\n",
        "str(False)\n",
        "str(false)\n",
        "int('300')\n",
        "int('30x')\n",
        "type(False)\n",
        "type('False')\n",
        "type(3.5)\n",
        "</b></pre>"
      ]
    },
    {
      "cell_type": "code",
      "source": [
        "int(false)"
      ],
      "metadata": {
        "colab": {
          "base_uri": "https://localhost:8080/",
          "height": 141
        },
        "id": "0-qx7jv46eMX",
        "outputId": "24080d55-aa44-4974-8cff-01113ccfeb91"
      },
      "execution_count": 1,
      "outputs": [
        {
          "output_type": "error",
          "ename": "NameError",
          "evalue": "name 'false' is not defined",
          "traceback": [
            "\u001b[0;31m---------------------------------------------------------------------------\u001b[0m",
            "\u001b[0;31mNameError\u001b[0m                                 Traceback (most recent call last)",
            "\u001b[0;32m<ipython-input-1-8573b647afac>\u001b[0m in \u001b[0;36m<cell line: 1>\u001b[0;34m()\u001b[0m\n\u001b[0;32m----> 1\u001b[0;31m \u001b[0mint\u001b[0m\u001b[0;34m(\u001b[0m\u001b[0mfalse\u001b[0m\u001b[0;34m)\u001b[0m\u001b[0;34m\u001b[0m\u001b[0;34m\u001b[0m\u001b[0m\n\u001b[0m",
            "\u001b[0;31mNameError\u001b[0m: name 'false' is not defined"
          ]
        }
      ]
    },
    {
      "cell_type": "code",
      "source": [
        "true"
      ],
      "metadata": {
        "colab": {
          "base_uri": "https://localhost:8080/",
          "height": 141
        },
        "id": "vzRuOz376gY-",
        "outputId": "f7e7c50d-baf5-486e-cb25-544627604912"
      },
      "execution_count": 39,
      "outputs": [
        {
          "output_type": "error",
          "ename": "NameError",
          "evalue": "name 'true' is not defined",
          "traceback": [
            "\u001b[0;31m---------------------------------------------------------------------------\u001b[0m",
            "\u001b[0;31mNameError\u001b[0m                                 Traceback (most recent call last)",
            "\u001b[0;32m<ipython-input-39-724ba28f4a9a>\u001b[0m in \u001b[0;36m<cell line: 1>\u001b[0;34m()\u001b[0m\n\u001b[0;32m----> 1\u001b[0;31m \u001b[0mtrue\u001b[0m\u001b[0;34m\u001b[0m\u001b[0;34m\u001b[0m\u001b[0m\n\u001b[0m",
            "\u001b[0;31mNameError\u001b[0m: name 'true' is not defined"
          ]
        }
      ]
    },
    {
      "cell_type": "code",
      "source": [
        "str(false)"
      ],
      "metadata": {
        "colab": {
          "base_uri": "https://localhost:8080/",
          "height": 141
        },
        "id": "dU_dCVC_6X0i",
        "outputId": "e6623191-9d6c-4839-9212-028f18b92ba2"
      },
      "execution_count": 36,
      "outputs": [
        {
          "output_type": "error",
          "ename": "NameError",
          "evalue": "name 'false' is not defined",
          "traceback": [
            "\u001b[0;31m---------------------------------------------------------------------------\u001b[0m",
            "\u001b[0;31mNameError\u001b[0m                                 Traceback (most recent call last)",
            "\u001b[0;32m<ipython-input-36-8e57d9b5e766>\u001b[0m in \u001b[0;36m<cell line: 1>\u001b[0;34m()\u001b[0m\n\u001b[0;32m----> 1\u001b[0;31m \u001b[0mstr\u001b[0m\u001b[0;34m(\u001b[0m\u001b[0mfalse\u001b[0m\u001b[0;34m)\u001b[0m\u001b[0;34m\u001b[0m\u001b[0;34m\u001b[0m\u001b[0m\n\u001b[0m",
            "\u001b[0;31mNameError\u001b[0m: name 'false' is not defined"
          ]
        }
      ]
    },
    {
      "cell_type": "code",
      "source": [
        "print(str(53.3))\n",
        "print(str(False))"
      ],
      "metadata": {
        "colab": {
          "base_uri": "https://localhost:8080/"
        },
        "id": "HvnRwImM4pU9",
        "outputId": "aed38a68-e2fb-47a0-cd68-b3ec99eb9100"
      },
      "execution_count": 29,
      "outputs": [
        {
          "output_type": "stream",
          "name": "stdout",
          "text": [
            "53.3\n",
            "False\n"
          ]
        }
      ]
    },
    {
      "cell_type": "code",
      "source": [
        "type(str(False))"
      ],
      "metadata": {
        "colab": {
          "base_uri": "https://localhost:8080/"
        },
        "id": "2LcmvYbx40Lj",
        "outputId": "970df765-e264-4eb8-8a88-d80fda6d47dc"
      },
      "execution_count": 30,
      "outputs": [
        {
          "output_type": "execute_result",
          "data": {
            "text/plain": [
              "str"
            ]
          },
          "metadata": {},
          "execution_count": 30
        }
      ]
    },
    {
      "cell_type": "code",
      "source": [
        "type(False)"
      ],
      "metadata": {
        "colab": {
          "base_uri": "https://localhost:8080/"
        },
        "id": "jMQ2dm6140Cv",
        "outputId": "240a2192-ae25-48b7-b339-370e3ee12cbc"
      },
      "execution_count": 32,
      "outputs": [
        {
          "output_type": "execute_result",
          "data": {
            "text/plain": [
              "bool"
            ]
          },
          "metadata": {},
          "execution_count": 32
        }
      ]
    },
    {
      "cell_type": "code",
      "source": [
        "int('300')"
      ],
      "metadata": {
        "colab": {
          "base_uri": "https://localhost:8080/"
        },
        "id": "jFgyEfBm4z5C",
        "outputId": "54df1ac9-02e5-49ed-be32-91a83752463c"
      },
      "execution_count": 33,
      "outputs": [
        {
          "output_type": "execute_result",
          "data": {
            "text/plain": [
              "300"
            ]
          },
          "metadata": {},
          "execution_count": 33
        }
      ]
    },
    {
      "cell_type": "code",
      "source": [
        "int('30x')"
      ],
      "metadata": {
        "colab": {
          "base_uri": "https://localhost:8080/",
          "height": 141
        },
        "id": "62_vPai-4zOL",
        "outputId": "947393d2-c200-457f-8d8d-d922d57ff799"
      },
      "execution_count": 34,
      "outputs": [
        {
          "output_type": "error",
          "ename": "ValueError",
          "evalue": "invalid literal for int() with base 10: '30x'",
          "traceback": [
            "\u001b[0;31m---------------------------------------------------------------------------\u001b[0m",
            "\u001b[0;31mValueError\u001b[0m                                Traceback (most recent call last)",
            "\u001b[0;32m<ipython-input-34-77320cf3b4dd>\u001b[0m in \u001b[0;36m<cell line: 1>\u001b[0;34m()\u001b[0m\n\u001b[0;32m----> 1\u001b[0;31m \u001b[0mint\u001b[0m\u001b[0;34m(\u001b[0m\u001b[0;34m'30x'\u001b[0m\u001b[0;34m)\u001b[0m\u001b[0;34m\u001b[0m\u001b[0;34m\u001b[0m\u001b[0m\n\u001b[0m",
            "\u001b[0;31mValueError\u001b[0m: invalid literal for int() with base 10: '30x'"
          ]
        }
      ]
    },
    {
      "cell_type": "code",
      "source": [
        "type(3.5)"
      ],
      "metadata": {
        "colab": {
          "base_uri": "https://localhost:8080/"
        },
        "id": "psgefYW16SBd",
        "outputId": "822f7989-c0b8-48cf-bc2f-a022d43acb76"
      },
      "execution_count": 35,
      "outputs": [
        {
          "output_type": "execute_result",
          "data": {
            "text/plain": [
              "float"
            ]
          },
          "metadata": {},
          "execution_count": 35
        }
      ]
    },
    {
      "cell_type": "markdown",
      "metadata": {
        "id": "gFWQoyfiNssG"
      },
      "source": [
        "<img src=\"https://github.com/gregworks/python-for-data-science/blob/main/images/border.jpg?raw=1\" height=\"10\" width=\"1500\" align=\"center\"/>"
      ]
    },
    {
      "cell_type": "markdown",
      "metadata": {
        "id": "ZQo20ZsFNssG"
      },
      "source": [
        "# Python Arithmetic"
      ]
    },
    {
      "cell_type": "markdown",
      "metadata": {
        "id": "2tRswwAnNssG"
      },
      "source": [
        "* Python interpreter can perform arithmetic similar to other languages"
      ]
    },
    {
      "cell_type": "code",
      "execution_count": 2,
      "metadata": {
        "colab": {
          "base_uri": "https://localhost:8080/"
        },
        "id": "VtcQH1WPNssG",
        "outputId": "3eb130aa-c3b0-4e23-c9dd-ff14360e8adf"
      },
      "outputs": [
        {
          "output_type": "execute_result",
          "data": {
            "text/plain": [
              "1.5"
            ]
          },
          "metadata": {},
          "execution_count": 2
        }
      ],
      "source": [
        "3 / 2"
      ]
    },
    {
      "cell_type": "code",
      "execution_count": 3,
      "metadata": {
        "colab": {
          "base_uri": "https://localhost:8080/"
        },
        "id": "uT55sfJINssG",
        "outputId": "20819d23-6f6c-4f0b-9ce0-02739f3315b8"
      },
      "outputs": [
        {
          "output_type": "execute_result",
          "data": {
            "text/plain": [
              "1"
            ]
          },
          "metadata": {},
          "execution_count": 3
        }
      ],
      "source": [
        "3 // 2 # \"int\" division"
      ]
    },
    {
      "cell_type": "markdown",
      "metadata": {
        "id": "5UU1HIzTNssH"
      },
      "source": [
        "<img src=\"https://github.com/gregworks/python-for-data-science/blob/main/images/border.jpg?raw=1\" height=\"10\" width=\"1500\" align=\"center\"/>"
      ]
    },
    {
      "cell_type": "markdown",
      "metadata": {
        "id": "9hMwXMG_NssH"
      },
      "source": [
        "# div/mod/divmod"
      ]
    },
    {
      "cell_type": "code",
      "execution_count": 4,
      "metadata": {
        "colab": {
          "base_uri": "https://localhost:8080/"
        },
        "id": "5NFFSEWPNssH",
        "outputId": "29b7b485-e154-4d21-845a-ff531a28b9a9"
      },
      "outputs": [
        {
          "output_type": "execute_result",
          "data": {
            "text/plain": [
              "1"
            ]
          },
          "metadata": {},
          "execution_count": 4
        }
      ],
      "source": [
        "9 // 5 # \"quotient\""
      ]
    },
    {
      "cell_type": "code",
      "execution_count": 5,
      "metadata": {
        "colab": {
          "base_uri": "https://localhost:8080/"
        },
        "id": "O206JQxONssH",
        "outputId": "dea3863f-3a6e-4101-d89e-49e41f4f458c"
      },
      "outputs": [
        {
          "output_type": "execute_result",
          "data": {
            "text/plain": [
              "4"
            ]
          },
          "metadata": {},
          "execution_count": 5
        }
      ],
      "source": [
        "9 % 5 # remainder when dividing 9 by 5"
      ]
    },
    {
      "cell_type": "code",
      "execution_count": 6,
      "metadata": {
        "ExecuteTime": {
          "end_time": "2024-04-16T03:54:20.288190Z",
          "start_time": "2024-04-16T03:54:20.267684Z"
        },
        "colab": {
          "base_uri": "https://localhost:8080/"
        },
        "id": "OPFT8VxINssH",
        "outputId": "69daef5a-f843-4d97-f8ee-55efc182566f"
      },
      "outputs": [
        {
          "output_type": "execute_result",
          "data": {
            "text/plain": [
              "(1, 4)"
            ]
          },
          "metadata": {},
          "execution_count": 6
        }
      ],
      "source": [
        "divmod(9, 5) # Python functions can and often do return multiple values"
      ]
    },
    {
      "cell_type": "code",
      "execution_count": 7,
      "metadata": {
        "colab": {
          "base_uri": "https://localhost:8080/"
        },
        "id": "ldVq3Kv2NssH",
        "outputId": "0e20924f-44ef-431e-cbc1-459f89d29fc7"
      },
      "outputs": [
        {
          "output_type": "stream",
          "name": "stdout",
          "text": [
            "1\n",
            "4\n"
          ]
        }
      ],
      "source": [
        "quot, rem = divmod(9, 5)\n",
        "print(quot)\n",
        "print(rem)"
      ]
    },
    {
      "cell_type": "markdown",
      "metadata": {
        "id": "QnrG54N1NssI"
      },
      "source": [
        "<img src=\"https://github.com/gregworks/python-for-data-science/blob/main/images/border.jpg?raw=1\" height=\"10\" width=\"1500\" align=\"center\"/>"
      ]
    },
    {
      "cell_type": "markdown",
      "metadata": {
        "id": "8bs8Hy8YNssI"
      },
      "source": [
        "## Python has unlimited precision integers"
      ]
    },
    {
      "cell_type": "code",
      "source": [
        "2 * 3"
      ],
      "metadata": {
        "colab": {
          "base_uri": "https://localhost:8080/"
        },
        "id": "Z2BjzN_e7z3B",
        "outputId": "beb7eea6-d961-4f9f-cb4a-d5f99d30f1a7"
      },
      "execution_count": 8,
      "outputs": [
        {
          "output_type": "execute_result",
          "data": {
            "text/plain": [
              "6"
            ]
          },
          "metadata": {},
          "execution_count": 8
        }
      ]
    },
    {
      "cell_type": "code",
      "source": [
        "2 ** 3"
      ],
      "metadata": {
        "colab": {
          "base_uri": "https://localhost:8080/"
        },
        "id": "J-PELb7G71hn",
        "outputId": "a7f015ad-9381-45ed-f99d-b20879fa7b1e"
      },
      "execution_count": 9,
      "outputs": [
        {
          "output_type": "execute_result",
          "data": {
            "text/plain": [
              "8"
            ]
          },
          "metadata": {},
          "execution_count": 9
        }
      ]
    },
    {
      "cell_type": "code",
      "execution_count": 14,
      "metadata": {
        "ExecuteTime": {
          "end_time": "2024-04-16T03:54:26.324790Z",
          "start_time": "2024-04-16T03:54:26.311313Z"
        },
        "colab": {
          "base_uri": "https://localhost:8080/",
          "height": 356
        },
        "id": "_PinZBMoNssI",
        "outputId": "0387d15d-919c-450f-bf4a-1dc17e811db5"
      },
      "outputs": [
        {
          "output_type": "error",
          "ename": "ValueError",
          "evalue": "Exceeds the limit (4300) for integer string conversion; use sys.set_int_max_str_digits() to increase the limit",
          "traceback": [
            "\u001b[0;31m---------------------------------------------------------------------------\u001b[0m",
            "\u001b[0;31mValueError\u001b[0m                                Traceback (most recent call last)",
            "\u001b[0;32m/usr/local/lib/python3.10/dist-packages/IPython/core/formatters.py\u001b[0m in \u001b[0;36m__call__\u001b[0;34m(self, obj)\u001b[0m\n\u001b[1;32m    700\u001b[0m                 \u001b[0mtype_pprinters\u001b[0m\u001b[0;34m=\u001b[0m\u001b[0mself\u001b[0m\u001b[0;34m.\u001b[0m\u001b[0mtype_printers\u001b[0m\u001b[0;34m,\u001b[0m\u001b[0;34m\u001b[0m\u001b[0;34m\u001b[0m\u001b[0m\n\u001b[1;32m    701\u001b[0m                 deferred_pprinters=self.deferred_printers)\n\u001b[0;32m--> 702\u001b[0;31m             \u001b[0mprinter\u001b[0m\u001b[0;34m.\u001b[0m\u001b[0mpretty\u001b[0m\u001b[0;34m(\u001b[0m\u001b[0mobj\u001b[0m\u001b[0;34m)\u001b[0m\u001b[0;34m\u001b[0m\u001b[0;34m\u001b[0m\u001b[0m\n\u001b[0m\u001b[1;32m    703\u001b[0m             \u001b[0mprinter\u001b[0m\u001b[0;34m.\u001b[0m\u001b[0mflush\u001b[0m\u001b[0;34m(\u001b[0m\u001b[0;34m)\u001b[0m\u001b[0;34m\u001b[0m\u001b[0;34m\u001b[0m\u001b[0m\n\u001b[1;32m    704\u001b[0m             \u001b[0;32mreturn\u001b[0m \u001b[0mstream\u001b[0m\u001b[0;34m.\u001b[0m\u001b[0mgetvalue\u001b[0m\u001b[0;34m(\u001b[0m\u001b[0;34m)\u001b[0m\u001b[0;34m\u001b[0m\u001b[0;34m\u001b[0m\u001b[0m\n",
            "\u001b[0;32m/usr/local/lib/python3.10/dist-packages/IPython/lib/pretty.py\u001b[0m in \u001b[0;36mpretty\u001b[0;34m(self, obj)\u001b[0m\n\u001b[1;32m    375\u001b[0m                 \u001b[0;32mif\u001b[0m \u001b[0mcls\u001b[0m \u001b[0;32min\u001b[0m \u001b[0mself\u001b[0m\u001b[0;34m.\u001b[0m\u001b[0mtype_pprinters\u001b[0m\u001b[0;34m:\u001b[0m\u001b[0;34m\u001b[0m\u001b[0;34m\u001b[0m\u001b[0m\n\u001b[1;32m    376\u001b[0m                     \u001b[0;31m# printer registered in self.type_pprinters\u001b[0m\u001b[0;34m\u001b[0m\u001b[0;34m\u001b[0m\u001b[0m\n\u001b[0;32m--> 377\u001b[0;31m                     \u001b[0;32mreturn\u001b[0m \u001b[0mself\u001b[0m\u001b[0;34m.\u001b[0m\u001b[0mtype_pprinters\u001b[0m\u001b[0;34m[\u001b[0m\u001b[0mcls\u001b[0m\u001b[0;34m]\u001b[0m\u001b[0;34m(\u001b[0m\u001b[0mobj\u001b[0m\u001b[0;34m,\u001b[0m \u001b[0mself\u001b[0m\u001b[0;34m,\u001b[0m \u001b[0mcycle\u001b[0m\u001b[0;34m)\u001b[0m\u001b[0;34m\u001b[0m\u001b[0;34m\u001b[0m\u001b[0m\n\u001b[0m\u001b[1;32m    378\u001b[0m                 \u001b[0;32melse\u001b[0m\u001b[0;34m:\u001b[0m\u001b[0;34m\u001b[0m\u001b[0;34m\u001b[0m\u001b[0m\n\u001b[1;32m    379\u001b[0m                     \u001b[0;31m# deferred printer\u001b[0m\u001b[0;34m\u001b[0m\u001b[0;34m\u001b[0m\u001b[0m\n",
            "\u001b[0;32m/usr/local/lib/python3.10/dist-packages/IPython/lib/pretty.py\u001b[0m in \u001b[0;36m_repr_pprint\u001b[0;34m(obj, p, cycle)\u001b[0m\n\u001b[1;32m    698\u001b[0m     \u001b[0;34m\"\"\"A pprint that just redirects to the normal repr function.\"\"\"\u001b[0m\u001b[0;34m\u001b[0m\u001b[0;34m\u001b[0m\u001b[0m\n\u001b[1;32m    699\u001b[0m     \u001b[0;31m# Find newlines and replace them with p.break_()\u001b[0m\u001b[0;34m\u001b[0m\u001b[0;34m\u001b[0m\u001b[0m\n\u001b[0;32m--> 700\u001b[0;31m     \u001b[0moutput\u001b[0m \u001b[0;34m=\u001b[0m \u001b[0mrepr\u001b[0m\u001b[0;34m(\u001b[0m\u001b[0mobj\u001b[0m\u001b[0;34m)\u001b[0m\u001b[0;34m\u001b[0m\u001b[0;34m\u001b[0m\u001b[0m\n\u001b[0m\u001b[1;32m    701\u001b[0m     \u001b[0mlines\u001b[0m \u001b[0;34m=\u001b[0m \u001b[0moutput\u001b[0m\u001b[0;34m.\u001b[0m\u001b[0msplitlines\u001b[0m\u001b[0;34m(\u001b[0m\u001b[0;34m)\u001b[0m\u001b[0;34m\u001b[0m\u001b[0;34m\u001b[0m\u001b[0m\n\u001b[1;32m    702\u001b[0m     \u001b[0;32mwith\u001b[0m \u001b[0mp\u001b[0m\u001b[0;34m.\u001b[0m\u001b[0mgroup\u001b[0m\u001b[0;34m(\u001b[0m\u001b[0;34m)\u001b[0m\u001b[0;34m:\u001b[0m\u001b[0;34m\u001b[0m\u001b[0;34m\u001b[0m\u001b[0m\n",
            "\u001b[0;31mValueError\u001b[0m: Exceeds the limit (4300) for integer string conversion; use sys.set_int_max_str_digits() to increase the limit"
          ]
        }
      ],
      "source": [
        "2 ** 20000"
      ]
    },
    {
      "cell_type": "markdown",
      "metadata": {
        "id": "_tkYhVyKNssI"
      },
      "source": [
        "<img src=\"https://github.com/gregworks/python-for-data-science/blob/main/images/border.jpg?raw=1\" height=\"10\" width=\"1500\" align=\"center\"/>"
      ]
    },
    {
      "cell_type": "markdown",
      "metadata": {
        "id": "BqiNVHUINssI"
      },
      "source": [
        "## Floating Point Numbers\n",
        "* similar to floating point numbers in other languages\n",
        "* use __`float()`__ to convert to float, just as __`int()`__ converts to integer"
      ]
    },
    {
      "cell_type": "code",
      "execution_count": 15,
      "metadata": {
        "ExecuteTime": {
          "end_time": "2024-04-16T03:56:10.768490Z",
          "start_time": "2024-04-16T03:56:10.755198Z"
        },
        "colab": {
          "base_uri": "https://localhost:8080/"
        },
        "id": "hfoIU2zINssI",
        "outputId": "81fa48a5-ca60-4d37-91f3-c269a6a8e438"
      },
      "outputs": [
        {
          "output_type": "execute_result",
          "data": {
            "text/plain": [
              "1.0"
            ]
          },
          "metadata": {},
          "execution_count": 15
        }
      ],
      "source": [
        "x = 1\n",
        "float(x)"
      ]
    },
    {
      "cell_type": "code",
      "execution_count": 16,
      "metadata": {
        "ExecuteTime": {
          "end_time": "2024-04-16T03:56:10.951365Z",
          "start_time": "2024-04-16T03:56:10.938091Z"
        },
        "colab": {
          "base_uri": "https://localhost:8080/"
        },
        "id": "9zq-g2iPNssJ",
        "outputId": "4dd13db8-c212-415a-dbc1-6ac9ee26aac8"
      },
      "outputs": [
        {
          "output_type": "execute_result",
          "data": {
            "text/plain": [
              "1.0"
            ]
          },
          "metadata": {},
          "execution_count": 16
        }
      ],
      "source": [
        "float(True)"
      ]
    },
    {
      "cell_type": "code",
      "execution_count": 17,
      "metadata": {
        "ExecuteTime": {
          "end_time": "2024-04-16T03:56:11.603471Z",
          "start_time": "2024-04-16T03:56:11.531113Z"
        },
        "colab": {
          "base_uri": "https://localhost:8080/",
          "height": 141
        },
        "id": "tnvhNv2SNssJ",
        "outputId": "e25dea76-50f3-4e8a-d1a9-ec316ecc3034"
      },
      "outputs": [
        {
          "output_type": "error",
          "ename": "ValueError",
          "evalue": "could not convert string to float: 'x'",
          "traceback": [
            "\u001b[0;31m---------------------------------------------------------------------------\u001b[0m",
            "\u001b[0;31mValueError\u001b[0m                                Traceback (most recent call last)",
            "\u001b[0;32m<ipython-input-17-03fad68b41c9>\u001b[0m in \u001b[0;36m<cell line: 1>\u001b[0;34m()\u001b[0m\n\u001b[0;32m----> 1\u001b[0;31m \u001b[0mfloat\u001b[0m\u001b[0;34m(\u001b[0m\u001b[0;34m'x'\u001b[0m\u001b[0;34m)\u001b[0m\u001b[0;34m\u001b[0m\u001b[0;34m\u001b[0m\u001b[0m\n\u001b[0m",
            "\u001b[0;31mValueError\u001b[0m: could not convert string to float: 'x'"
          ]
        }
      ],
      "source": [
        "float('x')"
      ]
    },
    {
      "cell_type": "markdown",
      "metadata": {
        "id": "40i6RB5_NssJ"
      },
      "source": [
        "<img src=\"https://github.com/gregworks/python-for-data-science/blob/main/images/border.jpg?raw=1\" height=\"10\" width=\"1500\" align=\"center\"/>"
      ]
    },
    {
      "cell_type": "markdown",
      "metadata": {
        "id": "7GMOhh_uNssJ"
      },
      "source": [
        "# Strings"
      ]
    },
    {
      "cell_type": "markdown",
      "metadata": {
        "id": "mJjsI6ftNssJ"
      },
      "source": [
        "* use single or double quotes\n",
        "* `\\` lets you escape the next character, i.e., avoid its usual meaning"
      ]
    },
    {
      "cell_type": "code",
      "source": [
        "'hello it's me"
      ],
      "metadata": {
        "colab": {
          "base_uri": "https://localhost:8080/",
          "height": 106
        },
        "id": "0C6Fb3SC8VE9",
        "outputId": "af638922-3c4f-44c9-c39b-e8868a261967"
      },
      "execution_count": 19,
      "outputs": [
        {
          "output_type": "error",
          "ename": "SyntaxError",
          "evalue": "invalid syntax (<ipython-input-19-b04b4e0983d3>, line 1)",
          "traceback": [
            "\u001b[0;36m  File \u001b[0;32m\"<ipython-input-19-b04b4e0983d3>\"\u001b[0;36m, line \u001b[0;32m1\u001b[0m\n\u001b[0;31m    'hello it's me\u001b[0m\n\u001b[0m              ^\u001b[0m\n\u001b[0;31mSyntaxError\u001b[0m\u001b[0;31m:\u001b[0m invalid syntax\n"
          ]
        }
      ]
    },
    {
      "cell_type": "code",
      "source": [
        "\"hello it's me\""
      ],
      "metadata": {
        "colab": {
          "base_uri": "https://localhost:8080/",
          "height": 36
        },
        "id": "ccuiYoCc8dE3",
        "outputId": "123eaa45-7de6-4af6-9b7d-05491d376a28"
      },
      "execution_count": 20,
      "outputs": [
        {
          "output_type": "execute_result",
          "data": {
            "text/plain": [
              "\"hello it's me\""
            ],
            "application/vnd.google.colaboratory.intrinsic+json": {
              "type": "string"
            }
          },
          "metadata": {},
          "execution_count": 20
        }
      ]
    },
    {
      "cell_type": "code",
      "execution_count": 21,
      "metadata": {
        "colab": {
          "base_uri": "https://localhost:8080/",
          "height": 36
        },
        "id": "2Cy1PAMsNssJ",
        "outputId": "b15951bf-6798-433c-de44-b49344dcf547"
      },
      "outputs": [
        {
          "output_type": "execute_result",
          "data": {
            "text/plain": [
              "\"This string isn't a problem\""
            ],
            "application/vnd.google.colaboratory.intrinsic+json": {
              "type": "string"
            }
          },
          "metadata": {},
          "execution_count": 21
        }
      ],
      "source": [
        "string1 = \"This string isn't a problem\"\n",
        "string1"
      ]
    },
    {
      "cell_type": "code",
      "execution_count": 22,
      "metadata": {
        "colab": {
          "base_uri": "https://localhost:8080/",
          "height": 36
        },
        "id": "FOCT248HNssK",
        "outputId": "a5f9315e-26cc-4a8c-e80e-4581bfca031d"
      },
      "outputs": [
        {
          "output_type": "execute_result",
          "data": {
            "text/plain": [
              "'This string is a \"good\" example'"
            ],
            "application/vnd.google.colaboratory.intrinsic+json": {
              "type": "string"
            }
          },
          "metadata": {},
          "execution_count": 22
        }
      ],
      "source": [
        "string2 = 'This string is a \"good\" example'\n",
        "string2"
      ]
    },
    {
      "cell_type": "code",
      "execution_count": 27,
      "metadata": {
        "colab": {
          "base_uri": "https://localhost:8080/"
        },
        "id": "tTRKFAB2NssK",
        "outputId": "2b1eabd0-dc2f-461c-8faf-c392acd2b20c"
      },
      "outputs": [
        {
          "output_type": "stream",
          "name": "stdout",
          "text": [
            "This string isn't \"more difficult\" to read\n"
          ]
        }
      ],
      "source": [
        "string3 = 'This string isn\\'t \"more difficult\" to read'\n",
        "print(string3)"
      ]
    },
    {
      "cell_type": "code",
      "execution_count": 30,
      "metadata": {
        "colab": {
          "base_uri": "https://localhost:8080/",
          "height": 36
        },
        "id": "5A9k544GNssK",
        "outputId": "f01702c8-ed30-43c4-82b9-8247139145c1"
      },
      "outputs": [
        {
          "output_type": "execute_result",
          "data": {
            "text/plain": [
              "'A man,\\tA plan,\\nA canal:\\nPanama.'"
            ],
            "application/vnd.google.colaboratory.intrinsic+json": {
              "type": "string"
            }
          },
          "metadata": {},
          "execution_count": 30
        }
      ],
      "source": [
        "palindrome = 'A man,\\tA plan,\\nA canal:\\nPanama.'\n",
        "palindrome"
      ]
    },
    {
      "cell_type": "code",
      "execution_count": 31,
      "metadata": {
        "colab": {
          "base_uri": "https://localhost:8080/"
        },
        "id": "U1PIHt03NssK",
        "outputId": "7a45d9bb-0787-43d0-e9e2-f36ac441e09f"
      },
      "outputs": [
        {
          "output_type": "stream",
          "name": "stdout",
          "text": [
            "A man,\tA plan,\n",
            "A canal:\n",
            "Panama.\n"
          ]
        }
      ],
      "source": [
        "print(palindrome)"
      ]
    },
    {
      "cell_type": "markdown",
      "metadata": {
        "id": "L4EqTO1INssK"
      },
      "source": [
        "* `+` = concatenation operator\n",
        "* `*` = duplication operator"
      ]
    },
    {
      "cell_type": "code",
      "execution_count": 32,
      "metadata": {
        "colab": {
          "base_uri": "https://localhost:8080/"
        },
        "id": "WTGXv-fgNssL",
        "outputId": "1bff885d-ebea-44b5-c51f-08af4d25ec3b"
      },
      "outputs": [
        {
          "output_type": "stream",
          "name": "stdout",
          "text": [
            "hellobye\n",
            "hello bye\n"
          ]
        }
      ],
      "source": [
        "s, t = \"hello\", 'bye' # bad practice\n",
        "print(s + t)\n",
        "print(s, t)"
      ]
    },
    {
      "cell_type": "code",
      "execution_count": 34,
      "metadata": {
        "colab": {
          "base_uri": "https://localhost:8080/",
          "height": 53
        },
        "id": "OScnhKBmNssL",
        "outputId": "c8d173bc-90a2-4f65-ecb7-af6194ce2f69"
      },
      "outputs": [
        {
          "output_type": "stream",
          "name": "stdout",
          "text": [
            "hellohellohellohello\n"
          ]
        },
        {
          "output_type": "execute_result",
          "data": {
            "text/plain": [
              "'---------------------------------------------------------------------------'"
            ],
            "application/vnd.google.colaboratory.intrinsic+json": {
              "type": "string"
            }
          },
          "metadata": {},
          "execution_count": 34
        }
      ],
      "source": [
        "print(s * 4)\n",
        "'-' * 75"
      ]
    },
    {
      "cell_type": "markdown",
      "metadata": {
        "id": "ub7m9Eb9NssL"
      },
      "source": [
        "<img src=\"https://github.com/gregworks/python-for-data-science/blob/main/images/border.jpg?raw=1\" height=\"10\" width=\"1500\" align=\"center\"/>"
      ]
    },
    {
      "cell_type": "markdown",
      "metadata": {
        "id": "CX_h3KS5NssL"
      },
      "source": [
        "## Multi-Line Strings\n",
        "* triple quotes allow for easy multi-line strings"
      ]
    },
    {
      "cell_type": "code",
      "source": [
        "''' a '''"
      ],
      "metadata": {
        "colab": {
          "base_uri": "https://localhost:8080/",
          "height": 36
        },
        "id": "LMGfKL1M9wfV",
        "outputId": "269217ac-d2b9-40e9-96e8-bd572653d2d3"
      },
      "execution_count": 37,
      "outputs": [
        {
          "output_type": "execute_result",
          "data": {
            "text/plain": [
              "' a '"
            ],
            "application/vnd.google.colaboratory.intrinsic+json": {
              "type": "string"
            }
          },
          "metadata": {},
          "execution_count": 37
        }
      ]
    },
    {
      "cell_type": "code",
      "execution_count": 38,
      "metadata": {
        "colab": {
          "base_uri": "https://localhost:8080/",
          "height": 36
        },
        "id": "9ASsVSRVNssL",
        "outputId": "fc21ac08-6ed8-4b00-e9bf-5140f9e32cbb"
      },
      "outputs": [
        {
          "output_type": "execute_result",
          "data": {
            "text/plain": [
              "\"\\nisn't this a\\nmulti-line string\\n?\\n\""
            ],
            "application/vnd.google.colaboratory.intrinsic+json": {
              "type": "string"
            }
          },
          "metadata": {},
          "execution_count": 38
        }
      ],
      "source": [
        "s = \"\"\"\n",
        "isn't this a\n",
        "multi-line string\n",
        "?\n",
        "\"\"\"\n",
        "\n",
        "s # compute the value of this expression"
      ]
    },
    {
      "cell_type": "code",
      "execution_count": 39,
      "metadata": {
        "colab": {
          "base_uri": "https://localhost:8080/"
        },
        "id": "66olUSM_NssM",
        "outputId": "ba66f20f-cf38-476f-abda-2da7876185dc"
      },
      "outputs": [
        {
          "output_type": "stream",
          "name": "stdout",
          "text": [
            "\n",
            "isn't this a\n",
            "multi-line string\n",
            "?\n",
            "\n"
          ]
        }
      ],
      "source": [
        "print(s)"
      ]
    },
    {
      "cell_type": "markdown",
      "metadata": {
        "id": "9yNO70P4NssM"
      },
      "source": [
        "<img src=\"https://github.com/gregworks/python-for-data-science/blob/main/images/border.jpg?raw=1\" height=\"10\" width=\"1500\" align=\"center\"/>"
      ]
    },
    {
      "cell_type": "markdown",
      "metadata": {
        "id": "3xpvGYsjNssM"
      },
      "source": [
        "## Lab: Strings\n",
        "* try these...\n",
        "* ...be sure you understand what they do\n",
        "\n",
        "```a, b, o, p = 'b', 'a', 'p', 'o'```\n",
        "\n",
        "```o + p + o```\n",
        "\n",
        "```a * 3 + b```\n",
        "\n",
        "```a + p * 2 + 'k' * 2 + 'e' * 2 + o + 'er'```"
      ]
    },
    {
      "cell_type": "code",
      "source": [
        "a, b, o, p = 'b', 'a', 'p', 'o'\n",
        "\n"
      ],
      "metadata": {
        "id": "0Igd2-TUBS4g"
      },
      "execution_count": 40,
      "outputs": []
    },
    {
      "cell_type": "code",
      "source": [
        "o + p + o\n",
        "\n",
        "\n"
      ],
      "metadata": {
        "colab": {
          "base_uri": "https://localhost:8080/",
          "height": 36
        },
        "id": "YVoZ80xsDAsu",
        "outputId": "58a3fb57-9a1a-4509-c886-8b1f3f00856e"
      },
      "execution_count": 41,
      "outputs": [
        {
          "output_type": "execute_result",
          "data": {
            "text/plain": [
              "'pop'"
            ],
            "application/vnd.google.colaboratory.intrinsic+json": {
              "type": "string"
            }
          },
          "metadata": {},
          "execution_count": 41
        }
      ]
    },
    {
      "cell_type": "code",
      "source": [
        "a * 3 + b"
      ],
      "metadata": {
        "colab": {
          "base_uri": "https://localhost:8080/",
          "height": 36
        },
        "id": "EiLTO7BBDJ-u",
        "outputId": "8fe10f9f-c85b-42ab-aeea-8a075f2d75d6"
      },
      "execution_count": 42,
      "outputs": [
        {
          "output_type": "execute_result",
          "data": {
            "text/plain": [
              "'bbba'"
            ],
            "application/vnd.google.colaboratory.intrinsic+json": {
              "type": "string"
            }
          },
          "metadata": {},
          "execution_count": 42
        }
      ]
    },
    {
      "cell_type": "code",
      "source": [
        "a + p * 2 + 'k' * 2 + 'e' * 2 + o + 'er'\n",
        "\n"
      ],
      "metadata": {
        "colab": {
          "base_uri": "https://localhost:8080/",
          "height": 36
        },
        "id": "O3baaE_oDNdY",
        "outputId": "7c4050f3-3485-48df-9257-d2388c2a1e20"
      },
      "execution_count": 43,
      "outputs": [
        {
          "output_type": "execute_result",
          "data": {
            "text/plain": [
              "'bookkeeper'"
            ],
            "application/vnd.google.colaboratory.intrinsic+json": {
              "type": "string"
            }
          },
          "metadata": {},
          "execution_count": 43
        }
      ]
    },
    {
      "cell_type": "markdown",
      "metadata": {
        "id": "6gUG4FUkNssM"
      },
      "source": [
        "<img src=\"https://github.com/gregworks/python-for-data-science/blob/main/images/border.jpg?raw=1\" height=\"10\" width=\"1500\" align=\"center\"/>"
      ]
    },
    {
      "cell_type": "markdown",
      "metadata": {
        "id": "HDG_aCdxNssM"
      },
      "source": [
        "## __`len()`__\n",
        "* returns the length of a string"
      ]
    },
    {
      "cell_type": "code",
      "execution_count": 44,
      "metadata": {
        "colab": {
          "base_uri": "https://localhost:8080/"
        },
        "id": "rz23CndONssM",
        "outputId": "e9920e41-d6c2-426f-c518-c936a5eff859"
      },
      "outputs": [
        {
          "output_type": "execute_result",
          "data": {
            "text/plain": [
              "6"
            ]
          },
          "metadata": {},
          "execution_count": 44
        }
      ],
      "source": [
        "p = 'Prince'\n",
        "len(p)"
      ]
    },
    {
      "cell_type": "code",
      "execution_count": 45,
      "metadata": {
        "colab": {
          "base_uri": "https://localhost:8080/"
        },
        "id": "ZhnkcFaaNssN",
        "outputId": "2c9c3464-45c7-48a6-b459-e0d5fdde1c38"
      },
      "outputs": [
        {
          "output_type": "execute_result",
          "data": {
            "text/plain": [
              "0"
            ]
          },
          "metadata": {},
          "execution_count": 45
        }
      ],
      "source": [
        "len('')"
      ]
    },
    {
      "cell_type": "code",
      "execution_count": 48,
      "metadata": {
        "colab": {
          "base_uri": "https://localhost:8080/"
        },
        "id": "fGcc57pdNssN",
        "outputId": "70603d15-f21e-40ca-e971-e6ab3769dfe5"
      },
      "outputs": [
        {
          "output_type": "stream",
          "name": "stdout",
          "text": [
            "PrincePrincePrincePrincePrince\n"
          ]
        }
      ],
      "source": [
        "len(p * 5)\n",
        "print(p * 5)"
      ]
    },
    {
      "cell_type": "markdown",
      "metadata": {
        "id": "1ZNpr9INNssN"
      },
      "source": [
        "<img src=\"https://github.com/gregworks/python-for-data-science/blob/main/images/border.jpg?raw=1\" height=\"10\" width=\"1500\" align=\"center\"/>"
      ]
    },
    {
      "cell_type": "markdown",
      "metadata": {
        "id": "e-1f5qSUNssN"
      },
      "source": [
        "## Indexing Strings with __`[]`__\n",
        "* access a single character via its offset\n",
        "* easier to think of offset as opposed to index\n",
        "* negative offsets count from end of string"
      ]
    },
    {
      "cell_type": "code",
      "execution_count": 49,
      "metadata": {
        "colab": {
          "base_uri": "https://localhost:8080/",
          "height": 36
        },
        "id": "LM3i9SlDNssN",
        "outputId": "ca793e99-daf0-4ab5-fb6a-8f591a5dabe2"
      },
      "outputs": [
        {
          "output_type": "execute_result",
          "data": {
            "text/plain": [
              "'a'"
            ],
            "application/vnd.google.colaboratory.intrinsic+json": {
              "type": "string"
            }
          },
          "metadata": {},
          "execution_count": 49
        }
      ],
      "source": [
        "alphabet = 'abcdefghijklmnopqrstuvwxyz'\n",
        "alphabet[0]"
      ]
    },
    {
      "cell_type": "code",
      "source": [
        "alphabet[26]"
      ],
      "metadata": {
        "colab": {
          "base_uri": "https://localhost:8080/",
          "height": 141
        },
        "id": "rHgPbrqlEOTm",
        "outputId": "04cc6886-a640-4b65-b8b7-ef5344472947"
      },
      "execution_count": 51,
      "outputs": [
        {
          "output_type": "error",
          "ename": "IndexError",
          "evalue": "string index out of range",
          "traceback": [
            "\u001b[0;31m---------------------------------------------------------------------------\u001b[0m",
            "\u001b[0;31mIndexError\u001b[0m                                Traceback (most recent call last)",
            "\u001b[0;32m<ipython-input-51-e8f521c6472f>\u001b[0m in \u001b[0;36m<cell line: 1>\u001b[0;34m()\u001b[0m\n\u001b[0;32m----> 1\u001b[0;31m \u001b[0malphabet\u001b[0m\u001b[0;34m[\u001b[0m\u001b[0;36m26\u001b[0m\u001b[0;34m]\u001b[0m\u001b[0;34m\u001b[0m\u001b[0;34m\u001b[0m\u001b[0m\n\u001b[0m",
            "\u001b[0;31mIndexError\u001b[0m: string index out of range"
          ]
        }
      ]
    },
    {
      "cell_type": "code",
      "execution_count": 50,
      "metadata": {
        "colab": {
          "base_uri": "https://localhost:8080/",
          "height": 36
        },
        "id": "d83X3OypNssN",
        "outputId": "145e72b7-8748-434a-e532-657fefda3a51"
      },
      "outputs": [
        {
          "output_type": "execute_result",
          "data": {
            "text/plain": [
              "'z'"
            ],
            "application/vnd.google.colaboratory.intrinsic+json": {
              "type": "string"
            }
          },
          "metadata": {},
          "execution_count": 50
        }
      ],
      "source": [
        "alphabet[25] # len(alphabet)-1"
      ]
    },
    {
      "cell_type": "code",
      "source": [
        "alphabet[len(alphabet)-1]"
      ],
      "metadata": {
        "colab": {
          "base_uri": "https://localhost:8080/",
          "height": 36
        },
        "id": "TWOCnEEzEUih",
        "outputId": "44adf095-4b9b-4f9b-8a49-9eafa2c0177a"
      },
      "execution_count": 52,
      "outputs": [
        {
          "output_type": "execute_result",
          "data": {
            "text/plain": [
              "'z'"
            ],
            "application/vnd.google.colaboratory.intrinsic+json": {
              "type": "string"
            }
          },
          "metadata": {},
          "execution_count": 52
        }
      ]
    },
    {
      "cell_type": "code",
      "execution_count": 53,
      "metadata": {
        "colab": {
          "base_uri": "https://localhost:8080/",
          "height": 36
        },
        "id": "No_ySdjFNssO",
        "outputId": "8b3f39a9-304b-4597-af1f-7fcb55c9bb44"
      },
      "outputs": [
        {
          "output_type": "execute_result",
          "data": {
            "text/plain": [
              "'z'"
            ],
            "application/vnd.google.colaboratory.intrinsic+json": {
              "type": "string"
            }
          },
          "metadata": {},
          "execution_count": 53
        }
      ],
      "source": [
        "alphabet[-1] # idiomatic -- I want the last value or start from the end of the string and count backwards"
      ]
    },
    {
      "cell_type": "code",
      "source": [
        "len(alphabet)"
      ],
      "metadata": {
        "colab": {
          "base_uri": "https://localhost:8080/"
        },
        "id": "4HiYJ2M8E9mx",
        "outputId": "9a98bf68-8ce4-4e14-f335-0c8ad9b29e37"
      },
      "execution_count": 58,
      "outputs": [
        {
          "output_type": "execute_result",
          "data": {
            "text/plain": [
              "26"
            ]
          },
          "metadata": {},
          "execution_count": 58
        }
      ]
    },
    {
      "cell_type": "code",
      "execution_count": 60,
      "metadata": {
        "colab": {
          "base_uri": "https://localhost:8080/",
          "height": 36
        },
        "id": "mBTTuWJbNssO",
        "outputId": "6b06a485-3a75-4fec-9239-e46f3cea5200"
      },
      "outputs": [
        {
          "output_type": "execute_result",
          "data": {
            "text/plain": [
              "'a'"
            ],
            "application/vnd.google.colaboratory.intrinsic+json": {
              "type": "string"
            }
          },
          "metadata": {},
          "execution_count": 60
        }
      ],
      "source": [
        "alphabet[len(alphabet)-26]"
      ]
    },
    {
      "cell_type": "markdown",
      "metadata": {
        "id": "n9CnwezvNssO"
      },
      "source": [
        "<img src=\"https://github.com/gregworks/python-for-data-science/blob/main/images/border.jpg?raw=1\" height=\"10\" width=\"1500\" align=\"center\"/>"
      ]
    },
    {
      "cell_type": "markdown",
      "metadata": {
        "id": "I_nBZWPnNssO"
      },
      "source": [
        "# Let's start writing some code!"
      ]
    },
    {
      "cell_type": "code",
      "source": [
        "help(input)"
      ],
      "metadata": {
        "colab": {
          "base_uri": "https://localhost:8080/"
        },
        "id": "sQWr9tZoFO7H",
        "outputId": "828f6971-464f-4eff-e2d9-8d9c3b2f59ee"
      },
      "execution_count": 61,
      "outputs": [
        {
          "output_type": "stream",
          "name": "stdout",
          "text": [
            "Help on method raw_input in module ipykernel.kernelbase:\n",
            "\n",
            "raw_input(prompt='') method of google.colab._kernel.Kernel instance\n",
            "    Forward raw_input to frontends\n",
            "    \n",
            "    Raises\n",
            "    ------\n",
            "    StdinNotImplementedError if active frontend doesn't support stdin.\n",
            "\n"
          ]
        }
      ]
    },
    {
      "cell_type": "code",
      "execution_count": 62,
      "metadata": {
        "colab": {
          "base_uri": "https://localhost:8080/"
        },
        "id": "6RfpLZKCNssO",
        "outputId": "1f8477cb-2385-48b0-bb2a-2fc99e21208d"
      },
      "outputs": [
        {
          "output_type": "stream",
          "name": "stdout",
          "text": [
            "Enter your name: Greg\n",
            "You entered Greg\n"
          ]
        }
      ],
      "source": [
        "name = input('Enter your name: ')\n",
        "print('You entered', name)"
      ]
    },
    {
      "cell_type": "markdown",
      "metadata": {
        "id": "zde64MJmNssO"
      },
      "source": [
        "<img src=\"https://github.com/gregworks/python-for-data-science/blob/main/images/border.jpg?raw=1\" height=\"10\" width=\"1500\" align=\"center\"/>"
      ]
    },
    {
      "cell_type": "markdown",
      "metadata": {
        "id": "muzaZxDwNssP"
      },
      "source": [
        "# Indentation"
      ]
    },
    {
      "cell_type": "markdown",
      "metadata": {
        "id": "WFwYDd2GNssP"
      },
      "source": [
        "## Indentation\n",
        "* colons and indentation delineate blocks {...}\n",
        "* no braces!\n",
        "* this will trip you up at first but once you're used to it, you'll love it"
      ]
    },
    {
      "cell_type": "code",
      "execution_count": 65,
      "metadata": {
        "colab": {
          "base_uri": "https://localhost:8080/"
        },
        "id": "gEJc2KuHNssP",
        "outputId": "a20d112f-6fac-479b-8be9-f1957d56d02e"
      },
      "outputs": [
        {
          "output_type": "stream",
          "name": "stdout",
          "text": [
            "x is something other than 1, x is 2\n",
            "more stuff\n"
          ]
        }
      ],
      "source": [
        "x = 2 # assign the value of 2 to x\n",
        "if x == 1: # is x equal to 1?\n",
        "    print('Hey, x is 1!')\n",
        "    print('first part of if')\n",
        "else:\n",
        "    print(f'x is something other than 1, x is {x}')\n",
        "    print('more stuff')"
      ]
    },
    {
      "cell_type": "markdown",
      "metadata": {
        "id": "9gh04pD-NssP"
      },
      "source": [
        "## Indentation (continued)\n",
        "*  indentation must be consistent throughout the block"
      ]
    },
    {
      "cell_type": "code",
      "execution_count": 74,
      "metadata": {
        "colab": {
          "base_uri": "https://localhost:8080/"
        },
        "id": "0EV9Uw5XNssP",
        "outputId": "3a5a548f-d880-438a-e5cf-9b0c8002e1a5"
      },
      "outputs": [
        {
          "output_type": "stream",
          "name": "stdout",
          "text": [
            "x is 1\n",
            "something else\n"
          ]
        }
      ],
      "source": [
        "x = 1\n",
        "if x == 1:\n",
        "    print('x is 1')\n",
        "    print('something else')"
      ]
    },
    {
      "cell_type": "markdown",
      "metadata": {
        "id": "9E1qg8PTNssQ"
      },
      "source": [
        "*  you can use any indentation you want as long as it's 4 spaces (PEP-8\n",
        "https://www.python.org/dev/peps/pep-0008/)"
      ]
    },
    {
      "cell_type": "markdown",
      "metadata": {
        "id": "n9gIMi5cNssQ"
      },
      "source": [
        "<img src=\"https://github.com/gregworks/python-for-data-science/blob/main/images/border.jpg?raw=1\" height=\"10\" width=\"1500\" align=\"center\"/>"
      ]
    },
    {
      "cell_type": "markdown",
      "metadata": {
        "id": "Gg8Mh67aNssQ"
      },
      "source": [
        "<a id=\"functions-def\"></a>\n",
        "## Common Python Functions and Control Flow\n",
        "---\n",
        "\n",
        "\n",
        "<img src=\"https://github.com/gregworks/python-for-data-science/blob/main/images/control.png?raw=1\" width=\"800\"  align=\"center\"/>\n",
        "\n",
        "---\n",
        "In this section, we're going to tackle some common design patterns in Python. The first is the concept of control flow — this is how our programs will return different results based on specific input. Second, we'll cover basic functions — these let us create snippets of code that we can call later in a script, which creates code that's easier to read and maintain. Remember, we're going to be reading code much more often than writing it!"
      ]
    },
    {
      "cell_type": "markdown",
      "metadata": {
        "id": "ubixenP2NssQ"
      },
      "source": [
        "## `if… else` Statements\n",
        "\n",
        "In Python, indentation matters! This is especially true when we look at the control structures in this lesson. In each case, a block of indented code is only run some of the time. There will always be a condition in the line preceding the indented block that determines whether the indented code is run or skipped.\n",
        "\n",
        "### `if` Statement\n",
        "The simplest example of a control structure is the `if` statement. We start with `if`, followed by something that can evaluate to `True` or `False` (such as any of the comparison operators we discussed earlier)."
      ]
    },
    {
      "cell_type": "code",
      "execution_count": 75,
      "metadata": {
        "colab": {
          "base_uri": "https://localhost:8080/"
        },
        "id": "-gRQvujUNssQ",
        "outputId": "9b36c600-5c89-46d2-ad21-e7cc93d3eb67"
      },
      "outputs": [
        {
          "output_type": "stream",
          "name": "stdout",
          "text": [
            "The integer 1 is equal to the integer 1.\n",
            "Is the next indented line run, too?\n"
          ]
        }
      ],
      "source": [
        "if 1 == 1:\n",
        "    print('The integer 1 is equal to the integer 1.')\n",
        "    print('Is the next indented line run, too?')"
      ]
    },
    {
      "cell_type": "code",
      "execution_count": 78,
      "metadata": {
        "colab": {
          "base_uri": "https://localhost:8080/"
        },
        "id": "7rmBMomwNssR",
        "outputId": "0a0bc1d3-aef0-4241-b32a-628857600652"
      },
      "outputs": [
        {
          "output_type": "stream",
          "name": "stdout",
          "text": [
            "---\n",
            "These two lines are not indented, so they are always run next.\n"
          ]
        }
      ],
      "source": [
        "if 'one' == 'two':\n",
        "    print(\"The string 'one' is equal to the string 'two'.\")\n",
        "\n",
        "print('---')\n",
        "print('These two lines are not indented, so they are always run next.')"
      ]
    },
    {
      "cell_type": "markdown",
      "metadata": {
        "id": "8d6tDJpgNssR"
      },
      "source": [
        "Notice that, in Python, the line before every indented block must end with a colon (`:`). In fact, it turns out that the `if` statement has a very specific syntax:\n",
        "\n",
        "```\n",
        "if <expression>:\n",
        "    <one or more indented lines>\n",
        "```\n",
        "\n",
        "When the `if` statement is run, the expression is evaluated to `True` or `False` by applying the built-in `bool()` function. If the expression evaluates to `True`, the code block is run; otherwise, it is skipped."
      ]
    },
    {
      "cell_type": "markdown",
      "metadata": {
        "id": "Sglr2twXNssR"
      },
      "source": [
        "#### Now You Try!\n",
        "<img src=\"https://github.com/gregworks/python-for-data-science/blob/main/images/hands_on.jpg?raw=1\" width=\"100\" height=\"100\" align=\"right\"/>\n",
        "\n",
        "\n",
        "Create your own string called `test_string`, then fill in the blanks here to create an `if... else` statement for whether or not the first character in `test_string` is a lowercase `a`."
      ]
    },
    {
      "cell_type": "code",
      "execution_count": 82,
      "metadata": {
        "colab": {
          "base_uri": "https://localhost:8080/"
        },
        "id": "R0nV-FjGNssR",
        "outputId": "4d1b05ea-5c2b-48dd-c6d6-457802be849f"
      },
      "outputs": [
        {
          "output_type": "stream",
          "name": "stdout",
          "text": [
            "No\n"
          ]
        }
      ],
      "source": [
        "#### Type your answer here\n",
        "test_string='Apple is a company'\n",
        "if test_string[0] == \"a\":\n",
        "  print(\"Yes\")\n",
        "else:\n",
        "  print(\"No\")\n",
        ""
      ]
    },
    {
      "cell_type": "markdown",
      "metadata": {
        "id": "Bwr21ETaNssR"
      },
      "source": [
        "#### `if` ... `else`\n",
        "\n",
        "In many cases, you may want to run some code if the expression evaluates to `True` and some other code if it evaluates to `False`. This is done using `else`. Note how it is at the same indentation level as the `if` statement, followed by a colon, followed by a code block. Let's see it in action."
      ]
    },
    {
      "cell_type": "code",
      "execution_count": 84,
      "metadata": {
        "colab": {
          "base_uri": "https://localhost:8080/"
        },
        "id": "UGCka4-oNssR",
        "outputId": "1903d3c6-abcf-4192-b9a3-b8a5f5e4fe44"
      },
      "outputs": [
        {
          "output_type": "stream",
          "name": "stdout",
          "text": [
            "50 >= 30.\n",
            "The else code block was run instead of the first block.\n",
            "---\n",
            "These two lines are not indented, so they are always run next.\n"
          ]
        }
      ],
      "source": [
        "if 50 < 30:\n",
        "    print(\"50 < 30.\")\n",
        "else:\n",
        "    print(\"50 >= 30.\")\n",
        "    print(\"The else code block was run instead of the first block.\")\n",
        "\n",
        "print('---')\n",
        "print('These two lines are not indented, so they are always run next.')"
      ]
    },
    {
      "cell_type": "markdown",
      "metadata": {
        "id": "I3ZrCZ23NssS"
      },
      "source": [
        "#### `if` ... `elif` ... `else`\n",
        "\n",
        "Sometimes, you might want to run one specific code block out of several. For example, perhaps we provide the user with three choices and want something different to happen with each one.\n",
        "\n",
        "`elif` stands for `else if`. It belongs on a line between the initial `if` statement and an (optional) `else`."
      ]
    },
    {
      "cell_type": "code",
      "execution_count": 87,
      "metadata": {
        "colab": {
          "base_uri": "https://localhost:8080/"
        },
        "id": "0YJ0dE9zNssS",
        "outputId": "cdd4c2bd-d6bf-433e-91b8-cb9d47da2e83"
      },
      "outputs": [
        {
          "output_type": "stream",
          "name": "stdout",
          "text": [
            "Your health is low.\n",
            "Please see a doctor now.\n",
            "---\n",
            "These two lines are not indented, so they are always run next.\n"
          ]
        }
      ],
      "source": [
        "health = 18\n",
        "\n",
        "if health > 70 :\n",
        "    print('You are in great health!')\n",
        "elif health > 40:\n",
        "    print('Your health is average.')\n",
        "    print('Exercise and eat healthily!')\n",
        "elif health > 20:\n",
        "    print('Your health is ok.')\n",
        "    print('Dont eat meat!')\n",
        "else:\n",
        "    print('Your health is low.')\n",
        "    print('Please see a doctor now.')\n",
        "\n",
        "print('---')\n",
        "print('These two lines are not indented, so they are always run next.')"
      ]
    },
    {
      "cell_type": "markdown",
      "metadata": {
        "id": "nUwwsDRlNssS"
      },
      "source": [
        "This code works by evaluating each condition in order. If a condition evaluates to `True`, the rest are skipped.\n",
        "\n",
        "**Let's walk through the code.** First, we let `health = 55`. We move to the next line at the same indentation level — the `if`. We evaluate `health > 70` to be `False`, so its code block is skipped. Next, the interpreter moves to the next line at the same outer indentation level, which happens to be the `elif`. It evaluates its expression, `health > 40`, to be `True`, so its code block is run. Now, because a code block was run, the rest of the `if` statement is skipped."
      ]
    },
    {
      "cell_type": "markdown",
      "metadata": {
        "id": "Sa9N3TSUNssS"
      },
      "source": [
        "<img src=\"https://github.com/gregworks/python-for-data-science/blob/main/images/border.jpg?raw=1\" height=\"10\" width=\"1500\" align=\"center\"/>"
      ]
    },
    {
      "cell_type": "markdown",
      "metadata": {
        "id": "ra5fVBZFNssS"
      },
      "source": [
        "# Comparison Operators\n",
        "\n",
        "| operator | meaning |\n",
        "|---|---|\n",
        "| == | equality  |\n",
        "| != | inequality|\n",
        "| < | less than |\n",
        "| <= | less than or equals |\n",
        "| > | greater than |\n",
        "| >= | greater than or equals |\n",
        "| in | membership |"
      ]
    },
    {
      "cell_type": "code",
      "execution_count": 88,
      "metadata": {
        "id": "kg9OYYtlNssT"
      },
      "outputs": [],
      "source": [
        "x = 7"
      ]
    },
    {
      "cell_type": "code",
      "execution_count": 89,
      "metadata": {
        "colab": {
          "base_uri": "https://localhost:8080/"
        },
        "id": "tbC628YLNssT",
        "outputId": "1b88d8c2-acf3-4bf1-988a-c592ae926871"
      },
      "outputs": [
        {
          "output_type": "execute_result",
          "data": {
            "text/plain": [
              "True"
            ]
          },
          "metadata": {},
          "execution_count": 89
        }
      ],
      "source": [
        "5 < x"
      ]
    },
    {
      "cell_type": "code",
      "execution_count": 90,
      "metadata": {
        "colab": {
          "base_uri": "https://localhost:8080/"
        },
        "id": "2dk9f-V-NssT",
        "outputId": "b0de7e0e-d4f9-49b8-8f62-9d1252cead6c"
      },
      "outputs": [
        {
          "output_type": "execute_result",
          "data": {
            "text/plain": [
              "True"
            ]
          },
          "metadata": {},
          "execution_count": 90
        }
      ],
      "source": [
        "x < 9"
      ]
    },
    {
      "cell_type": "code",
      "execution_count": 91,
      "metadata": {
        "colab": {
          "base_uri": "https://localhost:8080/"
        },
        "id": "dN8Z7vPgNssT",
        "outputId": "b7700e95-b1df-4a74-85b4-43616a60aea6"
      },
      "outputs": [
        {
          "output_type": "execute_result",
          "data": {
            "text/plain": [
              "True"
            ]
          },
          "metadata": {},
          "execution_count": 91
        }
      ],
      "source": [
        "5 < x and x < 9 # &&"
      ]
    },
    {
      "cell_type": "code",
      "execution_count": 94,
      "metadata": {
        "colab": {
          "base_uri": "https://localhost:8080/"
        },
        "id": "XVq-WxPANssT",
        "outputId": "0ec886bc-c54e-4f97-88fd-d8c09f529057"
      },
      "outputs": [
        {
          "output_type": "execute_result",
          "data": {
            "text/plain": [
              "True"
            ]
          },
          "metadata": {},
          "execution_count": 94
        }
      ],
      "source": [
        "(5 < x) and (x < 9)"
      ]
    },
    {
      "cell_type": "code",
      "execution_count": 95,
      "metadata": {
        "colab": {
          "base_uri": "https://localhost:8080/"
        },
        "id": "TpWnj3x6NssT",
        "outputId": "1c4862a3-66cc-4e7d-dfc7-db5932597712"
      },
      "outputs": [
        {
          "output_type": "execute_result",
          "data": {
            "text/plain": [
              "True"
            ]
          },
          "metadata": {},
          "execution_count": 95
        }
      ],
      "source": [
        "5 < x < 9"
      ]
    },
    {
      "cell_type": "markdown",
      "metadata": {
        "id": "hXvYeDxpNssU"
      },
      "source": [
        "<img src=\"https://github.com/gregworks/python-for-data-science/blob/main/images/border.jpg?raw=1\" height=\"10\" width=\"1500\" align=\"center\"/>"
      ]
    },
    {
      "cell_type": "markdown",
      "metadata": {
        "id": "5YBSxAbwNssU"
      },
      "source": [
        "# Loops"
      ]
    },
    {
      "cell_type": "markdown",
      "metadata": {
        "id": "R55hGIRCNssU"
      },
      "source": [
        "* two kinds of loops in Python\n",
        " * __`while`__ loops (\"do something until a condition becomes false\")\n",
        " * __`for`__ loops (\"do something a certain number of times\")"
      ]
    },
    {
      "cell_type": "markdown",
      "metadata": {
        "id": "b7sWQKjxNssU"
      },
      "source": [
        "# `while` loop example"
      ]
    },
    {
      "cell_type": "code",
      "execution_count": 98,
      "metadata": {
        "colab": {
          "base_uri": "https://localhost:8080/"
        },
        "id": "K1awefQpNssU",
        "outputId": "73688988-c34b-44f4-87b2-3859113b567d"
      },
      "outputs": [
        {
          "output_type": "stream",
          "name": "stdout",
          "text": [
            "Enter your guess (0 to give up): 99\n",
            "Guess was too high\n",
            "Enter your guess (0 to give up): 0\n",
            "Sorry that you're giving up!\n"
          ]
        }
      ],
      "source": [
        "import random # \"batteries included\"\n",
        "# what do you think the line below does?\n",
        "my_number = random.randint(1, 100)\n",
        "guess = 0\n",
        "# loop until...?\n",
        "\n",
        "while guess != my_number:\n",
        "    guess = int(input('Enter your guess (0 to give up): '))\n",
        "    if guess == 0:\n",
        "        print(\"Sorry that you're giving up!\")\n",
        "        break # abnormal termination\n",
        "    elif guess > my_number:\n",
        "        print(\"Guess was too high\")\n",
        "    elif guess < my_number:\n",
        "        print(\"Guess was too low\")\n",
        "else:\n",
        "    print(\"Congratulations. You guessed it!\")\n",
        "# break would put us here"
      ]
    },
    {
      "cell_type": "markdown",
      "metadata": {
        "id": "45_DZmTBNssU"
      },
      "source": [
        "## `for` loop example\n",
        "* typically used to cycle through an _iterable_ (string, list, and others we haven't learned yet) one element at a time\n",
        "* \"for thing in container\""
      ]
    },
    {
      "cell_type": "code",
      "source": [
        "a = [1,2,3,4,6, \"aadsf\"]\n",
        "a\n",
        "type(a)\n",
        "\n",
        "for val in a:\n",
        "  print(val)"
      ],
      "metadata": {
        "colab": {
          "base_uri": "https://localhost:8080/"
        },
        "id": "uKvM2NV2KptW",
        "outputId": "accdeaf2-952b-4088-9f6b-885bcbe760d9"
      },
      "execution_count": 103,
      "outputs": [
        {
          "output_type": "stream",
          "name": "stdout",
          "text": [
            "1\n",
            "2\n",
            "3\n",
            "4\n",
            "6\n",
            "aadsf\n"
          ]
        }
      ]
    },
    {
      "cell_type": "code",
      "execution_count": 102,
      "metadata": {
        "colab": {
          "base_uri": "https://localhost:8080/"
        },
        "id": "ooFabwAaNssV",
        "outputId": "d2114cff-0369-412d-ed18-48ca9c0282d4"
      },
      "outputs": [
        {
          "output_type": "stream",
          "name": "stdout",
          "text": [
            "P\n",
            "y\n",
            "t\n",
            "h\n",
            "o\n",
            "n\n"
          ]
        }
      ],
      "source": [
        "for letter in 'Python': # for each element in the container\n",
        "    print(letter)"
      ]
    },
    {
      "cell_type": "markdown",
      "metadata": {
        "id": "_CtgNtWBNssV"
      },
      "source": [
        "## `for` Loops\n",
        "---\n",
        "<img src=\"https://github.com/gregworks/python-for-data-science/blob/main/images/for.png?raw=1\" width=\"500\" height=\"500\" align=\"right\"/>\n",
        "\n",
        "\n",
        "\n",
        "One of the primary purposes of using a programming language is to automate repetitive tasks. One example is the `for` loop.\n",
        "\n",
        "The `for` loop allows you to perform a task repeatedly on every element within an object, such as every name in a list.\n",
        "\n",
        "\n",
        "Let's see how the pseudocode works:\n",
        "\n",
        "```python\n",
        "# For each individual object in the list\n",
        "    # perform task_A on said object.\n",
        "    # Once task_A has been completed, move to next object in the list.\n",
        "```\n",
        "\n",
        "Let's say we wanted to print each of the names in the list, as well as \"is Awesome!\" In this case, we'd create a temporary variable for each element in the collection (`for name in names` would put each name, in sequence, under the temporary variable `name`) and then do something with it."
      ]
    },
    {
      "cell_type": "code",
      "execution_count": 104,
      "metadata": {
        "colab": {
          "base_uri": "https://localhost:8080/"
        },
        "id": "GjUmTJOENssV",
        "outputId": "e1448915-aea6-4109-c013-ba1825b4d112"
      },
      "outputs": [
        {
          "output_type": "stream",
          "name": "stdout",
          "text": [
            "Rebecca Bunch Is Awesome!\n",
            "Paula Proctor Is Awesome!\n",
            "Heather Davis Is Awesome!\n"
          ]
        }
      ],
      "source": [
        "names = ['Rebecca Bunch', 'Paula Proctor', 'Heather Davis']\n",
        "\n",
        "for item in names:\n",
        "    print(item + ' Is Awesome!')"
      ]
    },
    {
      "cell_type": "markdown",
      "metadata": {
        "id": "xmX05zqcNssV"
      },
      "source": [
        "We can also combine `if... else` statements and `for` loops:"
      ]
    },
    {
      "cell_type": "code",
      "execution_count": 105,
      "metadata": {
        "colab": {
          "base_uri": "https://localhost:8080/"
        },
        "id": "GOqRbITfNssV",
        "outputId": "6b129dc0-1d2b-4a25-c91a-a457f620e0e5"
      },
      "outputs": [
        {
          "output_type": "execute_result",
          "data": {
            "text/plain": [
              "['Rebecca Bunch', 'Paula Proctor', 'Heather Davis']"
            ]
          },
          "metadata": {},
          "execution_count": 105
        }
      ],
      "source": [
        "names"
      ]
    },
    {
      "cell_type": "code",
      "execution_count": 106,
      "metadata": {
        "colab": {
          "base_uri": "https://localhost:8080/"
        },
        "id": "4diDAzn0NssW",
        "outputId": "7d689a41-71e1-4847-a5af-6fb35f12468f"
      },
      "outputs": [
        {
          "output_type": "stream",
          "name": "stdout",
          "text": [
            "Rebecca Bunch Is Awesome!\n",
            "Paula Proctor Is REALLY AWESOME!\n",
            "Heather Davis Is Awesome!\n"
          ]
        }
      ],
      "source": [
        "for item in names:\n",
        "    if item == 'Paula Proctor':\n",
        "        print(item + ' Is REALLY AWESOME!')\n",
        "    else:\n",
        "        print(item + ' Is Awesome!')"
      ]
    },
    {
      "cell_type": "markdown",
      "metadata": {
        "id": "0PnPv-_gNssW"
      },
      "source": [
        "#### Now You Try!\n",
        "<img src=\"https://github.com/gregworks/python-for-data-science/blob/main/images/hands_on.jpg?raw=1\" width=\"100\" height=\"100\" align=\"right\"/>\n",
        "Create a new `if... elif... else` and `for` loop combination, using a list of your own choice."
      ]
    },
    {
      "cell_type": "code",
      "source": [
        "117 % 2"
      ],
      "metadata": {
        "colab": {
          "base_uri": "https://localhost:8080/"
        },
        "id": "TsqkNzo9NZvA",
        "outputId": "20252fc1-eae1-4a58-c0bc-5a9016a29da6"
      },
      "execution_count": 110,
      "outputs": [
        {
          "output_type": "execute_result",
          "data": {
            "text/plain": [
              "1"
            ]
          },
          "metadata": {},
          "execution_count": 110
        }
      ]
    },
    {
      "cell_type": "code",
      "execution_count": 111,
      "metadata": {
        "colab": {
          "base_uri": "https://localhost:8080/"
        },
        "id": "vp0q3hsFNssW",
        "outputId": "17d2bed6-b0b0-4de6-bfe1-e70ad6568eb8"
      },
      "outputs": [
        {
          "output_type": "stream",
          "name": "stdout",
          "text": [
            "4\n",
            "6\n",
            "76\n"
          ]
        }
      ],
      "source": [
        "### Type your answer here\n",
        "\n",
        "nums=[1,23,4,6,7,76, 77,35]\n",
        "# only print the even numbers\n",
        "\n",
        "for num in nums:\n",
        "  if num % 2 == 0:\n",
        "    print(num)\n",
        "  #else:\n",
        "   # print('no odd numbers')\n"
      ]
    },
    {
      "cell_type": "markdown",
      "metadata": {
        "id": "L8OQ8NSJNssW"
      },
      "source": [
        "<img src=\"https://github.com/gregworks/python-for-data-science/blob/main/images/border.jpg?raw=1\" height=\"10\" width=\"1500\" align=\"center\"/>"
      ]
    },
    {
      "cell_type": "markdown",
      "metadata": {
        "id": "U68LZvVrNssW"
      },
      "source": [
        "## Sequences are also Iterable\n"
      ]
    },
    {
      "cell_type": "code",
      "source": [
        "list(range(1,11))"
      ],
      "metadata": {
        "colab": {
          "base_uri": "https://localhost:8080/"
        },
        "id": "AJcdPZcDN11c",
        "outputId": "87d113e9-7d9b-44c4-8823-18c4e8061fcc"
      },
      "execution_count": 115,
      "outputs": [
        {
          "output_type": "execute_result",
          "data": {
            "text/plain": [
              "[1, 2, 3, 4, 5, 6, 7, 8, 9, 10]"
            ]
          },
          "metadata": {},
          "execution_count": 115
        }
      ]
    },
    {
      "cell_type": "code",
      "source": [
        "help(range)"
      ],
      "metadata": {
        "colab": {
          "base_uri": "https://localhost:8080/"
        },
        "id": "FQ3bp82cOJl0",
        "outputId": "465510a4-b59c-4541-ad60-462a12f9c488"
      },
      "execution_count": 117,
      "outputs": [
        {
          "output_type": "stream",
          "name": "stdout",
          "text": [
            "Help on class range in module builtins:\n",
            "\n",
            "class range(object)\n",
            " |  range(stop) -> range object\n",
            " |  range(start, stop[, step]) -> range object\n",
            " |  \n",
            " |  Return an object that produces a sequence of integers from start (inclusive)\n",
            " |  to stop (exclusive) by step.  range(i, j) produces i, i+1, i+2, ..., j-1.\n",
            " |  start defaults to 0, and stop is omitted!  range(4) produces 0, 1, 2, 3.\n",
            " |  These are exactly the valid indices for a list of 4 elements.\n",
            " |  When step is given, it specifies the increment (or decrement).\n",
            " |  \n",
            " |  Methods defined here:\n",
            " |  \n",
            " |  __bool__(self, /)\n",
            " |      True if self else False\n",
            " |  \n",
            " |  __contains__(self, key, /)\n",
            " |      Return key in self.\n",
            " |  \n",
            " |  __eq__(self, value, /)\n",
            " |      Return self==value.\n",
            " |  \n",
            " |  __ge__(self, value, /)\n",
            " |      Return self>=value.\n",
            " |  \n",
            " |  __getattribute__(self, name, /)\n",
            " |      Return getattr(self, name).\n",
            " |  \n",
            " |  __getitem__(self, key, /)\n",
            " |      Return self[key].\n",
            " |  \n",
            " |  __gt__(self, value, /)\n",
            " |      Return self>value.\n",
            " |  \n",
            " |  __hash__(self, /)\n",
            " |      Return hash(self).\n",
            " |  \n",
            " |  __iter__(self, /)\n",
            " |      Implement iter(self).\n",
            " |  \n",
            " |  __le__(self, value, /)\n",
            " |      Return self<=value.\n",
            " |  \n",
            " |  __len__(self, /)\n",
            " |      Return len(self).\n",
            " |  \n",
            " |  __lt__(self, value, /)\n",
            " |      Return self<value.\n",
            " |  \n",
            " |  __ne__(self, value, /)\n",
            " |      Return self!=value.\n",
            " |  \n",
            " |  __reduce__(...)\n",
            " |      Helper for pickle.\n",
            " |  \n",
            " |  __repr__(self, /)\n",
            " |      Return repr(self).\n",
            " |  \n",
            " |  __reversed__(...)\n",
            " |      Return a reverse iterator.\n",
            " |  \n",
            " |  count(...)\n",
            " |      rangeobject.count(value) -> integer -- return number of occurrences of value\n",
            " |  \n",
            " |  index(...)\n",
            " |      rangeobject.index(value) -> integer -- return index of value.\n",
            " |      Raise ValueError if the value is not present.\n",
            " |  \n",
            " |  ----------------------------------------------------------------------\n",
            " |  Static methods defined here:\n",
            " |  \n",
            " |  __new__(*args, **kwargs) from builtins.type\n",
            " |      Create and return a new object.  See help(type) for accurate signature.\n",
            " |  \n",
            " |  ----------------------------------------------------------------------\n",
            " |  Data descriptors defined here:\n",
            " |  \n",
            " |  start\n",
            " |  \n",
            " |  step\n",
            " |  \n",
            " |  stop\n",
            "\n"
          ]
        }
      ]
    },
    {
      "cell_type": "code",
      "execution_count": 116,
      "metadata": {
        "colab": {
          "base_uri": "https://localhost:8080/"
        },
        "id": "T5BaMdSjNssW",
        "outputId": "98b19300-37cc-4b92-85c0-602fcdddeb21"
      },
      "outputs": [
        {
          "output_type": "stream",
          "name": "stdout",
          "text": [
            "1\n",
            "2\n",
            "3\n",
            "4\n",
            "5\n",
            "6\n",
            "7\n",
            "8\n",
            "9\n"
          ]
        }
      ],
      "source": [
        "for num in range(1, 10): # \"for thing in container\"\n",
        "    print(num)"
      ]
    },
    {
      "cell_type": "code",
      "source": [
        "list(range(10, 0, -1))"
      ],
      "metadata": {
        "colab": {
          "base_uri": "https://localhost:8080/"
        },
        "id": "1PW-VRa_OUEV",
        "outputId": "8cfaf476-a1bd-41fc-8241-d1c8c5715141"
      },
      "execution_count": 120,
      "outputs": [
        {
          "output_type": "execute_result",
          "data": {
            "text/plain": [
              "[10, 9, 8, 7, 6, 5, 4, 3, 2, 1]"
            ]
          },
          "metadata": {},
          "execution_count": 120
        }
      ]
    },
    {
      "cell_type": "code",
      "execution_count": 125,
      "metadata": {
        "colab": {
          "base_uri": "https://localhost:8080/"
        },
        "id": "4E3-i4uDNssW",
        "outputId": "105acc9f-2cae-4671-a814-11f7f3467c87"
      },
      "outputs": [
        {
          "output_type": "stream",
          "name": "stdout",
          "text": [
            "10...9...8...7...6...5...4...3...2...1...blast off!\n"
          ]
        }
      ],
      "source": [
        "for num in range(10, 0, -1):\n",
        "    print(num, end='...')\n",
        "print('blast off!')"
      ]
    },
    {
      "cell_type": "code",
      "execution_count": 127,
      "metadata": {
        "colab": {
          "base_uri": "https://localhost:8080/"
        },
        "id": "9hdPE7HVNssX",
        "outputId": "eda0317d-fe9c-4df0-a257-ebbbc6c61b32"
      },
      "outputs": [
        {
          "output_type": "stream",
          "name": "stdout",
          "text": [
            "-0.2 -0.25 -0.3333333333333333 -0.5 -1.0 1.0 0.5 0.3333333333333333 0.25 0.2 "
          ]
        }
      ],
      "source": [
        "for num in range(-5, 6): # -5 ... 5\n",
        "    if num == 0:\n",
        "        continue # skip the remainder of the loop, and go to next iteration\n",
        "    print(1 / num, end=' ')"
      ]
    },
    {
      "cell_type": "markdown",
      "metadata": {
        "id": "SlZqNW8TNssX"
      },
      "source": [
        "<img src=\"https://github.com/gregworks/python-for-data-science/blob/main/images/border.jpg?raw=1\" height=\"10\" width=\"1500\" align=\"center\"/>"
      ]
    },
    {
      "cell_type": "markdown",
      "metadata": {
        "id": "k4UAWo6FNssX"
      },
      "source": [
        "## Quick Lab: Loops/Strings\n",
        "* have the user enter a string, then loop through the string to generate (or print) a new string in which every character is duplicated, e.g., \"Python\" => \"PPyytthhoonn\""
      ]
    },
    {
      "cell_type": "code",
      "source": [
        "name = input('Add a Company Name: ')\n",
        "\n",
        "double_letter_company = ''\n",
        "\n",
        "for letter in name:\n",
        "  double_letter_company += letter *2\n",
        "\n",
        "print(double_letter_company)"
      ],
      "metadata": {
        "colab": {
          "base_uri": "https://localhost:8080/"
        },
        "id": "5k9XnjsdOvxx",
        "outputId": "6c2aa97d-79c3-423f-99fa-ed0cd73b957c"
      },
      "execution_count": 128,
      "outputs": [
        {
          "output_type": "stream",
          "name": "stdout",
          "text": [
            "Add a Company Name: starbucks\n",
            "ssttaarrbbuucckkss\n"
          ]
        }
      ]
    },
    {
      "cell_type": "code",
      "source": [
        "entry = input(\"Please enter a string\")\n",
        "for c in entry:\n",
        "  print(c * 2, end = \"\")"
      ],
      "metadata": {
        "colab": {
          "base_uri": "https://localhost:8080/"
        },
        "id": "X0Zf-ONxRBhd",
        "outputId": "9ccdaf16-0bf6-464f-fac0-5bda20ace1c4"
      },
      "execution_count": 129,
      "outputs": [
        {
          "output_type": "stream",
          "name": "stdout",
          "text": [
            "Please enter a stringstarbucks\n",
            "ssttaarrbbuucckkss"
          ]
        }
      ]
    },
    {
      "cell_type": "markdown",
      "metadata": {
        "id": "-52TKpgWNssX"
      },
      "source": [
        "## Lab: Loops\n",
        "* Loop through the numbers from 2 to 25 and print out which numbers are prime, and for those numbers which are not prime numbers, you should print them as a product of two factors\n",
        "* Remember that prime = no divisors other than 1 and itself\n",
        "* Don't worry about efficiency, but if you're interested, check out math.sqrt()\n",
        "* example output:\n",
        "<pre>\n",
        "2 is a prime number\n",
        "3 is a prime number\n",
        "4 equals 2 * 2\n",
        "5 is a prime number\n",
        "6 equals 2 * 3\n",
        "7 is a prime number\n",
        "8 equals 2 * 4\n",
        "9 equals 3 * 3\n",
        "10 equals 2 * 5\n",
        "11 is a prime number\n",
        "12 equals 2 * 6\n",
        "13 is a prime number\n",
        "14 equals 2 * 7\n",
        "15 equals 3 * 5\n",
        "16 equals 2 * 8\n",
        "17 is a prime number\n",
        "18 equals 2 * 9\n",
        "19 is a prime number\n",
        "20 equals 2 * 10\n",
        "21 equals 3 * 7\n",
        "22 equals 2 * 11\n",
        "23 is a prime number\n",
        "24 equals 2 * 12\n",
        "25 equals 5 * 5\n",
        "</pre>"
      ]
    },
    {
      "cell_type": "code",
      "source": [
        "for i in range(2,26):\n",
        "    if i%2!=0:\n",
        "      print(i, \"is a prime number\")\n",
        "    elif i%2 == 0:\n",
        "      print(i,\"equals\",i//2, \"*\", 2)"
      ],
      "metadata": {
        "colab": {
          "base_uri": "https://localhost:8080/"
        },
        "id": "5XyILTu-lY8c",
        "outputId": "8d1c304a-6fd9-4ad4-9745-0a972bac16db"
      },
      "execution_count": 132,
      "outputs": [
        {
          "output_type": "stream",
          "name": "stdout",
          "text": [
            "2 equals 1 * 2\n",
            "3 is a prime number\n",
            "4 equals 2 * 2\n",
            "5 is a prime number\n",
            "6 equals 3 * 2\n",
            "7 is a prime number\n",
            "8 equals 4 * 2\n",
            "9 is a prime number\n",
            "10 equals 5 * 2\n",
            "11 is a prime number\n",
            "12 equals 6 * 2\n",
            "13 is a prime number\n",
            "14 equals 7 * 2\n",
            "15 is a prime number\n",
            "16 equals 8 * 2\n",
            "17 is a prime number\n",
            "18 equals 9 * 2\n",
            "19 is a prime number\n",
            "20 equals 10 * 2\n",
            "21 is a prime number\n",
            "22 equals 11 * 2\n",
            "23 is a prime number\n",
            "24 equals 12 * 2\n",
            "25 is a prime number\n"
          ]
        }
      ]
    },
    {
      "cell_type": "code",
      "source": [
        "# start the lab here\n",
        "for i in range(2, 26):\n",
        "  factor = 0\n",
        "  for f in range(2, i):\n",
        "    if i % f == 0: #is it divisable?\n",
        "      factor = f # is a factor\n",
        "  if (factor == 0):\n",
        "    print(f\"{i} is a prime number\")\n",
        "  else:\n",
        "    multiplier = i // factor\n",
        "    print(f\"{i} equals {multiplier} * {factor}\")\n"
      ],
      "metadata": {
        "colab": {
          "base_uri": "https://localhost:8080/"
        },
        "id": "9mRfmZBSgC_H",
        "outputId": "4a121a38-436d-45c6-c109-3ecb1c93aa33"
      },
      "execution_count": 130,
      "outputs": [
        {
          "output_type": "stream",
          "name": "stdout",
          "text": [
            "2 is a prime number\n",
            "3 is a prime number\n",
            "4 equals 2 * 2\n",
            "5 is a prime number\n",
            "6 equals 2 * 3\n",
            "7 is a prime number\n",
            "8 equals 2 * 4\n",
            "9 equals 3 * 3\n",
            "10 equals 2 * 5\n",
            "11 is a prime number\n",
            "12 equals 2 * 6\n",
            "13 is a prime number\n",
            "14 equals 2 * 7\n",
            "15 equals 3 * 5\n",
            "16 equals 2 * 8\n",
            "17 is a prime number\n",
            "18 equals 2 * 9\n",
            "19 is a prime number\n",
            "20 equals 2 * 10\n",
            "21 equals 3 * 7\n",
            "22 equals 2 * 11\n",
            "23 is a prime number\n",
            "24 equals 2 * 12\n",
            "25 equals 5 * 5\n"
          ]
        }
      ]
    },
    {
      "cell_type": "code",
      "source": [
        "import math\n",
        "\n",
        "def is_prime(n):\n",
        "    \"\"\"Check if a number is prime.\"\"\"\n",
        "    if n <= 1:\n",
        "        return False\n",
        "    if n <= 3:\n",
        "        return True\n",
        "    if n % 2 == 0 or n % 3 == 0:\n",
        "        return False\n",
        "    i = 5\n",
        "    while i * i <= n:\n",
        "        if n % i == 0 or n % (i + 2) == 0:\n",
        "            return False\n",
        "        i += 6\n",
        "    return True\n",
        "\n",
        "def find_factors(n):\n",
        "    \"\"\"Find factors of a non-prime number.\"\"\"\n",
        "    factors = []\n",
        "    for i in range(2, int(math.sqrt(n)) + 1):\n",
        "        if n % i == 0:\n",
        "            factors.append(i)\n",
        "            factors.append(n // i)\n",
        "            break\n",
        "    return factors\n",
        "\n",
        "# Loop through numbers from 2 to 25\n",
        "for num in range(2, 26):\n",
        "    if is_prime(num):\n",
        "        print(f\"{num} is a prime number\")\n",
        "    else:\n",
        "        factors = find_factors(num)\n",
        "        print(f\"{num} equals {factors[0]} * {factors[1]}\")"
      ],
      "metadata": {
        "colab": {
          "base_uri": "https://localhost:8080/"
        },
        "id": "cZGyXGOBlmnK",
        "outputId": "e19991e4-8be6-4c93-a776-c4246a316a2f"
      },
      "execution_count": 133,
      "outputs": [
        {
          "output_type": "stream",
          "name": "stdout",
          "text": [
            "2 is a prime number\n",
            "3 is a prime number\n",
            "4 equals 2 * 2\n",
            "5 is a prime number\n",
            "6 equals 2 * 3\n",
            "7 is a prime number\n",
            "8 equals 2 * 4\n",
            "9 equals 3 * 3\n",
            "10 equals 2 * 5\n",
            "11 is a prime number\n",
            "12 equals 2 * 6\n",
            "13 is a prime number\n",
            "14 equals 2 * 7\n",
            "15 equals 3 * 5\n",
            "16 equals 2 * 8\n",
            "17 is a prime number\n",
            "18 equals 2 * 9\n",
            "19 is a prime number\n",
            "20 equals 2 * 10\n",
            "21 equals 3 * 7\n",
            "22 equals 2 * 11\n",
            "23 is a prime number\n",
            "24 equals 2 * 12\n",
            "25 equals 5 * 5\n"
          ]
        }
      ]
    },
    {
      "cell_type": "markdown",
      "metadata": {
        "id": "i2qqC9_CNssX"
      },
      "source": [
        "<img src=\"https://github.com/gregworks/python-for-data-science/blob/main/images/border.jpg?raw=1\" height=\"10\" width=\"1500\" align=\"center\"/>"
      ]
    },
    {
      "cell_type": "markdown",
      "metadata": {
        "id": "BX3We0QENssY"
      },
      "source": [
        "## Loops: Recap\n",
        "* __`for`__ loop is more common\n",
        "* __`break`__ exits loop immediately\n",
        "* __`continue`__ skips remainder of loop and starts next iteration\n",
        "* __`else`__ is executed if loop terminates normally (i.e., no __`break`__)"
      ]
    },
    {
      "cell_type": "markdown",
      "metadata": {
        "id": "-3SSMX-7NssY"
      },
      "source": [
        "<img src=\"https://github.com/gregworks/python-for-data-science/blob/main/images/border.jpg?raw=1\" height=\"10\" width=\"1500\" align=\"center\"/>"
      ]
    },
    {
      "cell_type": "markdown",
      "metadata": {
        "id": "7ZcljWfpNssY"
      },
      "source": [
        "# Revisiting Strings"
      ]
    },
    {
      "cell_type": "markdown",
      "metadata": {
        "id": "IDf1xsoANssY"
      },
      "source": [
        "## Slices\n",
        "* __`[start:stop:step]`__\n",
        "* extracts the substring from __`start`__ to __`stop`__ _minus 1_, skipping __`step`__ characters at a time\n",
        "* each of the st... are optional"
      ]
    },
    {
      "cell_type": "code",
      "execution_count": 134,
      "metadata": {
        "id": "KW150TJJNssY"
      },
      "outputs": [],
      "source": [
        "alphabet = 'abcdefghijklmnopqrstuvwxyz'\n",
        "         #  01234567890123456789012345\n",
        "         #                         321-"
      ]
    },
    {
      "cell_type": "code",
      "execution_count": 135,
      "metadata": {
        "colab": {
          "base_uri": "https://localhost:8080/",
          "height": 36
        },
        "id": "0QcpwGjANssY",
        "outputId": "76ecc3a0-d234-4d4c-9b6c-a2e95c0e24b8"
      },
      "outputs": [
        {
          "output_type": "execute_result",
          "data": {
            "text/plain": [
              "'klmno'"
            ],
            "application/vnd.google.colaboratory.intrinsic+json": {
              "type": "string"
            }
          },
          "metadata": {},
          "execution_count": 135
        }
      ],
      "source": [
        "alphabet[10:15]"
      ]
    },
    {
      "cell_type": "code",
      "execution_count": 136,
      "metadata": {
        "colab": {
          "base_uri": "https://localhost:8080/",
          "height": 36
        },
        "id": "p8WyPatCNssY",
        "outputId": "558153f4-2f17-44f3-a59a-760526b99aa0"
      },
      "outputs": [
        {
          "output_type": "execute_result",
          "data": {
            "text/plain": [
              "'abcde'"
            ],
            "application/vnd.google.colaboratory.intrinsic+json": {
              "type": "string"
            }
          },
          "metadata": {},
          "execution_count": 136
        }
      ],
      "source": [
        "alphabet[:5]"
      ]
    },
    {
      "cell_type": "code",
      "execution_count": 137,
      "metadata": {
        "colab": {
          "base_uri": "https://localhost:8080/",
          "height": 36
        },
        "id": "Z5SsUsX8NssZ",
        "outputId": "09032c19-7365-4f85-c98d-9ef1f69e9b45"
      },
      "outputs": [
        {
          "output_type": "execute_result",
          "data": {
            "text/plain": [
              "'xyz'"
            ],
            "application/vnd.google.colaboratory.intrinsic+json": {
              "type": "string"
            }
          },
          "metadata": {},
          "execution_count": 137
        }
      ],
      "source": [
        "alphabet[23:]"
      ]
    },
    {
      "cell_type": "code",
      "execution_count": 138,
      "metadata": {
        "colab": {
          "base_uri": "https://localhost:8080/",
          "height": 36
        },
        "id": "7dkoohjJNssZ",
        "outputId": "1f8cb412-33af-443c-fedd-575828185bfb"
      },
      "outputs": [
        {
          "output_type": "execute_result",
          "data": {
            "text/plain": [
              "'dgjmpsv'"
            ],
            "application/vnd.google.colaboratory.intrinsic+json": {
              "type": "string"
            }
          },
          "metadata": {},
          "execution_count": 138
        }
      ],
      "source": [
        "alphabet[3:23:3]"
      ]
    },
    {
      "cell_type": "code",
      "execution_count": 139,
      "metadata": {
        "colab": {
          "base_uri": "https://localhost:8080/",
          "height": 36
        },
        "id": "W4QDSjHYNssZ",
        "outputId": "77091efa-c25f-4f62-d63a-cc4e26cecc74"
      },
      "outputs": [
        {
          "output_type": "execute_result",
          "data": {
            "text/plain": [
              "'kjihgfed'"
            ],
            "application/vnd.google.colaboratory.intrinsic+json": {
              "type": "string"
            }
          },
          "metadata": {},
          "execution_count": 139
        }
      ],
      "source": [
        "alphabet[10:2:-1]"
      ]
    },
    {
      "cell_type": "code",
      "execution_count": 140,
      "metadata": {
        "colab": {
          "base_uri": "https://localhost:8080/",
          "height": 36
        },
        "id": "As8kV3_yNssZ",
        "outputId": "d947a8cb-9d3c-4633-aa12-b6c7df6dd0b8"
      },
      "outputs": [
        {
          "output_type": "execute_result",
          "data": {
            "text/plain": [
              "'xyz'"
            ],
            "application/vnd.google.colaboratory.intrinsic+json": {
              "type": "string"
            }
          },
          "metadata": {},
          "execution_count": 140
        }
      ],
      "source": [
        "alphabet[-3:]"
      ]
    },
    {
      "cell_type": "code",
      "execution_count": 141,
      "metadata": {
        "colab": {
          "base_uri": "https://localhost:8080/",
          "height": 36
        },
        "id": "n0kQT4m8NssZ",
        "outputId": "f065741e-a059-46f4-d0a8-eac5a7543d57"
      },
      "outputs": [
        {
          "output_type": "execute_result",
          "data": {
            "text/plain": [
              "'zyxwvutsrqponmlkjihgfedcba'"
            ],
            "application/vnd.google.colaboratory.intrinsic+json": {
              "type": "string"
            }
          },
          "metadata": {},
          "execution_count": 141
        }
      ],
      "source": [
        "alphabet[::-1] # idiomatic"
      ]
    },
    {
      "cell_type": "markdown",
      "metadata": {
        "id": "jtKhRyU6NssZ"
      },
      "source": [
        "<img src=\"https://github.com/gregworks/python-for-data-science/blob/main/images/border.jpg?raw=1\" height=\"10\" width=\"1500\" align=\"center\"/>"
      ]
    },
    {
      "cell_type": "markdown",
      "metadata": {
        "id": "8tuKqYX3Nssa"
      },
      "source": [
        "## More String Functions (Methods)"
      ]
    },
    {
      "cell_type": "code",
      "execution_count": 142,
      "metadata": {
        "id": "ytWnPzp5Nssa"
      },
      "outputs": [],
      "source": [
        "poem = \"\"\"TWO roads diverged in a yellow wood,\n",
        "And sorry I could not travel both\n",
        "And be one traveler, long I stood\n",
        "And looked down one as far as I could\n",
        "To where it bent in the undergrowth;\n",
        "\n",
        "Then took the other, as just as fair,\n",
        "And having perhaps the better claim,\n",
        "Because it was grassy and wanted wear;\n",
        "Though as for that the passing there\n",
        "Had worn them really about the same,\n",
        "\n",
        "And both that morning equally lay\n",
        "In leaves no step had trodden black.\n",
        "Oh, I kept the first for another day!\n",
        "Yet knowing how way leads on to way,\n",
        "I doubted if I should ever come back.\n",
        "\n",
        "I shall be telling this with a sigh\n",
        "Somewhere ages and ages hence:\n",
        "Two roads diverged in a wood, and I—\n",
        "I took the one less traveled by,\n",
        "And that has made all the difference.\"\"\""
      ]
    },
    {
      "cell_type": "code",
      "execution_count": 143,
      "metadata": {
        "colab": {
          "base_uri": "https://localhost:8080/"
        },
        "id": "uXv3EQBFNssa",
        "outputId": "22bfd589-4bb3-4b9c-ed13-1687de8821f5"
      },
      "outputs": [
        {
          "output_type": "execute_result",
          "data": {
            "text/plain": [
              "729"
            ]
          },
          "metadata": {},
          "execution_count": 143
        }
      ],
      "source": [
        "len(poem) # built-in function"
      ]
    },
    {
      "cell_type": "code",
      "execution_count": 144,
      "metadata": {
        "colab": {
          "base_uri": "https://localhost:8080/",
          "height": 36
        },
        "id": "4SJecsWVNssa",
        "outputId": "73a7a086-d87b-44a0-92d8-4c253171e0cb"
      },
      "outputs": [
        {
          "output_type": "execute_result",
          "data": {
            "text/plain": [
              "'TWO roads diverge'"
            ],
            "application/vnd.google.colaboratory.intrinsic+json": {
              "type": "string"
            }
          },
          "metadata": {},
          "execution_count": 144
        }
      ],
      "source": [
        "poem[:17]"
      ]
    },
    {
      "cell_type": "code",
      "source": [],
      "metadata": {
        "id": "hfXzlLlenFox"
      },
      "execution_count": null,
      "outputs": []
    },
    {
      "cell_type": "code",
      "execution_count": 145,
      "metadata": {
        "colab": {
          "base_uri": "https://localhost:8080/"
        },
        "id": "uqlQ3M1CNssa",
        "outputId": "116c0045-0aae-43ee-86c3-9bff3bf47912"
      },
      "outputs": [
        {
          "output_type": "execute_result",
          "data": {
            "text/plain": [
              "True"
            ]
          },
          "metadata": {},
          "execution_count": 145
        }
      ],
      "source": [
        "poem.startswith('TWO') # startswith is a function...a \"method\"\n",
        "# NOT startswith(poem, 'TWO')"
      ]
    },
    {
      "cell_type": "code",
      "execution_count": 146,
      "metadata": {
        "colab": {
          "base_uri": "https://localhost:8080/"
        },
        "id": "IGYueCZSNssa",
        "outputId": "a9c72704-405a-48b4-b273-fa66a81f12c3"
      },
      "outputs": [
        {
          "output_type": "execute_result",
          "data": {
            "text/plain": [
              "False"
            ]
          },
          "metadata": {},
          "execution_count": 146
        }
      ],
      "source": [
        "poem.endswith('And miles to go before I sleep.')"
      ]
    },
    {
      "cell_type": "code",
      "source": [
        "help(poem.endswith)"
      ],
      "metadata": {
        "colab": {
          "base_uri": "https://localhost:8080/"
        },
        "id": "hlLv7PDRntzd",
        "outputId": "27ebd2c4-7fc5-4dba-fbb2-415acf0fc804"
      },
      "execution_count": 149,
      "outputs": [
        {
          "output_type": "stream",
          "name": "stdout",
          "text": [
            "Help on built-in function endswith:\n",
            "\n",
            "endswith(...) method of builtins.str instance\n",
            "    S.endswith(suffix[, start[, end]]) -> bool\n",
            "    \n",
            "    Return True if S ends with the specified suffix, False otherwise.\n",
            "    With optional start, test S beginning at that position.\n",
            "    With optional end, stop comparing S at that position.\n",
            "    suffix can also be a tuple of strings to try.\n",
            "\n"
          ]
        }
      ]
    },
    {
      "cell_type": "code",
      "source": [
        "help(poem.find)"
      ],
      "metadata": {
        "colab": {
          "base_uri": "https://localhost:8080/"
        },
        "id": "d6-w6iUonoHq",
        "outputId": "ad9c0438-a45e-4cd2-f6fd-83e6f3decf1f"
      },
      "execution_count": 148,
      "outputs": [
        {
          "output_type": "stream",
          "name": "stdout",
          "text": [
            "Help on built-in function find:\n",
            "\n",
            "find(...) method of builtins.str instance\n",
            "    S.find(sub[, start[, end]]) -> int\n",
            "    \n",
            "    Return the lowest index in S where substring sub is found,\n",
            "    such that sub is contained within S[start:end].  Optional\n",
            "    arguments start and end are interpreted as in slice notation.\n",
            "    \n",
            "    Return -1 on failure.\n",
            "\n"
          ]
        }
      ]
    },
    {
      "cell_type": "code",
      "execution_count": 147,
      "metadata": {
        "colab": {
          "base_uri": "https://localhost:8080/"
        },
        "id": "U4PpZMsENssb",
        "outputId": "08e88671-6813-4135-b350-e62ba18ad5d3"
      },
      "outputs": [
        {
          "output_type": "execute_result",
          "data": {
            "text/plain": [
              "163"
            ]
          },
          "metadata": {},
          "execution_count": 147
        }
      ],
      "source": [
        "poem.find('the')"
      ]
    },
    {
      "cell_type": "code",
      "execution_count": 150,
      "metadata": {
        "colab": {
          "base_uri": "https://localhost:8080/",
          "height": 36
        },
        "id": "htK6fhoWNssb",
        "outputId": "87663ef1-de16-487f-ce09-99ae20bec767"
      },
      "outputs": [
        {
          "output_type": "execute_result",
          "data": {
            "text/plain": [
              "'the undergrowth'"
            ],
            "application/vnd.google.colaboratory.intrinsic+json": {
              "type": "string"
            }
          },
          "metadata": {},
          "execution_count": 150
        }
      ],
      "source": [
        "poem[163:178]"
      ]
    },
    {
      "cell_type": "code",
      "source": [
        "help(poem.rfind)"
      ],
      "metadata": {
        "colab": {
          "base_uri": "https://localhost:8080/"
        },
        "id": "yVKZP5son-NS",
        "outputId": "54043ae2-b940-4c2b-f020-1e11724e3797"
      },
      "execution_count": 152,
      "outputs": [
        {
          "output_type": "stream",
          "name": "stdout",
          "text": [
            "Help on built-in function rfind:\n",
            "\n",
            "rfind(...) method of builtins.str instance\n",
            "    S.rfind(sub[, start[, end]]) -> int\n",
            "    \n",
            "    Return the highest index in S where substring sub is found,\n",
            "    such that sub is contained within S[start:end].  Optional\n",
            "    arguments start and end are interpreted as in slice notation.\n",
            "    \n",
            "    Return -1 on failure.\n",
            "\n"
          ]
        }
      ]
    },
    {
      "cell_type": "code",
      "source": [
        "poem[714:]"
      ],
      "metadata": {
        "colab": {
          "base_uri": "https://localhost:8080/",
          "height": 36
        },
        "id": "mCgsQE5MoEA3",
        "outputId": "1749626a-2795-425e-a5ea-f2ba72d8a845"
      },
      "execution_count": 153,
      "outputs": [
        {
          "output_type": "execute_result",
          "data": {
            "text/plain": [
              "'the difference.'"
            ],
            "application/vnd.google.colaboratory.intrinsic+json": {
              "type": "string"
            }
          },
          "metadata": {},
          "execution_count": 153
        }
      ]
    },
    {
      "cell_type": "code",
      "execution_count": 151,
      "metadata": {
        "colab": {
          "base_uri": "https://localhost:8080/"
        },
        "id": "2GyI2SftNssb",
        "outputId": "35268f7c-0776-49d0-a7b1-e0322f4de646"
      },
      "outputs": [
        {
          "output_type": "execute_result",
          "data": {
            "text/plain": [
              "714"
            ]
          },
          "metadata": {},
          "execution_count": 151
        }
      ],
      "source": [
        "poem.rfind('the')"
      ]
    },
    {
      "cell_type": "code",
      "execution_count": 154,
      "metadata": {
        "colab": {
          "base_uri": "https://localhost:8080/"
        },
        "id": "TnyTwEwxNssb",
        "outputId": "e3fa8e47-dce3-497d-afcf-fb5cf7b83254"
      },
      "outputs": [
        {
          "output_type": "execute_result",
          "data": {
            "text/plain": [
              "12"
            ]
          },
          "metadata": {},
          "execution_count": 154
        }
      ],
      "source": [
        "poem.count('the')"
      ]
    },
    {
      "cell_type": "markdown",
      "metadata": {
        "id": "I0_DL9MhNssc"
      },
      "source": [
        "<img src=\"https://github.com/gregworks/python-for-data-science/blob/main/images/border.jpg?raw=1\" height=\"10\" width=\"1500\" align=\"center\"/>"
      ]
    },
    {
      "cell_type": "markdown",
      "metadata": {
        "id": "_uoW4jiFNssc"
      },
      "source": [
        "## __`strip()`__"
      ]
    },
    {
      "cell_type": "code",
      "execution_count": 155,
      "metadata": {
        "colab": {
          "base_uri": "https://localhost:8080/",
          "height": 36
        },
        "id": "FKMMX-dlNssc",
        "outputId": "7a49b8a3-5e6c-4835-f212-8f892b4a3cad"
      },
      "outputs": [
        {
          "output_type": "execute_result",
          "data": {
            "text/plain": [
              "'Now is the time'"
            ],
            "application/vnd.google.colaboratory.intrinsic+json": {
              "type": "string"
            }
          },
          "metadata": {},
          "execution_count": 155
        }
      ],
      "source": [
        "s = ' Now is the time      '\n",
        "s.strip() # generates a new string in which leading/trailing..."
      ]
    },
    {
      "cell_type": "code",
      "execution_count": 156,
      "metadata": {
        "colab": {
          "base_uri": "https://localhost:8080/",
          "height": 36
        },
        "id": "vdnpf2PuNssc",
        "outputId": "31ef71ae-cbd8-456b-e97e-55c39601219f"
      },
      "outputs": [
        {
          "output_type": "execute_result",
          "data": {
            "text/plain": [
              "' Now is the time      '"
            ],
            "application/vnd.google.colaboratory.intrinsic+json": {
              "type": "string"
            }
          },
          "metadata": {},
          "execution_count": 156
        }
      ],
      "source": [
        "s"
      ]
    },
    {
      "cell_type": "code",
      "execution_count": 157,
      "metadata": {
        "id": "mJLdgG6BNssc"
      },
      "outputs": [],
      "source": [
        "s = '.' + s.strip() + '...'"
      ]
    },
    {
      "cell_type": "code",
      "execution_count": 158,
      "metadata": {
        "colab": {
          "base_uri": "https://localhost:8080/",
          "height": 36
        },
        "id": "gtKPqmvANssd",
        "outputId": "a8f13909-c54f-47e0-83d4-90a6c9c22c8e"
      },
      "outputs": [
        {
          "output_type": "execute_result",
          "data": {
            "text/plain": [
              "'.Now is the time...'"
            ],
            "application/vnd.google.colaboratory.intrinsic+json": {
              "type": "string"
            }
          },
          "metadata": {},
          "execution_count": 158
        }
      ],
      "source": [
        "s"
      ]
    },
    {
      "cell_type": "code",
      "execution_count": 159,
      "metadata": {
        "colab": {
          "base_uri": "https://localhost:8080/",
          "height": 36
        },
        "id": "djMHlX-UNssd",
        "outputId": "6e277c2b-3786-42c9-9531-fb45bd5d9298"
      },
      "outputs": [
        {
          "output_type": "execute_result",
          "data": {
            "text/plain": [
              "'Now is the time'"
            ],
            "application/vnd.google.colaboratory.intrinsic+json": {
              "type": "string"
            }
          },
          "metadata": {},
          "execution_count": 159
        }
      ],
      "source": [
        "s.strip('.')"
      ]
    },
    {
      "cell_type": "markdown",
      "metadata": {
        "id": "liVF1avoNssd"
      },
      "source": [
        "<img src=\"https://github.com/gregworks/python-for-data-science/blob/main/images/border.jpg?raw=1\" height=\"10\" width=\"1500\" align=\"center\"/>"
      ]
    },
    {
      "cell_type": "markdown",
      "metadata": {
        "id": "MBhXY_L4Nssd"
      },
      "source": [
        "## Even More String Functions (Methods)..."
      ]
    },
    {
      "cell_type": "code",
      "source": [
        "help(s.capitalize)"
      ],
      "metadata": {
        "colab": {
          "base_uri": "https://localhost:8080/"
        },
        "id": "qaTP5TaDossc",
        "outputId": "ed61e311-5501-4655-937d-7ad207f389cc"
      },
      "execution_count": 161,
      "outputs": [
        {
          "output_type": "stream",
          "name": "stdout",
          "text": [
            "Help on built-in function capitalize:\n",
            "\n",
            "capitalize() method of builtins.str instance\n",
            "    Return a capitalized version of the string.\n",
            "    \n",
            "    More specifically, make the first character have upper case and the rest lower\n",
            "    case.\n",
            "\n"
          ]
        }
      ]
    },
    {
      "cell_type": "code",
      "execution_count": 160,
      "metadata": {
        "colab": {
          "base_uri": "https://localhost:8080/",
          "height": 36
        },
        "id": "1qMAjOfANssd",
        "outputId": "d74462ab-e731-424f-ff1d-0054165652af"
      },
      "outputs": [
        {
          "output_type": "execute_result",
          "data": {
            "text/plain": [
              "'Now is the time'"
            ],
            "application/vnd.google.colaboratory.intrinsic+json": {
              "type": "string"
            }
          },
          "metadata": {},
          "execution_count": 160
        }
      ],
      "source": [
        "s = 'now IS the time'\n",
        "s.capitalize()"
      ]
    },
    {
      "cell_type": "code",
      "source": [
        "help(s.title)"
      ],
      "metadata": {
        "colab": {
          "base_uri": "https://localhost:8080/"
        },
        "id": "S_0QXjMBo1RF",
        "outputId": "51f1c038-5cbc-4b4b-9b14-de670a60b55d"
      },
      "execution_count": 163,
      "outputs": [
        {
          "output_type": "stream",
          "name": "stdout",
          "text": [
            "Help on built-in function title:\n",
            "\n",
            "title() method of builtins.str instance\n",
            "    Return a version of the string where each word is titlecased.\n",
            "    \n",
            "    More specifically, words start with uppercased characters and all remaining\n",
            "    cased characters have lower case.\n",
            "\n"
          ]
        }
      ]
    },
    {
      "cell_type": "code",
      "execution_count": 162,
      "metadata": {
        "colab": {
          "base_uri": "https://localhost:8080/",
          "height": 36
        },
        "id": "Gj7l9wn9Nssd",
        "outputId": "985334bb-9d39-4c03-a80a-2985f4f56d57"
      },
      "outputs": [
        {
          "output_type": "execute_result",
          "data": {
            "text/plain": [
              "'Now Is The Time'"
            ],
            "application/vnd.google.colaboratory.intrinsic+json": {
              "type": "string"
            }
          },
          "metadata": {},
          "execution_count": 162
        }
      ],
      "source": [
        "s.title()"
      ]
    },
    {
      "cell_type": "code",
      "execution_count": 164,
      "metadata": {
        "colab": {
          "base_uri": "https://localhost:8080/",
          "height": 36
        },
        "id": "RMb_aCAsNsse",
        "outputId": "6e91f67d-8a28-4f3b-83d8-1d70fc2b4c93"
      },
      "outputs": [
        {
          "output_type": "execute_result",
          "data": {
            "text/plain": [
              "'NOW IS THE TIME'"
            ],
            "application/vnd.google.colaboratory.intrinsic+json": {
              "type": "string"
            }
          },
          "metadata": {},
          "execution_count": 164
        }
      ],
      "source": [
        "s.upper()"
      ]
    },
    {
      "cell_type": "code",
      "execution_count": 165,
      "metadata": {
        "colab": {
          "base_uri": "https://localhost:8080/",
          "height": 36
        },
        "id": "bZULBJp1Nsse",
        "outputId": "3408c7d6-a5fd-4c1e-b3fc-19fcca56f794"
      },
      "outputs": [
        {
          "output_type": "execute_result",
          "data": {
            "text/plain": [
              "'now is the time'"
            ],
            "application/vnd.google.colaboratory.intrinsic+json": {
              "type": "string"
            }
          },
          "metadata": {},
          "execution_count": 165
        }
      ],
      "source": [
        "s.lower()"
      ]
    },
    {
      "cell_type": "code",
      "source": [
        "help(s.swapcase)"
      ],
      "metadata": {
        "colab": {
          "base_uri": "https://localhost:8080/"
        },
        "id": "xk4dW9o2pBpC",
        "outputId": "7e017c00-0196-44f5-bcec-8dc73f213057"
      },
      "execution_count": 167,
      "outputs": [
        {
          "output_type": "stream",
          "name": "stdout",
          "text": [
            "Help on built-in function swapcase:\n",
            "\n",
            "swapcase() method of builtins.str instance\n",
            "    Convert uppercase characters to lowercase and lowercase characters to uppercase.\n",
            "\n"
          ]
        }
      ]
    },
    {
      "cell_type": "code",
      "execution_count": 166,
      "metadata": {
        "colab": {
          "base_uri": "https://localhost:8080/",
          "height": 36
        },
        "id": "oJLY4D8sNsse",
        "outputId": "32d95327-2c29-42ad-84ef-0f8d567b2b99"
      },
      "outputs": [
        {
          "output_type": "execute_result",
          "data": {
            "text/plain": [
              "'NOW is THE TIME'"
            ],
            "application/vnd.google.colaboratory.intrinsic+json": {
              "type": "string"
            }
          },
          "metadata": {},
          "execution_count": 166
        }
      ],
      "source": [
        "s.swapcase()"
      ]
    },
    {
      "cell_type": "code",
      "source": [
        "s"
      ],
      "metadata": {
        "colab": {
          "base_uri": "https://localhost:8080/",
          "height": 36
        },
        "id": "GNcb6Kt8pIDR",
        "outputId": "309586c1-b15e-47b9-98f9-68cd390a026d"
      },
      "execution_count": 168,
      "outputs": [
        {
          "output_type": "execute_result",
          "data": {
            "text/plain": [
              "'now IS the time'"
            ],
            "application/vnd.google.colaboratory.intrinsic+json": {
              "type": "string"
            }
          },
          "metadata": {},
          "execution_count": 168
        }
      ]
    },
    {
      "cell_type": "code",
      "execution_count": 169,
      "metadata": {
        "colab": {
          "base_uri": "https://localhost:8080/",
          "height": 36
        },
        "id": "FqqqrQfTNsse",
        "outputId": "ab422e86-fe40-47ed-a685-f9cb1ea1b88d"
      },
      "outputs": [
        {
          "output_type": "execute_result",
          "data": {
            "text/plain": [
              "'now IS not the time'"
            ],
            "application/vnd.google.colaboratory.intrinsic+json": {
              "type": "string"
            }
          },
          "metadata": {},
          "execution_count": 169
        }
      ],
      "source": [
        "s.replace('the', 'not the') # be careful of the naming"
      ]
    },
    {
      "cell_type": "code",
      "execution_count": 170,
      "metadata": {
        "colab": {
          "base_uri": "https://localhost:8080/",
          "height": 36
        },
        "id": "gS8sVXjsNsse",
        "outputId": "2c4bb956-6912-4ae0-f14a-28022d416cc0"
      },
      "outputs": [
        {
          "output_type": "execute_result",
          "data": {
            "text/plain": [
              "'now IS The Time'"
            ],
            "application/vnd.google.colaboratory.intrinsic+json": {
              "type": "string"
            }
          },
          "metadata": {},
          "execution_count": 170
        }
      ],
      "source": [
        "s.replace('t', 'T')"
      ]
    },
    {
      "cell_type": "markdown",
      "metadata": {
        "id": "AkSpMxWjNsse"
      },
      "source": [
        "<img src=\"https://github.com/gregworks/python-for-data-science/blob/main/images/border.jpg?raw=1\" height=\"10\" width=\"1500\" align=\"center\"/>"
      ]
    },
    {
      "cell_type": "markdown",
      "metadata": {
        "id": "q41UpoLgNsse"
      },
      "source": [
        "## Lab: String Functions\n",
        "\n",
        "* write a Python program which prompts the user for a string and a stride (increment), and alternately makes the string upper case and lower case, stride characters at a time, e.g.,\n",
        "![alt-text](./images/uplow.png \"uplow\")\n"
      ]
    },
    {
      "cell_type": "code",
      "source": [
        "input_string = input(\"Enter a string: \")\n",
        "stride = int(input(\"Enter the stride (increment): \"))\n",
        "\n",
        "result = []\n",
        "upper = True  # Start with making characters uppercase\n",
        "\n",
        "# Iterate through the input_string with the specified stride\n",
        "for i in range(0, len(input_string), stride):\n",
        "    if upper:\n",
        "        result.append(input_string[i:i+stride].upper())\n",
        "    else:\n",
        "        result.append(input_string[i:i+stride].lower())\n",
        "\n",
        "    # Toggle the case for the next segment\n",
        "    upper = not upper\n",
        "\n",
        "# Join the result segments into a modified string\n",
        "modified_string = ''.join(result)\n",
        "\n",
        "# Print the modified string\n",
        "print(\"Modified string:\", modified_string)"
      ],
      "metadata": {
        "colab": {
          "base_uri": "https://localhost:8080/"
        },
        "id": "EZBvbw79pepB",
        "outputId": "d290f55d-7af8-437c-ea51-f348cde2dd23"
      },
      "execution_count": 171,
      "outputs": [
        {
          "output_type": "stream",
          "name": "stdout",
          "text": [
            "Enter a string: abcdefgh\n",
            "Enter the stride (increment): 2\n",
            "Modified string: ABcdEFgh\n"
          ]
        }
      ]
    },
    {
      "cell_type": "markdown",
      "metadata": {
        "id": "88jjtzYGNssf"
      },
      "source": [
        "<img src=\"https://github.com/gregworks/python-for-data-science/blob/main/images/border.jpg?raw=1\" height=\"10\" width=\"1500\" align=\"center\"/>"
      ]
    },
    {
      "cell_type": "markdown",
      "metadata": {
        "id": "gPVnhuCDNssf"
      },
      "source": [
        "## __`split()/join()`__"
      ]
    },
    {
      "cell_type": "code",
      "execution_count": 172,
      "metadata": {
        "colab": {
          "base_uri": "https://localhost:8080/"
        },
        "id": "1bYgrj0LNssf",
        "outputId": "0c9593ac-4b6d-437f-e7bf-c5dadc4ee1b4"
      },
      "outputs": [
        {
          "output_type": "execute_result",
          "data": {
            "text/plain": [
              "['Now', 'is', 'the', 'time']"
            ]
          },
          "metadata": {},
          "execution_count": 172
        }
      ],
      "source": [
        "'Now is the time'.split() # this is a string method"
      ]
    },
    {
      "cell_type": "code",
      "execution_count": 173,
      "metadata": {
        "colab": {
          "base_uri": "https://localhost:8080/"
        },
        "id": "-JAwKfJaNssf",
        "outputId": "0b0ce0fb-7684-4241-9479-4ca382adef38"
      },
      "outputs": [
        {
          "output_type": "execute_result",
          "data": {
            "text/plain": [
              "['eggs', 'bread', 'milk', 'yogurt']"
            ]
          },
          "metadata": {},
          "execution_count": 173
        }
      ],
      "source": [
        "'eggs, bread, milk, yogurt'.split(', ')"
      ]
    },
    {
      "cell_type": "code",
      "source": [
        "['anti', 'dis', 'establish', 'men', 'tarian', 'ism']"
      ],
      "metadata": {
        "colab": {
          "base_uri": "https://localhost:8080/"
        },
        "id": "qQbu-y_Mtvtm",
        "outputId": "83facebd-dca5-41c8-edc9-96de3bccfd17"
      },
      "execution_count": 174,
      "outputs": [
        {
          "output_type": "execute_result",
          "data": {
            "text/plain": [
              "['anti', 'dis', 'establish', 'men', 'tarian', 'ism']"
            ]
          },
          "metadata": {},
          "execution_count": 174
        }
      ]
    },
    {
      "cell_type": "code",
      "execution_count": 178,
      "metadata": {
        "colab": {
          "base_uri": "https://localhost:8080/",
          "height": 36
        },
        "id": "S3NgZf_aNssf",
        "outputId": "d673621f-a011-4614-a657-34e59e4a9fd5"
      },
      "outputs": [
        {
          "output_type": "execute_result",
          "data": {
            "text/plain": [
              "'antidisestablishmentarianism'"
            ],
            "application/vnd.google.colaboratory.intrinsic+json": {
              "type": "string"
            }
          },
          "metadata": {},
          "execution_count": 178
        }
      ],
      "source": [
        "# would be nice if we could write...\n",
        "# ['a', 'b', 'c'].join(' ')\n",
        "# but we don't because join is a string method\n",
        "''.join(['anti', 'dis', 'establish', 'men', 'tarian', 'ism'])"
      ]
    },
    {
      "cell_type": "code",
      "execution_count": 179,
      "metadata": {
        "colab": {
          "base_uri": "https://localhost:8080/",
          "height": 36
        },
        "id": "3Tvt4JmmNssf",
        "outputId": "7c099f94-c337-4d76-d4d1-bcfbee1c362e"
      },
      "outputs": [
        {
          "output_type": "execute_result",
          "data": {
            "text/plain": [
              "'Anne, Robert, Nancy'"
            ],
            "application/vnd.google.colaboratory.intrinsic+json": {
              "type": "string"
            }
          },
          "metadata": {},
          "execution_count": 179
        }
      ],
      "source": [
        "', '.join(['Anne', 'Robert', 'Nancy'])"
      ]
    },
    {
      "cell_type": "markdown",
      "metadata": {
        "id": "qhAGLp8yNssg"
      },
      "source": [
        "<img src=\"https://github.com/gregworks/python-for-data-science/blob/main/images/border.jpg?raw=1\" height=\"10\" width=\"1500\" align=\"center\"/>"
      ]
    },
    {
      "cell_type": "markdown",
      "metadata": {
        "id": "kqXjL6hcNssg"
      },
      "source": [
        "# Lists"
      ]
    },
    {
      "cell_type": "markdown",
      "metadata": {
        "id": "5QcxE83UNssg"
      },
      "source": [
        "## Lists\n",
        "* usually homogeneous, but may contain any objects\n",
        "* unbounded / not a fixed size\n",
        "* duplicates allowed\n",
        "* __`list()`__ function creates a list from another sequence or container"
      ]
    },
    {
      "cell_type": "code",
      "execution_count": 180,
      "metadata": {
        "colab": {
          "base_uri": "https://localhost:8080/"
        },
        "id": "OOxf8eshNssg",
        "outputId": "299acbcc-b72d-4526-f076-9a72f305e18c"
      },
      "outputs": [
        {
          "output_type": "execute_result",
          "data": {
            "text/plain": [
              "[1, 3, 5, 7, 5, 3, 1]"
            ]
          },
          "metadata": {},
          "execution_count": 180
        }
      ],
      "source": [
        "mylist = [1, 3, 5, 7, 5, 3, 1]\n",
        "mylist"
      ]
    },
    {
      "cell_type": "code",
      "execution_count": 181,
      "metadata": {
        "colab": {
          "base_uri": "https://localhost:8080/"
        },
        "id": "pDaXXVFpNssh",
        "outputId": "6d0516b5-365f-47b9-a1f1-41ba6cbcf324"
      },
      "outputs": [
        {
          "output_type": "execute_result",
          "data": {
            "text/plain": [
              "['Mon', 'Tue', 'Wed', 'Thu', 'Fri', 'Sat', 'Sun']"
            ]
          },
          "metadata": {},
          "execution_count": 181
        }
      ],
      "source": [
        "days = ['Mon', 'Tue', 'Wed', 'Thu', 'Fri', 'Sat', 'Sun']\n",
        "days"
      ]
    },
    {
      "cell_type": "code",
      "execution_count": null,
      "metadata": {
        "id": "0TuG57pWNssh"
      },
      "outputs": [],
      "source": [
        "list('hello')"
      ]
    },
    {
      "cell_type": "code",
      "execution_count": 182,
      "metadata": {
        "colab": {
          "base_uri": "https://localhost:8080/"
        },
        "id": "BGny0RgqNssh",
        "outputId": "bf1d7d47-64de-4cad-cf08-2e395a733cf8"
      },
      "outputs": [
        {
          "output_type": "execute_result",
          "data": {
            "text/plain": [
              "['12', '07', '1941']"
            ]
          },
          "metadata": {},
          "execution_count": 182
        }
      ],
      "source": [
        "date = '12/07/1941'\n",
        "date.split('/')"
      ]
    },
    {
      "cell_type": "code",
      "execution_count": 183,
      "metadata": {
        "colab": {
          "base_uri": "https://localhost:8080/"
        },
        "id": "3ai9ltvfNssh",
        "outputId": "a83d9033-1fe8-4892-a4fa-729eed6bf803"
      },
      "outputs": [
        {
          "output_type": "execute_result",
          "data": {
            "text/plain": [
              "['a', 'b', '', 'c', 'd', '', 'e', '', 'f']"
            ]
          },
          "metadata": {},
          "execution_count": 183
        }
      ],
      "source": [
        "'a/b//c/d//e//f'.split('/')"
      ]
    },
    {
      "cell_type": "code",
      "execution_count": 184,
      "metadata": {
        "colab": {
          "base_uri": "https://localhost:8080/"
        },
        "id": "b1V-WrZVNssh",
        "outputId": "57274222-7184-4957-ae64-5a36da96d1e8"
      },
      "outputs": [
        {
          "name": "stdout",
          "output_type": "stream",
          "text": [
            "Enter something: dogs cats\n"
          ]
        }
      ],
      "source": [
        "stuff = input('Enter something: ')"
      ]
    },
    {
      "cell_type": "code",
      "execution_count": 185,
      "metadata": {
        "colab": {
          "base_uri": "https://localhost:8080/"
        },
        "id": "Vn3hA10wNssh",
        "outputId": "d6f9fff0-42d1-4169-dbde-365543c357bc"
      },
      "outputs": [
        {
          "output_type": "execute_result",
          "data": {
            "text/plain": [
              "['dogs', 'cats']"
            ]
          },
          "metadata": {},
          "execution_count": 185
        }
      ],
      "source": [
        "stuff.split()"
      ]
    },
    {
      "cell_type": "code",
      "execution_count": 246,
      "metadata": {
        "id": "xrmY3S7rNssi"
      },
      "outputs": [],
      "source": [
        "cars = ['Tesla', 'Fisker', 'Rivian', 'Lordstown']"
      ]
    },
    {
      "cell_type": "code",
      "execution_count": 188,
      "metadata": {
        "colab": {
          "base_uri": "https://localhost:8080/",
          "height": 36
        },
        "id": "x7i8BTXdNssi",
        "outputId": "7e86e9f8-1c69-4acc-a9f7-ad7434b70067"
      },
      "outputs": [
        {
          "output_type": "execute_result",
          "data": {
            "text/plain": [
              "'Tesla'"
            ],
            "application/vnd.google.colaboratory.intrinsic+json": {
              "type": "string"
            }
          },
          "metadata": {},
          "execution_count": 188
        }
      ],
      "source": [
        "cars[0]"
      ]
    },
    {
      "cell_type": "code",
      "execution_count": 189,
      "metadata": {
        "colab": {
          "base_uri": "https://localhost:8080/",
          "height": 36
        },
        "id": "R1tx6WDqNssi",
        "outputId": "4f11b5cf-eea4-4068-b837-90d93a680080"
      },
      "outputs": [
        {
          "output_type": "execute_result",
          "data": {
            "text/plain": [
              "'Lordstown'"
            ],
            "application/vnd.google.colaboratory.intrinsic+json": {
              "type": "string"
            }
          },
          "metadata": {},
          "execution_count": 189
        }
      ],
      "source": [
        "cars[-1] # always the last element of the list"
      ]
    },
    {
      "cell_type": "code",
      "execution_count": 190,
      "metadata": {
        "colab": {
          "base_uri": "https://localhost:8080/"
        },
        "id": "sMYu7wKyNssi",
        "outputId": "4ab594c1-f6d5-4e3c-9f07-729a7597db08"
      },
      "outputs": [
        {
          "output_type": "execute_result",
          "data": {
            "text/plain": [
              "[['Tesla', 'Fisker', 'Rivian', 'Lordstown'], 'bus']"
            ]
          },
          "metadata": {},
          "execution_count": 190
        }
      ],
      "source": [
        "vehicles = [cars, 'bus']\n",
        "vehicles"
      ]
    },
    {
      "cell_type": "code",
      "execution_count": 191,
      "metadata": {
        "colab": {
          "base_uri": "https://localhost:8080/"
        },
        "id": "6WFO3EodNssi",
        "outputId": "7741513e-4ae5-44d8-b223-8fd21fb17ecd"
      },
      "outputs": [
        {
          "output_type": "execute_result",
          "data": {
            "text/plain": [
              "['Tesla', 'Fisker', 'Rivian', 'Lordstown']"
            ]
          },
          "metadata": {},
          "execution_count": 191
        }
      ],
      "source": [
        "vehicles[0]"
      ]
    },
    {
      "cell_type": "code",
      "execution_count": 192,
      "metadata": {
        "colab": {
          "base_uri": "https://localhost:8080/",
          "height": 36
        },
        "id": "gu9Hr_vRNssi",
        "outputId": "30331424-4bfb-4b8a-b3a6-438f7b3b5f16"
      },
      "outputs": [
        {
          "output_type": "execute_result",
          "data": {
            "text/plain": [
              "'Lordstown'"
            ],
            "application/vnd.google.colaboratory.intrinsic+json": {
              "type": "string"
            }
          },
          "metadata": {},
          "execution_count": 192
        }
      ],
      "source": [
        "vehicles[0][-1]"
      ]
    },
    {
      "cell_type": "code",
      "source": [
        "testList = ['a']\n",
        "testList"
      ],
      "metadata": {
        "colab": {
          "base_uri": "https://localhost:8080/"
        },
        "id": "qtftlPH6u-NB",
        "outputId": "34c510f7-cc99-4b55-fa81-b9b778036caa"
      },
      "execution_count": 194,
      "outputs": [
        {
          "output_type": "execute_result",
          "data": {
            "text/plain": [
              "['a']"
            ]
          },
          "metadata": {},
          "execution_count": 194
        }
      ]
    },
    {
      "cell_type": "code",
      "execution_count": 195,
      "metadata": {
        "colab": {
          "base_uri": "https://localhost:8080/"
        },
        "id": "-8rm4EGXNssj",
        "outputId": "10e9a1c5-2a1f-44f4-9d3e-6762fcae4c0f"
      },
      "outputs": [
        {
          "output_type": "execute_result",
          "data": {
            "text/plain": [
              "['Tesla', 'Fisker', 'Rivian', 'Lordstown Motors']"
            ]
          },
          "metadata": {},
          "execution_count": 195
        }
      ],
      "source": [
        "cars[-1] = 'Lordstown Motors'\n",
        "cars"
      ]
    },
    {
      "cell_type": "code",
      "execution_count": 196,
      "metadata": {
        "colab": {
          "base_uri": "https://localhost:8080/"
        },
        "id": "UQz5WFdWNssj",
        "outputId": "b3b86e6c-74ef-428d-9620-08c7266a045f"
      },
      "outputs": [
        {
          "output_type": "execute_result",
          "data": {
            "text/plain": [
              "['Tesla', 'Fisker']"
            ]
          },
          "metadata": {},
          "execution_count": 196
        }
      ],
      "source": [
        "cars[:2] # first 2 items in a container"
      ]
    },
    {
      "cell_type": "code",
      "execution_count": 197,
      "metadata": {
        "colab": {
          "base_uri": "https://localhost:8080/"
        },
        "id": "VntKeLGLNssj",
        "outputId": "530729f4-bfa7-4d9c-f82b-e85f8431f342"
      },
      "outputs": [
        {
          "output_type": "execute_result",
          "data": {
            "text/plain": [
              "['Tesla', 'Rivian']"
            ]
          },
          "metadata": {},
          "execution_count": 197
        }
      ],
      "source": [
        "cars[::2] # the \"evens\", every other item"
      ]
    },
    {
      "cell_type": "code",
      "execution_count": 198,
      "metadata": {
        "colab": {
          "base_uri": "https://localhost:8080/"
        },
        "id": "WJJpdPgBNssj",
        "outputId": "59059aec-dded-4523-d7b8-898a7e718bd0"
      },
      "outputs": [
        {
          "output_type": "execute_result",
          "data": {
            "text/plain": [
              "['Fisker', 'Lordstown Motors']"
            ]
          },
          "metadata": {},
          "execution_count": 198
        }
      ],
      "source": [
        "cars[1::2] # the \"odds\", every other item"
      ]
    },
    {
      "cell_type": "code",
      "execution_count": 199,
      "metadata": {
        "colab": {
          "base_uri": "https://localhost:8080/"
        },
        "id": "ES329HpRNssj",
        "outputId": "a9546c64-47d4-45e1-efe5-066595b2f090"
      },
      "outputs": [
        {
          "output_type": "execute_result",
          "data": {
            "text/plain": [
              "['Lordstown Motors', 'Rivian', 'Fisker', 'Tesla']"
            ]
          },
          "metadata": {},
          "execution_count": 199
        }
      ],
      "source": [
        "cars[::-1] # also idiomatic"
      ]
    },
    {
      "cell_type": "markdown",
      "metadata": {
        "id": "06GV8xuYNssj"
      },
      "source": [
        "<img src=\"https://github.com/gregworks/python-for-data-science/blob/main/images/border.jpg?raw=1\" height=\"10\" width=\"1500\" align=\"center\"/>"
      ]
    },
    {
      "cell_type": "markdown",
      "metadata": {
        "id": "UUsAZn65Nssk"
      },
      "source": [
        "## Looping Through a List"
      ]
    },
    {
      "cell_type": "code",
      "execution_count": 203,
      "metadata": {
        "colab": {
          "base_uri": "https://localhost:8080/"
        },
        "id": "afRbcBblNssk",
        "outputId": "83a6d297-f31b-4444-f811-ec6319acb781"
      },
      "outputs": [
        {
          "output_type": "stream",
          "name": "stdout",
          "text": [
            "Tesla\n",
            "Fisker\n",
            "Rivian\n",
            "Lordstown Motors\n"
          ]
        }
      ],
      "source": [
        "index = 0\n",
        "while index < len(cars):\n",
        "    print(cars[index])\n",
        "    index += 1 #i index = index + 1"
      ]
    },
    {
      "cell_type": "code",
      "execution_count": 204,
      "metadata": {
        "colab": {
          "base_uri": "https://localhost:8080/"
        },
        "id": "eMcsvk5FNssk",
        "outputId": "d8b421dd-eba4-4e74-9acb-2dd3be3e4073"
      },
      "outputs": [
        {
          "output_type": "stream",
          "name": "stdout",
          "text": [
            "Tesla\n",
            "Fisker\n",
            "Rivian\n",
            "Lordstown Motors\n"
          ]
        }
      ],
      "source": [
        "for index in range(0, len(cars)):\n",
        "    print(cars[index])"
      ]
    },
    {
      "cell_type": "markdown",
      "metadata": {
        "id": "jJfDqpCgNssk"
      },
      "source": [
        "* that works, but it's not the way we'd write it in Python...it's not _Pythonic_"
      ]
    },
    {
      "cell_type": "code",
      "execution_count": 205,
      "metadata": {
        "colab": {
          "base_uri": "https://localhost:8080/"
        },
        "id": "bHe4CqyyNssk",
        "outputId": "da6656a0-ded2-4c4e-e19d-edc807c27ec8"
      },
      "outputs": [
        {
          "output_type": "stream",
          "name": "stdout",
          "text": [
            "Tesla\n",
            "Fisker\n",
            "Rivian\n",
            "Lordstown Motors\n"
          ]
        }
      ],
      "source": [
        "for car in cars: # for \"thing in container\"\n",
        "    print(car)"
      ]
    },
    {
      "cell_type": "code",
      "source": [
        "for index, car in enumerate(cars):\n",
        "  print(index, car)"
      ],
      "metadata": {
        "colab": {
          "base_uri": "https://localhost:8080/"
        },
        "id": "G6P6lbRovqVC",
        "outputId": "5b5a853b-93bd-4632-bf0b-a0bab2f933b5"
      },
      "execution_count": 206,
      "outputs": [
        {
          "output_type": "stream",
          "name": "stdout",
          "text": [
            "0 Tesla\n",
            "1 Fisker\n",
            "2 Rivian\n",
            "3 Lordstown Motors\n"
          ]
        }
      ]
    },
    {
      "cell_type": "code",
      "source": [
        "for i, char in enumerate(\"abcd\"):\n",
        "  print(i, char)"
      ],
      "metadata": {
        "colab": {
          "base_uri": "https://localhost:8080/"
        },
        "id": "gTxJcspyv4jw",
        "outputId": "e5662112-8db9-4783-842e-0943bf197287"
      },
      "execution_count": 209,
      "outputs": [
        {
          "output_type": "stream",
          "name": "stdout",
          "text": [
            "0 a\n",
            "1 b\n",
            "2 c\n",
            "3 d\n"
          ]
        }
      ]
    },
    {
      "cell_type": "markdown",
      "metadata": {
        "id": "rUn0jKp1Nssl"
      },
      "source": [
        "<img src=\"https://github.com/gregworks/python-for-data-science/blob/main/images/border.jpg?raw=1\" height=\"10\" width=\"1500\" align=\"center\"/>"
      ]
    },
    {
      "cell_type": "markdown",
      "metadata": {
        "id": "ncm5RHCzNssl"
      },
      "source": [
        "## Adding to a List (\"mutator\" methods)\n",
        "* __`append()`__: add an item the end of a list\n",
        "* __`insert()`__: add an item to a particular place in the list\n",
        "* __`extend()`__ (also __`+=`__): add a list to a list"
      ]
    },
    {
      "cell_type": "code",
      "source": [
        "cars"
      ],
      "metadata": {
        "colab": {
          "base_uri": "https://localhost:8080/"
        },
        "id": "h98zgyTxwMi_",
        "outputId": "82a76a59-a77c-429d-f366-fc6af556c750"
      },
      "execution_count": 210,
      "outputs": [
        {
          "output_type": "execute_result",
          "data": {
            "text/plain": [
              "['Tesla', 'Fisker', 'Rivian', 'Lordstown Motors']"
            ]
          },
          "metadata": {},
          "execution_count": 210
        }
      ]
    },
    {
      "cell_type": "code",
      "execution_count": 211,
      "metadata": {
        "colab": {
          "base_uri": "https://localhost:8080/"
        },
        "id": "-fQl46TKNssl",
        "outputId": "3e24f958-92f2-4696-cdf3-ecd229b4ec04"
      },
      "outputs": [
        {
          "output_type": "execute_result",
          "data": {
            "text/plain": [
              "['Tesla', 'Fisker', 'Rivian', 'Lordstown Motors', 'Lucid']"
            ]
          },
          "metadata": {},
          "execution_count": 211
        }
      ],
      "source": [
        "cars.append('Lucid')\n",
        "cars"
      ]
    },
    {
      "cell_type": "code",
      "execution_count": 212,
      "metadata": {
        "colab": {
          "base_uri": "https://localhost:8080/"
        },
        "id": "12hsu9lPNssl",
        "outputId": "9f2995a3-105b-47db-e822-8a347fce1bb4"
      },
      "outputs": [
        {
          "output_type": "execute_result",
          "data": {
            "text/plain": [
              "['Tesla', 'Fisker', 'Faraday', 'Rivian', 'Lordstown Motors', 'Lucid']"
            ]
          },
          "metadata": {},
          "execution_count": 212
        }
      ],
      "source": [
        "cars.insert(2, 'Faraday')\n",
        "cars"
      ]
    },
    {
      "cell_type": "code",
      "execution_count": 213,
      "metadata": {
        "colab": {
          "base_uri": "https://localhost:8080/"
        },
        "id": "mDevfX4JNssl",
        "outputId": "8a1fdb3e-f54e-4cd2-e4b9-5416ad2accf7"
      },
      "outputs": [
        {
          "output_type": "execute_result",
          "data": {
            "text/plain": [
              "['Tesla',\n",
              " 'Fisker',\n",
              " 'Faraday',\n",
              " 'Rivian',\n",
              " 'Lordstown Motors',\n",
              " 'Lucid',\n",
              " 'Bollinger',\n",
              " 'Polestar']"
            ]
          },
          "metadata": {},
          "execution_count": 213
        }
      ],
      "source": [
        "others = ['Bollinger', 'Polestar']\n",
        "cars += others # .extend()\n",
        "cars"
      ]
    },
    {
      "cell_type": "code",
      "source": [
        "cars + others"
      ],
      "metadata": {
        "colab": {
          "base_uri": "https://localhost:8080/"
        },
        "id": "X-vl-X6Zwf1b",
        "outputId": "b76622e0-5c6b-4b97-f5e3-2d692d9861cf"
      },
      "execution_count": 215,
      "outputs": [
        {
          "output_type": "execute_result",
          "data": {
            "text/plain": [
              "['Tesla',\n",
              " 'Fisker',\n",
              " 'Faraday',\n",
              " 'Rivian',\n",
              " 'Lordstown Motors',\n",
              " 'Lucid',\n",
              " 'Bollinger',\n",
              " 'Polestar',\n",
              " ['Bollinger', 'Polestar'],\n",
              " 'Bollinger',\n",
              " 'Polestar']"
            ]
          },
          "metadata": {},
          "execution_count": 215
        }
      ]
    },
    {
      "cell_type": "code",
      "execution_count": 214,
      "metadata": {
        "colab": {
          "base_uri": "https://localhost:8080/"
        },
        "id": "q_OI8MXPNssl",
        "outputId": "939d960e-76e1-40e5-86b6-c07a731b31bb"
      },
      "outputs": [
        {
          "output_type": "execute_result",
          "data": {
            "text/plain": [
              "['Tesla',\n",
              " 'Fisker',\n",
              " 'Faraday',\n",
              " 'Rivian',\n",
              " 'Lordstown Motors',\n",
              " 'Lucid',\n",
              " 'Bollinger',\n",
              " 'Polestar',\n",
              " ['Bollinger', 'Polestar']]"
            ]
          },
          "metadata": {},
          "execution_count": 214
        }
      ],
      "source": [
        "cars.append(others)\n",
        "cars"
      ]
    },
    {
      "cell_type": "markdown",
      "metadata": {
        "id": "2GGTri7QNssl"
      },
      "source": [
        "<img src=\"https://github.com/gregworks/python-for-data-science/blob/main/images/border.jpg?raw=1\" height=\"10\" width=\"1500\" align=\"center\"/>"
      ]
    },
    {
      "cell_type": "markdown",
      "metadata": {
        "id": "AGqa-lu0Nssm"
      },
      "source": [
        "## Removing from a List\n",
        "* __`del`__: delete by position\n",
        "* __`remove(item)`__: remove by value\n",
        "* __`pop()`__: remove last item (or specified item)"
      ]
    },
    {
      "cell_type": "code",
      "execution_count": 216,
      "metadata": {
        "colab": {
          "base_uri": "https://localhost:8080/"
        },
        "id": "WjLPzqyINssm",
        "outputId": "2684ae77-6dec-4629-837f-7e9c74588d9a"
      },
      "outputs": [
        {
          "output_type": "execute_result",
          "data": {
            "text/plain": [
              "['Tesla',\n",
              " 'Fisker',\n",
              " 'Faraday',\n",
              " 'Rivian',\n",
              " 'Lordstown Motors',\n",
              " 'Lucid',\n",
              " 'Bollinger',\n",
              " 'Polestar',\n",
              " ['Bollinger', 'Polestar']]"
            ]
          },
          "metadata": {},
          "execution_count": 216
        }
      ],
      "source": [
        "cars"
      ]
    },
    {
      "cell_type": "code",
      "source": [
        "a = 1\n",
        "print(a)\n",
        "del a\n",
        "print(a)"
      ],
      "metadata": {
        "colab": {
          "base_uri": "https://localhost:8080/",
          "height": 193
        },
        "id": "AqdnkV_gw-Dk",
        "outputId": "86f61cbb-0302-4419-e822-3612f0ec4780"
      },
      "execution_count": 225,
      "outputs": [
        {
          "output_type": "stream",
          "name": "stdout",
          "text": [
            "1\n"
          ]
        },
        {
          "output_type": "error",
          "ename": "NameError",
          "evalue": "name 'a' is not defined",
          "traceback": [
            "\u001b[0;31m---------------------------------------------------------------------------\u001b[0m",
            "\u001b[0;31mNameError\u001b[0m                                 Traceback (most recent call last)",
            "\u001b[0;32m<ipython-input-225-b80e86045f9d>\u001b[0m in \u001b[0;36m<cell line: 4>\u001b[0;34m()\u001b[0m\n\u001b[1;32m      2\u001b[0m \u001b[0mprint\u001b[0m\u001b[0;34m(\u001b[0m\u001b[0ma\u001b[0m\u001b[0;34m)\u001b[0m\u001b[0;34m\u001b[0m\u001b[0;34m\u001b[0m\u001b[0m\n\u001b[1;32m      3\u001b[0m \u001b[0;32mdel\u001b[0m \u001b[0ma\u001b[0m\u001b[0;34m\u001b[0m\u001b[0;34m\u001b[0m\u001b[0m\n\u001b[0;32m----> 4\u001b[0;31m \u001b[0mprint\u001b[0m\u001b[0;34m(\u001b[0m\u001b[0ma\u001b[0m\u001b[0;34m)\u001b[0m\u001b[0;34m\u001b[0m\u001b[0;34m\u001b[0m\u001b[0m\n\u001b[0m",
            "\u001b[0;31mNameError\u001b[0m: name 'a' is not defined"
          ]
        }
      ]
    },
    {
      "cell_type": "code",
      "execution_count": 217,
      "metadata": {
        "colab": {
          "base_uri": "https://localhost:8080/"
        },
        "id": "Y6R4ulP6Nssm",
        "outputId": "ea29beeb-bb1b-4fb5-f91f-8e29ae4e6e94"
      },
      "outputs": [
        {
          "output_type": "execute_result",
          "data": {
            "text/plain": [
              "['Tesla',\n",
              " 'Fisker',\n",
              " 'Faraday',\n",
              " 'Rivian',\n",
              " 'Lordstown Motors',\n",
              " 'Lucid',\n",
              " 'Bollinger',\n",
              " 'Polestar']"
            ]
          },
          "metadata": {},
          "execution_count": 217
        }
      ],
      "source": [
        "del cars[-1]\n",
        "cars"
      ]
    },
    {
      "cell_type": "code",
      "execution_count": 218,
      "metadata": {
        "colab": {
          "base_uri": "https://localhost:8080/"
        },
        "id": "1ZhtNOo1Nssm",
        "outputId": "38c53271-5323-4e71-9522-bb7444987986"
      },
      "outputs": [
        {
          "output_type": "execute_result",
          "data": {
            "text/plain": [
              "['Tesla',\n",
              " 'Fisker',\n",
              " 'Rivian',\n",
              " 'Lordstown Motors',\n",
              " 'Lucid',\n",
              " 'Bollinger',\n",
              " 'Polestar']"
            ]
          },
          "metadata": {},
          "execution_count": 218
        }
      ],
      "source": [
        "cars.remove('Faraday')\n",
        "cars"
      ]
    },
    {
      "cell_type": "code",
      "execution_count": 219,
      "metadata": {
        "colab": {
          "base_uri": "https://localhost:8080/",
          "height": 36
        },
        "id": "JZJ14VLSNssm",
        "outputId": "8df83f46-9510-4c1d-c503-ff69430f02a6"
      },
      "outputs": [
        {
          "output_type": "execute_result",
          "data": {
            "text/plain": [
              "'Polestar'"
            ],
            "application/vnd.google.colaboratory.intrinsic+json": {
              "type": "string"
            }
          },
          "metadata": {},
          "execution_count": 219
        }
      ],
      "source": [
        "cars.pop() # last item by default"
      ]
    },
    {
      "cell_type": "code",
      "execution_count": 220,
      "metadata": {
        "colab": {
          "base_uri": "https://localhost:8080/"
        },
        "id": "9HZ8_7GMNssm",
        "outputId": "ad7b7355-c95a-4357-ffd0-5177358a6887"
      },
      "outputs": [
        {
          "output_type": "execute_result",
          "data": {
            "text/plain": [
              "['Tesla', 'Fisker', 'Rivian', 'Lordstown Motors', 'Lucid', 'Bollinger']"
            ]
          },
          "metadata": {},
          "execution_count": 220
        }
      ],
      "source": [
        "cars"
      ]
    },
    {
      "cell_type": "code",
      "execution_count": 221,
      "metadata": {
        "colab": {
          "base_uri": "https://localhost:8080/",
          "height": 36
        },
        "id": "6BTolLAeNssn",
        "outputId": "c16d8228-a96f-4b7d-f126-55484964539c"
      },
      "outputs": [
        {
          "output_type": "execute_result",
          "data": {
            "text/plain": [
              "'Fisker'"
            ],
            "application/vnd.google.colaboratory.intrinsic+json": {
              "type": "string"
            }
          },
          "metadata": {},
          "execution_count": 221
        }
      ],
      "source": [
        "cars.pop(1) # pop() or remove the second item"
      ]
    },
    {
      "cell_type": "code",
      "execution_count": 223,
      "metadata": {
        "colab": {
          "base_uri": "https://localhost:8080/",
          "height": 36
        },
        "id": "CC1M9VTHNssn",
        "outputId": "aceee1bf-eddd-43a9-b67b-a586b45e3f63"
      },
      "outputs": [
        {
          "output_type": "execute_result",
          "data": {
            "text/plain": [
              "'Bollinger'"
            ],
            "application/vnd.google.colaboratory.intrinsic+json": {
              "type": "string"
            }
          },
          "metadata": {},
          "execution_count": 223
        }
      ],
      "source": [
        "cars.pop()"
      ]
    },
    {
      "cell_type": "code",
      "source": [
        "cars"
      ],
      "metadata": {
        "colab": {
          "base_uri": "https://localhost:8080/"
        },
        "id": "8Dok_JVWw0Kn",
        "outputId": "ce3256fa-b2b4-405c-8665-999625871503"
      },
      "execution_count": 224,
      "outputs": [
        {
          "output_type": "execute_result",
          "data": {
            "text/plain": [
              "['Tesla', 'Rivian', 'Lordstown Motors', 'Lucid']"
            ]
          },
          "metadata": {},
          "execution_count": 224
        }
      ]
    },
    {
      "cell_type": "markdown",
      "metadata": {
        "id": "qbSXsJGVNssn"
      },
      "source": [
        "<img src=\"https://github.com/gregworks/python-for-data-science/blob/main/images/border.jpg?raw=1\" height=\"10\" width=\"1500\" align=\"center\"/>"
      ]
    },
    {
      "cell_type": "markdown",
      "metadata": {
        "id": "863il4vkNssn"
      },
      "source": [
        "## Examining Lists (inspectors)\n",
        "* __`index(item)`__: return position of item\n",
        "* __`count(item)`__: count occurrences of item\n",
        "* __`in`__: test for membership"
      ]
    },
    {
      "cell_type": "code",
      "execution_count": 226,
      "metadata": {
        "colab": {
          "base_uri": "https://localhost:8080/"
        },
        "id": "FBGoun8GNssn",
        "outputId": "937eb04f-a669-4c4e-c722-386907a43305"
      },
      "outputs": [
        {
          "output_type": "execute_result",
          "data": {
            "text/plain": [
              "['Tesla', 'Rivian', 'Lordstown Motors', 'Lucid']"
            ]
          },
          "metadata": {},
          "execution_count": 226
        }
      ],
      "source": [
        "cars"
      ]
    },
    {
      "cell_type": "code",
      "execution_count": 227,
      "metadata": {
        "colab": {
          "base_uri": "https://localhost:8080/"
        },
        "id": "ME_k6gFnNssn",
        "outputId": "ba721f76-5cfb-438c-cbd2-d1b44ea422f2"
      },
      "outputs": [
        {
          "output_type": "execute_result",
          "data": {
            "text/plain": [
              "3"
            ]
          },
          "metadata": {},
          "execution_count": 227
        }
      ],
      "source": [
        "cars.index('Lucid')"
      ]
    },
    {
      "cell_type": "code",
      "execution_count": 230,
      "metadata": {
        "colab": {
          "base_uri": "https://localhost:8080/"
        },
        "id": "_s3gyO8HNsso",
        "outputId": "81b1e837-cb0d-461e-b6ff-4cea4c5c1481"
      },
      "outputs": [
        {
          "output_type": "execute_result",
          "data": {
            "text/plain": [
              "True"
            ]
          },
          "metadata": {},
          "execution_count": 230
        }
      ],
      "source": [
        "'Rivian' in cars"
      ]
    },
    {
      "cell_type": "code",
      "execution_count": 229,
      "metadata": {
        "colab": {
          "base_uri": "https://localhost:8080/"
        },
        "id": "Z6TWqAd8Nsso",
        "outputId": "843a62e6-11ca-473d-97ee-6415df6556e5"
      },
      "outputs": [
        {
          "output_type": "execute_result",
          "data": {
            "text/plain": [
              "False"
            ]
          },
          "metadata": {},
          "execution_count": 229
        }
      ],
      "source": [
        "'Lordstown' in cars"
      ]
    },
    {
      "cell_type": "code",
      "execution_count": 231,
      "metadata": {
        "id": "4-KkN7KHNsso"
      },
      "outputs": [],
      "source": [
        "for count in range(10): # do something 10 times\n",
        "    cars.append('Byton')"
      ]
    },
    {
      "cell_type": "code",
      "execution_count": 232,
      "metadata": {
        "colab": {
          "base_uri": "https://localhost:8080/"
        },
        "id": "cilw16sWNsso",
        "outputId": "fa90a51c-6057-40e3-e92f-9cec11f22873"
      },
      "outputs": [
        {
          "output_type": "execute_result",
          "data": {
            "text/plain": [
              "['Tesla',\n",
              " 'Rivian',\n",
              " 'Lordstown Motors',\n",
              " 'Lucid',\n",
              " 'Byton',\n",
              " 'Byton',\n",
              " 'Byton',\n",
              " 'Byton',\n",
              " 'Byton',\n",
              " 'Byton',\n",
              " 'Byton',\n",
              " 'Byton',\n",
              " 'Byton',\n",
              " 'Byton']"
            ]
          },
          "metadata": {},
          "execution_count": 232
        }
      ],
      "source": [
        "cars"
      ]
    },
    {
      "cell_type": "code",
      "execution_count": 233,
      "metadata": {
        "colab": {
          "base_uri": "https://localhost:8080/"
        },
        "id": "GEI7N9CjNsso",
        "outputId": "171cd4ef-ac73-435d-812d-01db7121dbc9"
      },
      "outputs": [
        {
          "output_type": "execute_result",
          "data": {
            "text/plain": [
              "10"
            ]
          },
          "metadata": {},
          "execution_count": 233
        }
      ],
      "source": [
        "cars.count('Byton')"
      ]
    },
    {
      "cell_type": "code",
      "execution_count": 234,
      "metadata": {
        "colab": {
          "base_uri": "https://localhost:8080/"
        },
        "id": "nBtUBKbkNsso",
        "outputId": "7c950bea-72b8-4025-8be2-5e5e086f6ab1"
      },
      "outputs": [
        {
          "output_type": "execute_result",
          "data": {
            "text/plain": [
              "['Tesla', 'Rivian', 'Lordstown Motors', 'Lucid']"
            ]
          },
          "metadata": {},
          "execution_count": 234
        }
      ],
      "source": [
        "while 'Byton' in cars:\n",
        "    cars.remove('Byton') # each call only removes one\n",
        "cars"
      ]
    },
    {
      "cell_type": "code",
      "execution_count": 235,
      "metadata": {
        "colab": {
          "base_uri": "https://localhost:8080/"
        },
        "id": "dogeWVn6Nssp",
        "outputId": "d7fe83d3-d4e3-40c8-bbfd-fbf9cad05885"
      },
      "outputs": [
        {
          "output_type": "execute_result",
          "data": {
            "text/plain": [
              "['Tesla', 'Rivian', 'Lordstown Motors', 'Lucid']"
            ]
          },
          "metadata": {},
          "execution_count": 235
        }
      ],
      "source": [
        "for times in range(cars.count('Byton')):\n",
        "    cars.remove('Byton')\n",
        "cars"
      ]
    },
    {
      "cell_type": "markdown",
      "metadata": {
        "id": "7unI5N5nNssp"
      },
      "source": [
        "<img src=\"https://github.com/gregworks/python-for-data-science/blob/main/images/border.jpg?raw=1\" height=\"10\" width=\"1500\" align=\"center\"/>"
      ]
    },
    {
      "cell_type": "markdown",
      "metadata": {
        "id": "OeKyRpQDNssp"
      },
      "source": [
        "## __`join()/split()`__–redux"
      ]
    },
    {
      "cell_type": "code",
      "execution_count": 236,
      "metadata": {
        "colab": {
          "base_uri": "https://localhost:8080/"
        },
        "id": "N00Z05qONssp",
        "outputId": "93ff5138-a8f5-494f-e28c-3900c6f21978"
      },
      "outputs": [
        {
          "output_type": "execute_result",
          "data": {
            "text/plain": [
              "['Tesla', 'Rivian', 'Lordstown Motors', 'Lucid']"
            ]
          },
          "metadata": {},
          "execution_count": 236
        }
      ],
      "source": [
        "cars"
      ]
    },
    {
      "cell_type": "code",
      "execution_count": 237,
      "metadata": {
        "colab": {
          "base_uri": "https://localhost:8080/",
          "height": 36
        },
        "id": "QbIOqWU0Nssp",
        "outputId": "786d6a29-1a05-407e-9edf-d795344c676c"
      },
      "outputs": [
        {
          "output_type": "execute_result",
          "data": {
            "text/plain": [
              "'Tesla, Rivian, Lordstown Motors, Lucid'"
            ],
            "application/vnd.google.colaboratory.intrinsic+json": {
              "type": "string"
            }
          },
          "metadata": {},
          "execution_count": 237
        }
      ],
      "source": [
        "joined = ', '.join(cars)\n",
        "joined # string which represents the \"joined\" items in the list"
      ]
    },
    {
      "cell_type": "code",
      "execution_count": 238,
      "metadata": {
        "colab": {
          "base_uri": "https://localhost:8080/"
        },
        "id": "ZG1VTfGgNssp",
        "outputId": "b5db346e-5967-404b-a000-06088bbf4a5c"
      },
      "outputs": [
        {
          "output_type": "execute_result",
          "data": {
            "text/plain": [
              "['Tesla', 'Rivian', 'Lordstown Motors', 'Lucid']"
            ]
          },
          "metadata": {},
          "execution_count": 238
        }
      ],
      "source": [
        "unjoined = joined.split(', ')\n",
        "unjoined # split into a new list"
      ]
    },
    {
      "cell_type": "code",
      "execution_count": 239,
      "metadata": {
        "colab": {
          "base_uri": "https://localhost:8080/"
        },
        "id": "ZNaQetCKNssq",
        "outputId": "924fdf7f-6382-4f0d-e699-1dd2c2c7cf40"
      },
      "outputs": [
        {
          "output_type": "execute_result",
          "data": {
            "text/plain": [
              "True"
            ]
          },
          "metadata": {},
          "execution_count": 239
        }
      ],
      "source": [
        "cars == unjoined # are they the same? (They should be...)"
      ]
    },
    {
      "cell_type": "markdown",
      "metadata": {
        "id": "NXso4bFlNssq"
      },
      "source": [
        "<img src=\"https://github.com/gregworks/python-for-data-science/blob/main/images/border.jpg?raw=1\" height=\"10\" width=\"1500\" align=\"center\"/>"
      ]
    },
    {
      "cell_type": "markdown",
      "metadata": {
        "id": "eN21o_dXNssq"
      },
      "source": [
        "## Sorting Lists\n",
        "* __`sort()`__: _method_ to sort a list in place\n",
        "* __`sorted()`__: _built-in function_ which returns a sorted list created\n",
        "from an iterable/sequence\n",
        "* __`len()`__: returns length of a list"
      ]
    },
    {
      "cell_type": "code",
      "source": [
        "help(id)"
      ],
      "metadata": {
        "colab": {
          "base_uri": "https://localhost:8080/"
        },
        "id": "f7igHmrTyHAn",
        "outputId": "14b17e31-8152-427b-907f-985f2f323bcc"
      },
      "execution_count": 241,
      "outputs": [
        {
          "output_type": "stream",
          "name": "stdout",
          "text": [
            "Help on built-in function id in module builtins:\n",
            "\n",
            "id(obj, /)\n",
            "    Return the identity of an object.\n",
            "    \n",
            "    This is guaranteed to be unique among simultaneously existing objects.\n",
            "    (CPython uses the object's memory address.)\n",
            "\n"
          ]
        }
      ]
    },
    {
      "cell_type": "code",
      "execution_count": 240,
      "metadata": {
        "colab": {
          "base_uri": "https://localhost:8080/"
        },
        "id": "DubT8GGFNssq",
        "outputId": "6d6c1e6a-24c2-4d13-94a2-299113fcd38b"
      },
      "outputs": [
        {
          "output_type": "stream",
          "name": "stdout",
          "text": [
            "['Tesla', 'Rivian', 'Lordstown Motors', 'Lucid'] 136661547825408\n"
          ]
        }
      ],
      "source": [
        "print(cars, id(cars))"
      ]
    },
    {
      "cell_type": "code",
      "execution_count": 242,
      "metadata": {
        "colab": {
          "base_uri": "https://localhost:8080/"
        },
        "id": "Ijq7QiuJNssq",
        "outputId": "dde7ea7e-76dc-4e16-bfd7-b7511565ef3d"
      },
      "outputs": [
        {
          "output_type": "stream",
          "name": "stdout",
          "text": [
            "['Lordstown Motors', 'Lucid', 'Rivian', 'Tesla'] 136661547825408\n"
          ]
        }
      ],
      "source": [
        "cars.sort() # mutator method which sorts the list\n",
        "print(cars, id(cars))"
      ]
    },
    {
      "cell_type": "code",
      "execution_count": 243,
      "metadata": {
        "colab": {
          "base_uri": "https://localhost:8080/"
        },
        "id": "Dk7GT8x5Nssr",
        "outputId": "9af90fe6-f7bf-4a77-91d5-8360a19fb8e9"
      },
      "outputs": [
        {
          "output_type": "stream",
          "name": "stdout",
          "text": [
            "['Tesla', 'Rivian', 'Lucid', 'Lordstown Motors'] 136661547825408\n"
          ]
        }
      ],
      "source": [
        "cars.sort(reverse=True)\n",
        "print(cars, id(cars))"
      ]
    },
    {
      "cell_type": "code",
      "execution_count": 244,
      "metadata": {
        "colab": {
          "base_uri": "https://localhost:8080/"
        },
        "id": "ZR94q9zaNssr",
        "outputId": "14e1db52-544d-4133-a296-899c7a0e08a9"
      },
      "outputs": [
        {
          "output_type": "stream",
          "name": "stdout",
          "text": [
            "['Lordstown Motors', 'Lucid', 'Rivian', 'Tesla'] 136661546320960 136661547825408\n"
          ]
        }
      ],
      "source": [
        "# built-in function which can't mutate the list\n",
        "sorted_list = sorted(cars)\n",
        "print(sorted_list, id(sorted_list), id(cars))"
      ]
    },
    {
      "cell_type": "markdown",
      "metadata": {
        "id": "2xHxH02VNssr"
      },
      "source": [
        "<img src=\"https://github.com/gregworks/python-for-data-science/blob/main/images/border.jpg?raw=1\" height=\"10\" width=\"1500\" align=\"center\"/>"
      ]
    },
    {
      "cell_type": "markdown",
      "metadata": {
        "id": "NqPP01mzNssr"
      },
      "source": [
        "# List assignment does not copy the values!\n",
        "* use __`copy()`__, __`list()`__, or __`[:]`__ to copy the values\n",
        "* we'll use __`pythontutor.com`__ to understand the difference"
      ]
    },
    {
      "cell_type": "code",
      "execution_count": 247,
      "metadata": {
        "colab": {
          "base_uri": "https://localhost:8080/"
        },
        "id": "6a_TuoLuNssr",
        "outputId": "3678f281-3467-4f1d-f11b-a41bd31d11f4"
      },
      "outputs": [
        {
          "output_type": "execute_result",
          "data": {
            "text/plain": [
              "['Tesla', 'Fisker', 'Rivian', 'Lordstown']"
            ]
          },
          "metadata": {},
          "execution_count": 247
        }
      ],
      "source": [
        "cars"
      ]
    },
    {
      "cell_type": "code",
      "execution_count": 248,
      "metadata": {
        "colab": {
          "base_uri": "https://localhost:8080/"
        },
        "id": "XKerqfieNssr",
        "outputId": "4402d79e-e170-4365-fa50-f0e0200c523b"
      },
      "outputs": [
        {
          "output_type": "execute_result",
          "data": {
            "text/plain": [
              "['Tesla', 'Fisker', 'Lordstown Motors', 'Lordstown']"
            ]
          },
          "metadata": {},
          "execution_count": 248
        }
      ],
      "source": [
        "c = cars\n",
        "c[2] = 'Lordstown Motors'\n",
        "cars"
      ]
    },
    {
      "cell_type": "code",
      "execution_count": 249,
      "metadata": {
        "colab": {
          "base_uri": "https://localhost:8080/"
        },
        "id": "WaxHnPSkNsss",
        "outputId": "30f1cefd-05fc-4914-ea1d-1da2a4ef8176"
      },
      "outputs": [
        {
          "output_type": "execute_result",
          "data": {
            "text/plain": [
              "['Tesla', 'Fisker', 'Lordstown Motors', 'Lordstown']"
            ]
          },
          "metadata": {},
          "execution_count": 249
        }
      ],
      "source": [
        "c = cars.copy()\n",
        "c[2] = 'Lordstown'\n",
        "cars"
      ]
    },
    {
      "cell_type": "code",
      "execution_count": 250,
      "metadata": {
        "colab": {
          "base_uri": "https://localhost:8080/"
        },
        "id": "-XivwsSONsss",
        "outputId": "2f3a89e7-b4b2-486f-fea3-bf8fe382be0e"
      },
      "outputs": [
        {
          "output_type": "execute_result",
          "data": {
            "text/plain": [
              "['Tesla', 'Fisker', 'Lordstown', 'Lordstown']"
            ]
          },
          "metadata": {},
          "execution_count": 250
        }
      ],
      "source": [
        "c"
      ]
    },
    {
      "cell_type": "code",
      "execution_count": 251,
      "metadata": {
        "colab": {
          "base_uri": "https://localhost:8080/"
        },
        "id": "vlqy_JzVNsss",
        "outputId": "b8df7dcc-b0d9-458d-d1ca-d8c8a38e6623"
      },
      "outputs": [
        {
          "output_type": "execute_result",
          "data": {
            "text/plain": [
              "['Tesla', 'Fisker', 'Lordstown Motors', 'Lordstown']"
            ]
          },
          "metadata": {},
          "execution_count": 251
        }
      ],
      "source": [
        "c = list(cars)\n",
        "c"
      ]
    },
    {
      "cell_type": "code",
      "execution_count": 252,
      "metadata": {
        "colab": {
          "base_uri": "https://localhost:8080/"
        },
        "id": "_jhMlxKKNsss",
        "outputId": "d7bcd702-7fd5-4a66-c28b-8d09a93ca197"
      },
      "outputs": [
        {
          "output_type": "execute_result",
          "data": {
            "text/plain": [
              "['Tesla', 'Fisker', 'Lordstown Motors', 'Lordstown']"
            ]
          },
          "metadata": {},
          "execution_count": 252
        }
      ],
      "source": [
        "c = cars[:]\n",
        "c"
      ]
    },
    {
      "cell_type": "markdown",
      "metadata": {
        "id": "JdoxyscMNsss"
      },
      "source": [
        "<img src=\"https://github.com/gregworks/python-for-data-science/blob/main/images/border.jpg?raw=1\" height=\"10\" width=\"1500\" align=\"center\"/>"
      ]
    },
    {
      "cell_type": "markdown",
      "metadata": {
        "id": "zfp92O7KNsss"
      },
      "source": [
        "## Quick Lab: Lists\n",
        "* Write a Python program to read in a list of items possibly containing duplicates, and then constructs a new list which contains the elements from the original list, with the order preserved, but the duplicates removed\n",
        "![alt-text](images/list2.png \"list2\")"
      ]
    },
    {
      "cell_type": "code",
      "source": [
        "items = input(\"Enter items separated by spaces: \").split()"
      ],
      "metadata": {
        "colab": {
          "base_uri": "https://localhost:8080/"
        },
        "id": "23jAitUN0HQT",
        "outputId": "0ab2c1bb-0091-4980-f954-f7796753316a"
      },
      "execution_count": 253,
      "outputs": [
        {
          "name": "stdout",
          "output_type": "stream",
          "text": [
            "Enter items separated by spaces: cherry apple banana lemon apple apple cherry\n"
          ]
        }
      ]
    },
    {
      "cell_type": "code",
      "source": [
        "list(set(items))"
      ],
      "metadata": {
        "colab": {
          "base_uri": "https://localhost:8080/"
        },
        "id": "snoXvWY047o2",
        "outputId": "c7982a3a-2bce-490c-9c8e-73eb98f5f6d7"
      },
      "execution_count": 254,
      "outputs": [
        {
          "output_type": "execute_result",
          "data": {
            "text/plain": [
              "['apple', 'banana', 'lemon', 'cherry']"
            ]
          },
          "metadata": {},
          "execution_count": 254
        }
      ]
    },
    {
      "cell_type": "code",
      "source": [
        "items = input(\"Enter items separated by spaces: \").split()\n",
        "\n",
        "# Create an empty set to track unique elements\n",
        "seen = set()\n",
        "# Initialize an empty list to store unique elements in order\n",
        "unique_items = []\n",
        "\n",
        "# Iterate through the list of items\n",
        "for item in items:\n",
        "    # Check if the item has not been seen before (not in the set)\n",
        "    if item not in seen:\n",
        "        # Add the item to the set of seen elements\n",
        "        seen.add(item)\n",
        "        # Append the item to the unique_items list (to preserve order)\n",
        "        unique_items.append(item)\n",
        "\n",
        "# Print the resulting unique list\n",
        "print(\"List with duplicates removed (order preserved):\", unique_items)"
      ],
      "metadata": {
        "colab": {
          "base_uri": "https://localhost:8080/"
        },
        "id": "uT07AE3-5Jn9",
        "outputId": "e3cc5dc1-ad86-4a60-8a4c-30d028f14d07"
      },
      "execution_count": 255,
      "outputs": [
        {
          "output_type": "stream",
          "name": "stdout",
          "text": [
            "Enter items separated by spaces: cherry apple banana lemon apple apple cherry\n",
            "List with duplicates removed (order preserved): ['cherry', 'apple', 'banana', 'lemon']\n"
          ]
        }
      ]
    },
    {
      "cell_type": "code",
      "source": [
        "mylist = [1,2,3,3,4,5,6,6,8]\n",
        "\n",
        "newlist = []\n",
        "for item in mylist:\n",
        "  print(item)\n",
        "  if item not in newlist:\n",
        "    newlist.append(item)\n",
        "print(newlist)"
      ],
      "metadata": {
        "id": "NGIjRMYC5Qym"
      },
      "execution_count": null,
      "outputs": []
    },
    {
      "cell_type": "markdown",
      "metadata": {
        "id": "AkzkujaYNsss"
      },
      "source": [
        "## Lab: Lists\n",
        "* Write a Python program to maintain a list\n",
        "  * Read input until the user enters 'quit'\n",
        "  * Words that the user enters should be added to the list\n",
        "  * If a word begins with '-' (e.g., '-foo') it should be removed from the list\n",
        "  * If the user enters only a '-', the list should be reversed\n",
        "  * After each operation, print the list\n",
        "  * Extras:\n",
        "      * If user enters more than one word (e.g, __foo bar__), add \"foo\" and \"bar\" to the list, rather than \"foo bar\"\n",
        "      * Same for \"-\", i.e., __-foo bar__ would remove \"foo\" and \"bar\" from the  list"
      ]
    },
    {
      "cell_type": "code",
      "source": [
        "# do this on your own or at the end of class"
      ],
      "metadata": {
        "id": "DmV1JGEU6HFw"
      },
      "execution_count": null,
      "outputs": []
    },
    {
      "cell_type": "markdown",
      "metadata": {
        "id": "uXjgs0_1Nsst"
      },
      "source": [
        "<img src=\"https://github.com/gregworks/python-for-data-science/blob/main/images/border.jpg?raw=1\" height=\"10\" width=\"1500\" align=\"center\"/>"
      ]
    },
    {
      "cell_type": "markdown",
      "metadata": {
        "id": "7tNOkMn9Nsst"
      },
      "source": [
        "# Dictionaries\n"
      ]
    },
    {
      "cell_type": "markdown",
      "metadata": {
        "id": "0bKT6d0pNsst"
      },
      "source": [
        "\n",
        "# Dictionaries\n",
        "* \"unordered\" grouping of key/value pairs\n",
        "* sometimes called a \"map\", \"hashmap\", or \"associative array\""
      ]
    },
    {
      "cell_type": "code",
      "execution_count": 256,
      "metadata": {
        "id": "-GwRjzJnNsst"
      },
      "outputs": [],
      "source": [
        "d = {} # empty dict"
      ]
    },
    {
      "cell_type": "code",
      "execution_count": 257,
      "metadata": {
        "id": "LS_i4J-YNsst"
      },
      "outputs": [],
      "source": [
        "d = { 'X': 10, 'V': 5, 'I': 1 } # can be initialized when declared"
      ]
    },
    {
      "cell_type": "code",
      "execution_count": 258,
      "metadata": {
        "tags": [],
        "colab": {
          "base_uri": "https://localhost:8080/"
        },
        "id": "89hkopDmNsst",
        "outputId": "0476d530-11c7-435c-caab-3c7725fef5b4"
      },
      "outputs": [
        {
          "output_type": "execute_result",
          "data": {
            "text/plain": [
              "{'X': 10, 'V': 5, 'I': 1}"
            ]
          },
          "metadata": {},
          "execution_count": 258
        }
      ],
      "source": [
        "d"
      ]
    },
    {
      "cell_type": "code",
      "execution_count": 259,
      "metadata": {
        "tags": [],
        "colab": {
          "base_uri": "https://localhost:8080/"
        },
        "id": "yQkRlumXNssu",
        "outputId": "c43b673c-658b-44c4-b4bc-70daee26b411"
      },
      "outputs": [
        {
          "output_type": "stream",
          "name": "stdout",
          "text": [
            "{'X': 10, 'V': 5, 'I': 1, 'L': 50}\n"
          ]
        }
      ],
      "source": [
        "d['L'] = 50 # add something to the dict\n",
        "print(d)"
      ]
    },
    {
      "cell_type": "code",
      "execution_count": 260,
      "metadata": {
        "tags": [],
        "colab": {
          "base_uri": "https://localhost:8080/"
        },
        "id": "SwC7qwnrNssu",
        "outputId": "2148be20-9be3-4bd7-b5d7-0ec696c9dc81"
      },
      "outputs": [
        {
          "output_type": "stream",
          "name": "stdout",
          "text": [
            "X V I L "
          ]
        }
      ],
      "source": [
        "# iterating through a dict iterates through the keys\n",
        "for key in d: # for thing in container\n",
        "    print(key, end=' ')"
      ]
    },
    {
      "cell_type": "code",
      "execution_count": 261,
      "metadata": {
        "tags": [],
        "colab": {
          "base_uri": "https://localhost:8080/"
        },
        "id": "VqPNCpfQNssu",
        "outputId": "ca8e3a85-8667-4715-9177-1ddf78e25135"
      },
      "outputs": [
        {
          "output_type": "stream",
          "name": "stdout",
          "text": [
            "X 10\n",
            "V 5\n",
            "I 1\n",
            "L 50\n"
          ]
        }
      ],
      "source": [
        "# ...of course we can print the values while iterating\n",
        "for thing in d:\n",
        "    print(thing, d[thing])"
      ]
    },
    {
      "cell_type": "code",
      "execution_count": 262,
      "metadata": {
        "tags": [],
        "colab": {
          "base_uri": "https://localhost:8080/"
        },
        "id": "LGK6NunTNssu",
        "outputId": "986a41fc-051b-4210-de85-7f688306f6e1"
      },
      "outputs": [
        {
          "output_type": "stream",
          "name": "stdout",
          "text": [
            "{'venti': 20, 'tall': 12, 'grande': 16}\n"
          ]
        }
      ],
      "source": [
        "sbux_dict = {'venti': 20, 'tall': 12, 'grande': 16}\n",
        "print(sbux_dict)"
      ]
    },
    {
      "cell_type": "code",
      "execution_count": 263,
      "metadata": {
        "scrolled": true,
        "tags": [],
        "colab": {
          "base_uri": "https://localhost:8080/"
        },
        "id": "sE4niK8vNssu",
        "outputId": "935182f3-b716-42ac-b770-025ced2e1f1f"
      },
      "outputs": [
        {
          "output_type": "stream",
          "name": "stdout",
          "text": [
            "dict_keys(['venti', 'tall', 'grande'])\n",
            "dict_values([20, 12, 16])\n",
            "dict_items([('venti', 20), ('tall', 12), ('grande', 16)])\n"
          ]
        }
      ],
      "source": [
        "print(sbux_dict.keys(), sbux_dict.values(),\n",
        "      sbux_dict.items(), sep='\\n')"
      ]
    },
    {
      "cell_type": "code",
      "execution_count": 264,
      "metadata": {
        "colab": {
          "base_uri": "https://localhost:8080/"
        },
        "id": "DA0UhwtfNssu",
        "outputId": "f123ea3a-bb54-49b9-b1d0-d5b318aa5a54"
      },
      "outputs": [
        {
          "output_type": "execute_result",
          "data": {
            "text/plain": [
              "48"
            ]
          },
          "metadata": {},
          "execution_count": 264
        }
      ],
      "source": [
        "total_ounces = 0\n",
        "for amount in sbux_dict.values():\n",
        "    total_ounces += amount\n",
        "\n",
        "total_ounces"
      ]
    },
    {
      "cell_type": "code",
      "execution_count": 265,
      "metadata": {
        "colab": {
          "base_uri": "https://localhost:8080/"
        },
        "id": "qNpGhfZoNssv",
        "outputId": "fce018c9-a787-433a-8604-69dd9856b1c6"
      },
      "outputs": [
        {
          "output_type": "execute_result",
          "data": {
            "text/plain": [
              "48"
            ]
          },
          "metadata": {},
          "execution_count": 265
        }
      ],
      "source": [
        "sum(sbux_dict.values())"
      ]
    },
    {
      "cell_type": "markdown",
      "metadata": {
        "id": "xF_a6xPjNssv"
      },
      "source": [
        "<img src=\"https://github.com/gregworks/python-for-data-science/blob/main/images/border.jpg?raw=1\" height=\"10\" width=\"1500\" align=\"center\"/>"
      ]
    },
    {
      "cell_type": "markdown",
      "metadata": {
        "id": "OPUlkbd4Nssv"
      },
      "source": [
        "## Dictionaries: View Objects\n",
        "* __`keys()`__, __`values()`__, and __`items()`__ are view objects\n",
        "* view objects provide a dynamic window into the dictionary"
      ]
    },
    {
      "cell_type": "code",
      "execution_count": 274,
      "metadata": {
        "colab": {
          "base_uri": "https://localhost:8080/"
        },
        "id": "r7E6FSF8Nssv",
        "outputId": "f844c9ea-d364-478d-a377-72be16bb05cc"
      },
      "outputs": [
        {
          "output_type": "execute_result",
          "data": {
            "text/plain": [
              "dict_keys(['venti', 'tall', 'grande'])"
            ]
          },
          "metadata": {},
          "execution_count": 274
        }
      ],
      "source": [
        "keys = sbux_dict.keys()\n",
        "keys"
      ]
    },
    {
      "cell_type": "code",
      "execution_count": 275,
      "metadata": {
        "colab": {
          "base_uri": "https://localhost:8080/"
        },
        "id": "_9J02kWbNssv",
        "outputId": "d7061ca5-2f13-4d7a-c425-8d871c6439f9"
      },
      "outputs": [
        {
          "output_type": "stream",
          "name": "stdout",
          "text": [
            "dict_keys(['venti', 'tall', 'grande'])\n",
            "dict_keys(['venti', 'tall', 'grande', 'trenta'])\n"
          ]
        }
      ],
      "source": [
        "# keys will change automagically after we add to the dict\n",
        "print(keys)\n",
        "sbux_dict['trenta'] = 31\n",
        "print(keys)"
      ]
    },
    {
      "cell_type": "code",
      "execution_count": 276,
      "metadata": {
        "colab": {
          "base_uri": "https://localhost:8080/"
        },
        "id": "pi6Vc_jvNssv",
        "outputId": "a167cbf2-b675-45ea-8f0d-552315ab3cd4"
      },
      "outputs": [
        {
          "output_type": "execute_result",
          "data": {
            "text/plain": [
              "dict_keys(['venti', 'tall', 'grande', 'trenta'])"
            ]
          },
          "metadata": {},
          "execution_count": 276
        }
      ],
      "source": [
        "keys"
      ]
    },
    {
      "cell_type": "markdown",
      "metadata": {
        "id": "0YawHG0yNssw"
      },
      "source": [
        "# __`get()`__: Dealing with missing dict values"
      ]
    },
    {
      "cell_type": "code",
      "execution_count": 277,
      "metadata": {
        "id": "B3QXQTpcNssw"
      },
      "outputs": [],
      "source": [
        "d = {'foo': 'bar'}"
      ]
    },
    {
      "cell_type": "code",
      "execution_count": 278,
      "metadata": {
        "colab": {
          "base_uri": "https://localhost:8080/",
          "height": 36
        },
        "id": "s1pWAsjoNssw",
        "outputId": "e188d23b-3492-4ea4-b934-7b0ca7df0915"
      },
      "outputs": [
        {
          "output_type": "execute_result",
          "data": {
            "text/plain": [
              "'bar'"
            ],
            "application/vnd.google.colaboratory.intrinsic+json": {
              "type": "string"
            }
          },
          "metadata": {},
          "execution_count": 278
        }
      ],
      "source": [
        "d['foo']"
      ]
    },
    {
      "cell_type": "code",
      "source": [
        "adfbadsf"
      ],
      "metadata": {
        "colab": {
          "base_uri": "https://localhost:8080/",
          "height": 141
        },
        "id": "HsjqUhQ_72rl",
        "outputId": "f2d6ea3e-90e0-44cd-da5e-0c0245fd2156"
      },
      "execution_count": 280,
      "outputs": [
        {
          "output_type": "error",
          "ename": "NameError",
          "evalue": "name 'adfbadsf' is not defined",
          "traceback": [
            "\u001b[0;31m---------------------------------------------------------------------------\u001b[0m",
            "\u001b[0;31mNameError\u001b[0m                                 Traceback (most recent call last)",
            "\u001b[0;32m<ipython-input-280-33fbdf464ea0>\u001b[0m in \u001b[0;36m<cell line: 1>\u001b[0;34m()\u001b[0m\n\u001b[0;32m----> 1\u001b[0;31m \u001b[0madfbadsf\u001b[0m\u001b[0;34m\u001b[0m\u001b[0;34m\u001b[0m\u001b[0m\n\u001b[0m",
            "\u001b[0;31mNameError\u001b[0m: name 'adfbadsf' is not defined"
          ]
        }
      ]
    },
    {
      "cell_type": "code",
      "execution_count": 279,
      "metadata": {
        "colab": {
          "base_uri": "https://localhost:8080/",
          "height": 141
        },
        "id": "eOABK84QNssw",
        "outputId": "21e5793a-8644-473a-9ebe-7d00e19fb76f"
      },
      "outputs": [
        {
          "output_type": "error",
          "ename": "KeyError",
          "evalue": "'foot'",
          "traceback": [
            "\u001b[0;31m---------------------------------------------------------------------------\u001b[0m",
            "\u001b[0;31mKeyError\u001b[0m                                  Traceback (most recent call last)",
            "\u001b[0;32m<ipython-input-279-04add641cd15>\u001b[0m in \u001b[0;36m<cell line: 1>\u001b[0;34m()\u001b[0m\n\u001b[0;32m----> 1\u001b[0;31m \u001b[0md\u001b[0m\u001b[0;34m[\u001b[0m\u001b[0;34m'foot'\u001b[0m\u001b[0;34m]\u001b[0m\u001b[0;34m\u001b[0m\u001b[0;34m\u001b[0m\u001b[0m\n\u001b[0m",
            "\u001b[0;31mKeyError\u001b[0m: 'foot'"
          ]
        }
      ],
      "source": [
        "d['foot']"
      ]
    },
    {
      "cell_type": "code",
      "execution_count": 281,
      "metadata": {
        "id": "gETg6GZhNssw"
      },
      "outputs": [],
      "source": [
        "if 'foot' in d: # is 'foot' a key in this dict\n",
        "    print(d['foot'])\n",
        "# or just... d.get('foot')"
      ]
    },
    {
      "cell_type": "code",
      "execution_count": 283,
      "metadata": {
        "colab": {
          "base_uri": "https://localhost:8080/"
        },
        "id": "EgZFPXoINssw",
        "outputId": "f1aa5f86-1bdf-480a-de2b-a5631a7fc756"
      },
      "outputs": [
        {
          "output_type": "stream",
          "name": "stdout",
          "text": [
            "bar\n"
          ]
        }
      ],
      "source": [
        "print(d.get('foo'))"
      ]
    },
    {
      "cell_type": "code",
      "execution_count": 284,
      "metadata": {
        "colab": {
          "base_uri": "https://localhost:8080/"
        },
        "id": "TaugZWmYNssx",
        "outputId": "fd8e5c79-2736-47bd-e1a3-34296d05532c"
      },
      "outputs": [
        {
          "output_type": "stream",
          "name": "stdout",
          "text": [
            "grande 16\n",
            "tall 12\n",
            "trenta 31\n",
            "venti 20\n"
          ]
        }
      ],
      "source": [
        "# what if we sort a dict?\n",
        "for key in sorted(sbux_dict):\n",
        "    print(key, sbux_dict[key])"
      ]
    },
    {
      "cell_type": "code",
      "source": [
        "help(sorted)"
      ],
      "metadata": {
        "colab": {
          "base_uri": "https://localhost:8080/"
        },
        "id": "RuN0KYvt8cLp",
        "outputId": "36e14054-31ba-4235-f6ae-806e9c430f14"
      },
      "execution_count": 286,
      "outputs": [
        {
          "output_type": "stream",
          "name": "stdout",
          "text": [
            "Help on built-in function sorted in module builtins:\n",
            "\n",
            "sorted(iterable, /, *, key=None, reverse=False)\n",
            "    Return a new list containing all items from the iterable in ascending order.\n",
            "    \n",
            "    A custom key function can be supplied to customize the sort order, and the\n",
            "    reverse flag can be set to request the result in descending order.\n",
            "\n"
          ]
        }
      ]
    },
    {
      "cell_type": "code",
      "execution_count": 285,
      "metadata": {
        "colab": {
          "base_uri": "https://localhost:8080/"
        },
        "id": "cJ4riLsSNssx",
        "outputId": "192f8223-dc7d-4b94-cb19-cbc09130c1f1"
      },
      "outputs": [
        {
          "output_type": "stream",
          "name": "stdout",
          "text": [
            "tall => 12\n",
            "grande => 16\n",
            "venti => 20\n",
            "trenta => 31\n"
          ]
        }
      ],
      "source": [
        "# In order to iterate in order, we have to sort the\n",
        "# dict by value (as opposed to key)\n",
        "# By default, sorted() will sort by key--\n",
        "# usually not what we want!\n",
        "\n",
        "for k in sorted(sbux_dict, key=sbux_dict.get):\n",
        "    print(k, '=>', sbux_dict[k])"
      ]
    },
    {
      "cell_type": "markdown",
      "metadata": {
        "id": "h0gOKZhyNssx"
      },
      "source": [
        "<img src=\"https://github.com/gregworks/python-for-data-science/blob/main/images/border.jpg?raw=1\" height=\"10\" width=\"1500\" align=\"center\"/>"
      ]
    },
    {
      "cell_type": "markdown",
      "metadata": {
        "id": "no5iNuXcNss0"
      },
      "source": [
        "## Removing items from a dict\n",
        "* __`del`__ = remove an item from the dict\n",
        "* __`dict.pop(key)`__ = remove item and return value\n",
        "* __`dict.clear()`__ = empty out the dict"
      ]
    },
    {
      "cell_type": "code",
      "execution_count": 287,
      "metadata": {
        "colab": {
          "base_uri": "https://localhost:8080/"
        },
        "id": "wBqb7-vDNss1",
        "outputId": "2436040a-6d38-4c18-d3e9-9db42f3324db"
      },
      "outputs": [
        {
          "output_type": "stream",
          "name": "stdout",
          "text": [
            "{'trenta': 31, 'grande': 16, 'venti': 20, 'tall': 12}\n"
          ]
        }
      ],
      "source": [
        "mydict = {'trenta': 31, 'grande': 16, 'venti': 20,\n",
        "          'tall': 12}\n",
        "print(mydict)"
      ]
    },
    {
      "cell_type": "code",
      "execution_count": 288,
      "metadata": {
        "colab": {
          "base_uri": "https://localhost:8080/"
        },
        "id": "XnuEODjONss1",
        "outputId": "0b034ea9-5163-4c84-deb4-3a5ded7da881"
      },
      "outputs": [
        {
          "output_type": "stream",
          "name": "stdout",
          "text": [
            "{'grande': 16, 'venti': 20, 'tall': 12}\n"
          ]
        }
      ],
      "source": [
        "del mydict['trenta']\n",
        "print(mydict)"
      ]
    },
    {
      "cell_type": "code",
      "execution_count": 289,
      "metadata": {
        "colab": {
          "base_uri": "https://localhost:8080/"
        },
        "id": "u_XaXfGCNss1",
        "outputId": "2184beed-c197-40a0-bc30-dd871f673714"
      },
      "outputs": [
        {
          "output_type": "stream",
          "name": "stdout",
          "text": [
            "20\n"
          ]
        }
      ],
      "source": [
        "print(mydict.pop('venti'))"
      ]
    },
    {
      "cell_type": "code",
      "execution_count": 290,
      "metadata": {
        "colab": {
          "base_uri": "https://localhost:8080/"
        },
        "id": "2YN6bi9YNss2",
        "outputId": "f31990df-21b8-41b6-e4a6-e68cb520443c"
      },
      "outputs": [
        {
          "output_type": "stream",
          "name": "stdout",
          "text": [
            "{'grande': 16, 'tall': 12}\n"
          ]
        }
      ],
      "source": [
        "print(mydict)"
      ]
    },
    {
      "cell_type": "code",
      "execution_count": 291,
      "metadata": {
        "colab": {
          "base_uri": "https://localhost:8080/"
        },
        "id": "nvOCCHrgNss2",
        "outputId": "f25dca81-6e05-4914-f938-f9572b93ee05"
      },
      "outputs": [
        {
          "output_type": "execute_result",
          "data": {
            "text/plain": [
              "{}"
            ]
          },
          "metadata": {},
          "execution_count": 291
        }
      ],
      "source": [
        "mydict.clear()\n",
        "mydict"
      ]
    },
    {
      "cell_type": "markdown",
      "metadata": {
        "id": "DVLpAlkeNss2"
      },
      "source": [
        "<img src=\"https://github.com/gregworks/python-for-data-science/blob/main/images/border.jpg?raw=1\" height=\"10\" width=\"1500\" align=\"center\"/>"
      ]
    },
    {
      "cell_type": "markdown",
      "metadata": {
        "id": "eKoQ97gnNss2"
      },
      "source": [
        "## Lab: dictionary\n",
        "* use a dict to translate Roman numerals into their Arabic equivalents\n",
        "1. load the dict with Roman numerals M (1000), D (500), C (100), L (50), X (10), V (5), I (1)\n",
        "2. read in a Roman numeral\n",
        "3. print Arabic equivalent\n",
        "4. try it with MCLX = 1000 + 100 + 50 + 10 = 1160\n",
        "4. __If you have time, deal with the case where a smaller number precedes a larger number, e.g., XC = 100 - 10 = 90, or MCM = 1000 + (1000-100) = 1900__\n",
        "4. __MCMXCIX = 1999__"
      ]
    },
    {
      "cell_type": "code",
      "source": [
        "d = {'M': 1000, 'D': 500, 'C': 100, 'L': 50, 'X': 10, 'V': 5, 'I': 1}"
      ],
      "metadata": {
        "id": "oMmsfuQx82_Q"
      },
      "execution_count": 292,
      "outputs": []
    },
    {
      "cell_type": "markdown",
      "metadata": {
        "id": "KMbWV_F8Nss3"
      },
      "source": [
        "<img src=\"https://github.com/gregworks/python-for-data-science/blob/main/images/border.jpg?raw=1\" height=\"10\" width=\"1500\" align=\"center\"/>"
      ]
    },
    {
      "cell_type": "markdown",
      "metadata": {
        "id": "5y7b_zqtNss3"
      },
      "source": [
        "## Dict Comprehension\n",
        "* like a listcomp, a dictcomp creates a dict quickly"
      ]
    },
    {
      "cell_type": "code",
      "execution_count": null,
      "metadata": {
        "id": "5IAaIPmcNstK"
      },
      "outputs": [],
      "source": [
        "names = ['Sally', 'Bob', 'Martha', 'Dirk']\n",
        "employee_ids = [345, 286, 453, 119]\n",
        "id_dict = { name: emp_id + 1000\n",
        "                   for name, emp_id in zip(names, employee_ids)}\n",
        "print(id_dict)"
      ]
    },
    {
      "cell_type": "code",
      "execution_count": null,
      "metadata": {
        "id": "NjfF9Y6LNstK"
      },
      "outputs": [],
      "source": [
        "d = { 'foo': 4, 'bar': -1, 'baz': -1, 'blah': 3, 'what': 2 }\n",
        "print(d)"
      ]
    },
    {
      "cell_type": "code",
      "execution_count": null,
      "metadata": {
        "id": "-74UgZRuNstL"
      },
      "outputs": [],
      "source": [
        "d.items()"
      ]
    },
    {
      "cell_type": "code",
      "execution_count": null,
      "metadata": {
        "id": "07evZdQCNstL"
      },
      "outputs": [],
      "source": [
        "d = { key: val for key, val in d.items()\n",
        "               if val != -1 }\n",
        "print(d)"
      ]
    },
    {
      "cell_type": "code",
      "execution_count": null,
      "metadata": {
        "id": "z4idGIUDNstL"
      },
      "outputs": [],
      "source": [
        "id_dict_inverse = { val : key for key, val in id_dict.items() }"
      ]
    },
    {
      "cell_type": "code",
      "execution_count": null,
      "metadata": {
        "id": "-XSdxEQZNstL"
      },
      "outputs": [],
      "source": [
        "id_dict_inverse"
      ]
    },
    {
      "cell_type": "markdown",
      "metadata": {
        "id": "2--x9QTdNstL"
      },
      "source": [
        "<img src=\"https://github.com/gregworks/python-for-data-science/blob/main/images/border.jpg?raw=1\" height=\"10\" width=\"1500\" align=\"center\"/>"
      ]
    },
    {
      "cell_type": "markdown",
      "metadata": {
        "id": "9kwiWygLNstL"
      },
      "source": [
        "## Now we understand this code!"
      ]
    },
    {
      "cell_type": "code",
      "execution_count": null,
      "metadata": {
        "id": "vneJVRInNstM"
      },
      "outputs": [],
      "source": [
        "s = \"\"\"Gur Mra bs Clguba, ol Gvz Crgref\n",
        "\n",
        "Ornhgvshy vf orggre guna htyl.\n",
        "Rkcyvpvg vf orggre guna vzcyvpvg.\n",
        "Fvzcyr vf orggre guna pbzcyrk.\n",
        "Pbzcyrk vf orggre guna pbzcyvpngrq.\n",
        "Syng vf orggre guna arfgrq.\n",
        "Fcnefr vf orggre guna qrafr.\"\"\"\n",
        "\n",
        "d = {}\n",
        "for c in (65, 97):\n",
        "    for i in range(26):\n",
        "        d[chr(i+c)] = chr((i+13) % 26 + c)\n",
        "\n",
        "print(\"\".join([d.get(c, c) for c in s]))"
      ]
    },
    {
      "cell_type": "markdown",
      "metadata": {
        "id": "X2q01qU0NstM"
      },
      "source": [
        "<img src=\"https://github.com/gregworks/python-for-data-science/blob/main/images/border.jpg?raw=1\" height=\"10\" width=\"1500\" align=\"center\"/>"
      ]
    },
    {
      "cell_type": "markdown",
      "metadata": {
        "id": "sV2QIsSmNstM"
      },
      "source": [
        "# Functions"
      ]
    },
    {
      "cell_type": "markdown",
      "metadata": {
        "id": "W1M7zoHwNstM"
      },
      "source": [
        "## Functions\n",
        "* __`def`__ introduces a function, followed by function name, parenthesized list of args and then a colon\n",
        "* body of function is indented"
      ]
    },
    {
      "cell_type": "code",
      "execution_count": null,
      "metadata": {
        "id": "E6FRV-DCNstM"
      },
      "outputs": [],
      "source": [
        "# a \"do nothing\" function\n",
        "def noop():\n",
        "    pass # Python statement that does nothing"
      ]
    },
    {
      "cell_type": "code",
      "execution_count": null,
      "metadata": {
        "id": "BU_nw5rdNstM"
      },
      "outputs": [],
      "source": [
        "noop()"
      ]
    },
    {
      "cell_type": "code",
      "execution_count": null,
      "metadata": {
        "id": "5QRfuAEGNstM"
      },
      "outputs": [],
      "source": [
        "noop(1, 3, 5)"
      ]
    },
    {
      "cell_type": "code",
      "execution_count": null,
      "metadata": {
        "id": "V0uAleQ1NstN"
      },
      "outputs": [],
      "source": [
        "def simpfunc(x):\n",
        "    if x == 1:\n",
        "        print('Hey, x is 1')\n",
        "    elif x < 10:\n",
        "        print('x is < 10 and not 1')\n",
        "    else:\n",
        "        print('x >= 10')"
      ]
    },
    {
      "cell_type": "code",
      "execution_count": null,
      "metadata": {
        "id": "g3cmqGEoNstN"
      },
      "outputs": [],
      "source": [
        "simpfunc(1)"
      ]
    },
    {
      "cell_type": "code",
      "execution_count": null,
      "metadata": {
        "id": "HAaBa_qvNstN"
      },
      "outputs": [],
      "source": [
        "simpfunc(5)"
      ]
    },
    {
      "cell_type": "code",
      "execution_count": null,
      "metadata": {
        "id": "eS81tWATNstN"
      },
      "outputs": [],
      "source": [
        "simpfunc(15)"
      ]
    },
    {
      "cell_type": "code",
      "execution_count": null,
      "metadata": {
        "id": "ePiquP4gNstN"
      },
      "outputs": [],
      "source": [
        "simpfunc(2.4)"
      ]
    },
    {
      "cell_type": "code",
      "execution_count": null,
      "metadata": {
        "id": "MEiTJsTXNstO"
      },
      "outputs": [],
      "source": [
        "def rounder25(amount):\n",
        "    \"\"\"Return amount rounded UP to nearest\n",
        "       quarter dollar.\n",
        "\n",
        "           ...$1.89 becomes $2.00\n",
        "           ...but $1.00/$1.25/$1.75/etc.\n",
        "           remain unchanged\n",
        "    \"\"\"\n",
        "    dollars = int(amount) # 1\n",
        "    cents = round((amount - dollars) * 100) # 89\n",
        "    quarters = cents // 25 # 3\n",
        "    if cents % 25: # 14\n",
        "        quarters += 1 # 4\n",
        "    amount = dollars + 0.25 * quarters # 2.00\n",
        "\n",
        "    return amount"
      ]
    },
    {
      "cell_type": "markdown",
      "metadata": {
        "id": "Nn8qeiZ3NstO"
      },
      "source": [
        "<img src=\"https://github.com/gregworks/python-for-data-science/blob/main/images/border.jpg?raw=1\" height=\"10\" width=\"1500\" align=\"center\"/>"
      ]
    },
    {
      "cell_type": "markdown",
      "metadata": {
        "id": "tyIbdhUwNstO"
      },
      "source": [
        "## Functions (cont'd)\n",
        "* __`help(func)`__ prints out formatted docstring\n",
        "* __`func`__ .\\__doc__ prints out raw docstring"
      ]
    },
    {
      "cell_type": "code",
      "execution_count": null,
      "metadata": {
        "id": "391cQv_3NstO"
      },
      "outputs": [],
      "source": [
        "help(rounder25)"
      ]
    },
    {
      "cell_type": "code",
      "execution_count": null,
      "metadata": {
        "id": "oZaOuosgNstO"
      },
      "outputs": [],
      "source": [
        "print(rounder25.__doc__)"
      ]
    },
    {
      "cell_type": "code",
      "execution_count": null,
      "metadata": {
        "id": "lfxpYI1mNstO"
      },
      "outputs": [],
      "source": [
        "rounder25(1.89)"
      ]
    },
    {
      "cell_type": "code",
      "execution_count": null,
      "metadata": {
        "id": "uu2_9BYTNstP"
      },
      "outputs": [],
      "source": [
        "rounder25(1.75)"
      ]
    },
    {
      "cell_type": "markdown",
      "metadata": {
        "id": "T1DcIgTiNstP"
      },
      "source": [
        "<img src=\"https://github.com/gregworks/python-for-data-science/blob/main/images/border.jpg?raw=1\" height=\"10\" width=\"1500\" align=\"center\"/>"
      ]
    },
    {
      "cell_type": "markdown",
      "metadata": {
        "id": "F-FRjBl3NstP"
      },
      "source": [
        "## Functions (cont'd)\n",
        "* if a function doesn’t call return explicitly, the special value __`None`__ is returned\n",
        "* __`None`__ is like __`NULL`__ in other languages\n",
        "* acts like __`False`__...but not the same as __`False`__"
      ]
    },
    {
      "cell_type": "code",
      "execution_count": null,
      "metadata": {
        "id": "JOlVVQ3mNstP"
      },
      "outputs": [],
      "source": [
        "retval = noop()\n",
        "print(retval)"
      ]
    },
    {
      "cell_type": "code",
      "execution_count": null,
      "metadata": {
        "id": "UX01Ii3HNstP"
      },
      "outputs": [],
      "source": [
        "# None acts like False...\n",
        "if retval:\n",
        "    print('something')\n",
        "else:\n",
        "    print('nothing')"
      ]
    },
    {
      "cell_type": "markdown",
      "metadata": {
        "id": "KSgXGrI3NstP"
      },
      "source": [
        "<img src=\"https://github.com/gregworks/python-for-data-science/blob/main/images/border.jpg?raw=1\" height=\"10\" width=\"1500\" align=\"center\"/>"
      ]
    },
    {
      "cell_type": "markdown",
      "metadata": {
        "id": "Ys7HXDW4NstQ"
      },
      "source": [
        "## Functions: positional arguments\n",
        "* arguments are passed to functions in order written\n",
        "* downside: you must remember meaning of each position"
      ]
    },
    {
      "cell_type": "code",
      "execution_count": null,
      "metadata": {
        "id": "hRVbGfSXNstQ"
      },
      "outputs": [],
      "source": [
        "def menu(wine, entree, dessert):\n",
        "    return { 'wine': wine, 'entree': entree,\n",
        "            'dessert': dessert }"
      ]
    },
    {
      "cell_type": "markdown",
      "metadata": {
        "id": "aFY6s9nrNstQ"
      },
      "source": [
        "![alt-text](images/IDE.png \"IDE\")\n",
        "* outside an IDE, it can be difficult to remember\n",
        "* if you pass args in wrong order, bad things can happen!"
      ]
    },
    {
      "cell_type": "code",
      "execution_count": null,
      "metadata": {
        "id": "hBivivUBNstQ"
      },
      "outputs": [],
      "source": [
        "menu('chianti', 'tartuffo', 'polenta')"
      ]
    },
    {
      "cell_type": "markdown",
      "metadata": {
        "id": "Am7e2hStNstQ"
      },
      "source": [
        "<img src=\"https://github.com/gregworks/python-for-data-science/blob/main/images/border.jpg?raw=1\" height=\"10\" width=\"1500\" align=\"center\"/>"
      ]
    },
    {
      "cell_type": "markdown",
      "metadata": {
        "id": "DkKRT_KlNstQ"
      },
      "source": [
        "## Functions: keyword arguments\n",
        "* you may specify arguments by name, in any order\n",
        "* once you specify a keyword argument, all arguments following it must be keyword arguments"
      ]
    },
    {
      "cell_type": "code",
      "execution_count": null,
      "metadata": {
        "id": "GVmZ12MWNstQ"
      },
      "outputs": [],
      "source": [
        "# passing some arguments by keyword\n",
        "menu('chianti', dessert='tartufo', entree='polenta')"
      ]
    },
    {
      "cell_type": "code",
      "execution_count": null,
      "metadata": {
        "id": "VkgD4MR7NstR"
      },
      "outputs": [],
      "source": [
        "# passing all arguments by keyword\n",
        "menu(dessert='tartufo', entree='polenta', wine='chianti')"
      ]
    },
    {
      "cell_type": "code",
      "execution_count": null,
      "metadata": {
        "id": "tqg4sAckNstR"
      },
      "outputs": [],
      "source": [
        "# once you start passing arguments by keyword, the rest must be passed by keyword\n",
        "menu('chianti', dessert='tartufo', 'polenta')"
      ]
    },
    {
      "cell_type": "markdown",
      "metadata": {
        "id": "6UTKVjvnNstR"
      },
      "source": [
        "<img src=\"https://github.com/gregworks/python-for-data-science/blob/main/images/border.jpg?raw=1\" height=\"10\" width=\"1500\" align=\"center\"/>"
      ]
    },
    {
      "cell_type": "markdown",
      "metadata": {
        "id": "WhO2V-_ANstR"
      },
      "source": [
        "## Functions: default arguments"
      ]
    },
    {
      "cell_type": "code",
      "execution_count": null,
      "metadata": {
        "id": "4NUdfhF2NstR"
      },
      "outputs": [],
      "source": [
        "def menu(wine, entree, dessert='tartufo'):\n",
        "    return { 'wine': wine, 'entree': entree,\n",
        "            'dessert': dessert }"
      ]
    },
    {
      "cell_type": "code",
      "execution_count": null,
      "metadata": {
        "id": "pLPJplb3NstR"
      },
      "outputs": [],
      "source": [
        "menu('chardonnay', 'braised tofu')"
      ]
    },
    {
      "cell_type": "code",
      "execution_count": null,
      "metadata": {
        "id": "PHHSKg9QNstS"
      },
      "outputs": [],
      "source": [
        "menu('chardonnay', dessert='canoli',\n",
        "     entree='fagioli')"
      ]
    },
    {
      "cell_type": "markdown",
      "metadata": {
        "id": "v93Ulfq0NstS"
      },
      "source": [
        "<img src=\"https://github.com/gregworks/python-for-data-science/blob/main/images/border.jpg?raw=1\" height=\"10\" width=\"1500\" align=\"center\"/>"
      ]
    },
    {
      "cell_type": "markdown",
      "metadata": {
        "id": "wXpIzKlvNstS"
      },
      "source": [
        "## Lab: functions\n",
        "* Write a function __`calculate`__ which is passed two operands and an operator and returns the calculated result, e.g., __`calculate(2, 4, '+')`__ would return 6\n",
        "* Write a function that, given a string, returns True or False whether the string is a pangram\n",
        "* Write a function which takes an integer as a parameter, and sums up its digits. If the resulting sum contains more than 1 digit, the function should sum the digits again, e.g., __`sumdigits(1235)`__ should compute the sum of 1, 2, 3, and 5 (11), then compute the sum of 1 and 1, returning 2.\n",
        "* Write a function which takes a number as a parameter and returns a string version of the number with commas representing thousands, e.g., __`add_commas(12345)`__ would return \"12,345\"\n",
        "* Write a function to demonstrate the Collatz Conjecture:\n",
        "  * for integer n > 1\n",
        "    * if n is even, then __`n = n // 2`__\n",
        "    * if n is odd, then __`n = n * 3 + 1`__\n",
        "  * ...will always converge to 1\n",
        "  * (your function should take n and keep printing new value of n until n is 1)\n"
      ]
    },
    {
      "cell_type": "markdown",
      "metadata": {
        "id": "WBCmPwhuNstS"
      },
      "source": [
        "<img src=\"https://github.com/gregworks/python-for-data-science/blob/main/images/border.jpg?raw=1\" height=\"10\" width=\"1500\" align=\"center\"/>"
      ]
    },
    {
      "cell_type": "markdown",
      "metadata": {
        "id": "qd-8ErO2NstS"
      },
      "source": [
        "## Variable Positional Arguments\n",
        "* sometimes we want a function which takes a variable number of arguments (e.g., builtin __`print()`__ function)"
      ]
    },
    {
      "cell_type": "code",
      "execution_count": null,
      "metadata": {
        "id": "qevXUbSlNstS"
      },
      "outputs": [],
      "source": [
        "def func(*args): # func takes 0 or more arguments\n",
        "    print(args)\n",
        "    for index, arg in enumerate(args):\n",
        "        print('arg', index, 'is', arg)"
      ]
    },
    {
      "cell_type": "code",
      "execution_count": null,
      "metadata": {
        "id": "L1GXJR9uNstS"
      },
      "outputs": [],
      "source": [
        "func()"
      ]
    },
    {
      "cell_type": "code",
      "execution_count": null,
      "metadata": {
        "id": "zHtKcvD9NstT"
      },
      "outputs": [],
      "source": [
        "func(3, 4, 5, [2, 2, 3], {}, 'string')"
      ]
    },
    {
      "cell_type": "code",
      "execution_count": null,
      "metadata": {
        "id": "5VTEbY6KNstT"
      },
      "outputs": [],
      "source": [
        "func({ 'a': 'b'}, [1, 2, 3], 'this', True)"
      ]
    },
    {
      "cell_type": "markdown",
      "metadata": {
        "id": "50_47NN3NstT"
      },
      "source": [
        "<img src=\"https://github.com/gregworks/python-for-data-science/blob/main/images/border.jpg?raw=1\" height=\"10\" width=\"1500\" align=\"center\"/>"
      ]
    },
    {
      "cell_type": "markdown",
      "metadata": {
        "id": "IIqhaQALNstT"
      },
      "source": [
        "## Lab: Variable Positional Arguments\n",
        "* write a function called __`product`__ which accepts a variable number of arguments and returns the product of all of its args. With no args, __`product()`__ should return 1    \n",
        "\n",
        "<pre><b>\n",
        ">>> product(3, 5)\n",
        "15\n",
        ">>> product(1, 2, 3)\n",
        "6\n",
        ">>> product(63, 12, 3, 0, 9)\n",
        "0\n",
        ">>> product()\n",
        "1\n",
        "</b></pre>"
      ]
    },
    {
      "cell_type": "markdown",
      "metadata": {
        "id": "mC7h7BSvNstT"
      },
      "source": [
        "<img src=\"https://github.com/gregworks/python-for-data-science/blob/main/images/border.jpg?raw=1\" height=\"10\" width=\"1500\" align=\"center\"/>"
      ]
    },
    {
      "cell_type": "markdown",
      "metadata": {
        "id": "I_q0jhz2NstT"
      },
      "source": [
        "## Variable Keyword Arguments\n",
        "* what if a function needs a bunch of configuration options, having default values which typically aren't overridden?\n",
        "* one way to do this would be to have the function accept a dict in which these value(s) can be specified\n",
        "* better way is to use variable keywords arguments"
      ]
    },
    {
      "cell_type": "code",
      "execution_count": null,
      "metadata": {
        "id": "O_ghO3RnNstT"
      },
      "outputs": [],
      "source": [
        "def vka(**kwargs):\n",
        "    print(kwargs)\n",
        "    for key in kwargs:\n",
        "        print(key, '=>', kwargs[key])"
      ]
    },
    {
      "cell_type": "code",
      "execution_count": null,
      "metadata": {
        "id": "two1PvilNstT"
      },
      "outputs": [],
      "source": [
        "vka(sep='+', foo='bar', whizbang='rotunda', x=5, debug='hello', color='pink')"
      ]
    },
    {
      "cell_type": "code",
      "execution_count": null,
      "metadata": {
        "id": "eVHeASeZNstU"
      },
      "outputs": [],
      "source": [
        "def weird_func(x, y, z, *args, **kwargs):\n",
        "    print('req args:', x, y, z)\n",
        "    print('var pos args', args)\n",
        "    print('var keywd args', kwargs)\n",
        "    if 'debug' in kwargs:\n",
        "        if kwargs['debug'] == True: # because it could be false\n",
        "            turn_on_debugging = True\n",
        "            # utilize some of *args..."
      ]
    },
    {
      "cell_type": "code",
      "execution_count": null,
      "metadata": {
        "id": "ZmPwAnXaNstU"
      },
      "outputs": [],
      "source": [
        "def weird_func(x, y, z, debug_file=None, debug=False):\n",
        "    print('req args:', x, y, z)\n",
        "    print('var pos args', args)\n",
        "    print('var keywd args', kwargs)"
      ]
    },
    {
      "cell_type": "markdown",
      "metadata": {
        "id": "ieYtO4ZFNstU"
      },
      "source": [
        "<img src=\"https://github.com/gregworks/python-for-data-science/blob/main/images/border.jpg?raw=1\" height=\"10\" width=\"1500\" align=\"center\"/>"
      ]
    },
    {
      "cell_type": "markdown",
      "metadata": {
        "id": "b6fKi5KMNstU"
      },
      "source": [
        "# Lab: Variable Keyword Arguments\n",
        "* modify your __`calculate`__ function by adding variable keywords arguments to it and checking whether __`float = True`__, and if so, the calculation is done as floating point, rather than integer (of course this could be done with a default argument value, but don't do that)\n",
        "\n",
        "<pre><b>\n",
        "calculate(2, 4, '+') = 6\n",
        "calculate(3, 2, '/', float=True) = 1.5\n",
        "</b></pre>"
      ]
    },
    {
      "cell_type": "markdown",
      "metadata": {
        "id": "DmTs54gLNstU"
      },
      "source": [
        "<img src=\"https://github.com/gregworks/python-for-data-science/blob/main/images/border.jpg?raw=1\" height=\"10\" width=\"1500\" align=\"center\"/>"
      ]
    },
    {
      "cell_type": "markdown",
      "metadata": {
        "id": "Ik6dMssXNstU"
      },
      "source": [
        "## Functions: recap\n",
        "* Python encourages functions which support lots of arguments with default values\n",
        "* \"Explicit is better than implicit\"\n",
        "  * arguments can be passed out of order ONLY if they're passed by keyword\n",
        "  * keywords are more explicit than positions because the function call documents the purpose of its arguments\n",
        "* variable positional args (__`*args`__)\n",
        "* variable keyword args (__`**kwargs`__)"
      ]
    },
    {
      "cell_type": "markdown",
      "metadata": {
        "id": "fPvVqRV2NstU"
      },
      "source": [
        "<img src=\"https://github.com/gregworks/python-for-data-science/blob/main/images/border.jpg?raw=1\" height=\"10\" width=\"1500\" align=\"center\"/>"
      ]
    },
    {
      "cell_type": "markdown",
      "metadata": {
        "id": "kG73NU6WNstU"
      },
      "source": [
        "**Exercise: Student Grade Calculator**\n",
        "\n",
        "**Objective:** Create a Python program that calculates the final grades of students based on their exam scores, assignments, and participation.\n",
        "\n",
        "**Instructions:**\n",
        "\n",
        "1. Ask the user for the number of students for whom they want to calculate grades.\n",
        "2. For each student, do the following:\n",
        "   - Prompt the user for the student's name.\n",
        "   - Prompt the user for the student's exam score (out of 100).\n",
        "   - Prompt the user for the total assignment score (out of 100).\n",
        "   - Prompt the user for the participation score (out of 100).\n",
        "3. Calculate the final grade for each student using the following formula:\n",
        "   - Final Grade = (Exam Score * 0.4) + (Assignment Score * 0.3) + (Participation Score * 0.3)\n",
        "4. Print out the final grades for all students.\n",
        "\n",
        "**Tips:**\n",
        "\n",
        "- Use a loop to iterate through each student's data.\n",
        "- Create variables to store the student's name, exam score, assignment score, and participation score.\n",
        "- Define a function to calculate the final grade.\n",
        "- Use `input()` to get user input and convert the input to the appropriate data types.\n",
        "- Use control flow (if statements) to ensure that user inputs are within the valid range (0-100).\n",
        "- Display the final grades for each student after all data is collected.\n",
        "\n",
        "This exercise will help your students practice creating variables, using operators and functions, and implementing control flow in Python while working with data. It's a simple example of data manipulation that can be a foundation for more complex data science tasks later on.\n",
        "\n",
        "\n",
        "<!-- def calculate_final_grade(exam_score, assignment_score, participation_score):\n",
        "    # Calculate the final grade using the given formula\n",
        "    final_grade = (exam_score * 0.4) + (assignment_score * 0.3) + (participation_score * 0.3)\n",
        "    return final_grade\n",
        "\n",
        "# Prompt the user for the number of students\n",
        "num_students = int(input(\"Enter the number of students: \"))\n",
        "\n",
        "# Initialize a list to store student data\n",
        "student_data = []\n",
        "\n",
        "# Loop through each student\n",
        "for i in range(num_students):\n",
        "    print(f\"\\nStudent {i + 1}:\")\n",
        "    \n",
        "    # Prompt for student name\n",
        "    student_name = input(\"Enter student name: \")\n",
        "    \n",
        "    # Prompt for exam score, assignment score, and participation score\n",
        "    exam_score = float(input(\"Enter exam score (out of 100): \"))\n",
        "    assignment_score = float(input(\"Enter assignment score (out of 100): \"))\n",
        "    participation_score = float(input(\"Enter participation score (out of 100): \"))\n",
        "    \n",
        "    # Ensure scores are within the valid range (0-100)\n",
        "    if 0 <= exam_score <= 100 and 0 <= assignment_score <= 100 and 0 <= participation_score <= 100:\n",
        "        final_grade = calculate_final_grade(exam_score, assignment_score, participation_score)\n",
        "        \n",
        "        # Store student data\n",
        "        student_data.append((student_name, final_grade))\n",
        "    else:\n",
        "        print(\"Invalid input. Scores must be between 0 and 100.\")\n",
        "\n",
        "# Display the final grades for all students\n",
        "print(\"\\nFinal Grades:\")\n",
        "for student_name, final_grade in student_data:\n",
        "    print(f\"{student_name}: {final_grade:.2f}\") -->\n"
      ]
    }
  ],
  "metadata": {
    "kernelspec": {
      "display_name": "Python 3",
      "language": "python",
      "name": "python3"
    },
    "language_info": {
      "codemirror_mode": {
        "name": "ipython",
        "version": 3
      },
      "file_extension": ".py",
      "mimetype": "text/x-python",
      "name": "python",
      "nbconvert_exporter": "python",
      "pygments_lexer": "ipython3",
      "version": "3.7.6"
    },
    "vscode": {
      "interpreter": {
        "hash": "b0fa6594d8f4cbf19f97940f81e996739fb7646882a419484c72d19e05852a7e"
      }
    },
    "colab": {
      "provenance": [],
      "include_colab_link": true
    }
  },
  "nbformat": 4,
  "nbformat_minor": 0
}